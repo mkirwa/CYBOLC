{
 "cells": [
  {
   "cell_type": "code",
   "execution_count": 21,
   "metadata": {},
   "outputs": [
    {
     "data": {
      "text/plain": [
       "'strategy on masterpiece a as accepted is it'"
      ]
     },
     "execution_count": 21,
     "metadata": {},
     "output_type": "execute_result"
    }
   ],
   "source": [
    "############### 01 - MIRROR - ###############\n",
    "def q1(sentence):\n",
    "    list_sentece = list(sentence.split())\n",
    "    list_sentece.reverse()\n",
    "    return ' '.join(list_sentece)\n",
    "   \n",
    "\n",
    "string_one = 'it is accepted as a masterpiece on strategy'\n",
    "q1(string_one)\n"
   ]
  },
  {
   "cell_type": "code",
   "execution_count": 18,
   "metadata": {},
   "outputs": [
    {
     "name": "stdout",
     "output_type": "stream",
     "text": [
      "Error has been detected\n",
      "No errors detected\n",
      "operations are complete\n"
     ]
    }
   ],
   "source": [
    "\n",
    "try:\n",
    "    new_string = int('abc')\n",
    "except ValueError:\n",
    "    print('Error has been detected')\n",
    "try: \n",
    "    new_integer = int('123')\n",
    "except ValueError:\n",
    "    print('Error has been detected')\n",
    "else:\n",
    "    print('No errors detected')\n",
    "finally:\n",
    "    print('operations are complete')\n"
   ]
  },
  {
   "cell_type": "code",
   "execution_count": 23,
   "metadata": {},
   "outputs": [
    {
     "name": "stdout",
     "output_type": "stream",
     "text": [
      "[9, 8, 5, 4, 3, 1]\n"
     ]
    }
   ],
   "source": [
    "def q1(lst0, lst1):\n",
    "    #list_1 = list(lst0)\n",
    "    new_list = lst0 + lst1\n",
    "    #list_2 = list(lst1)\n",
    "    #list_2.sort()\n",
    "    new_list.sort(reverse=True)\n",
    "    return new_list\n",
    "\n",
    "print(q1( [3,4,9],[8,1,5] ))"
   ]
  },
  {
   "cell_type": "code",
   "execution_count": 27,
   "metadata": {},
   "outputs": [
    {
     "name": "stdout",
     "output_type": "stream",
     "text": [
      "GO\n"
     ]
    }
   ],
   "source": [
    "temp = list(range(20,31))\n",
    "\n",
    "def q1(s1,s2,s3):\n",
    "    if (s1>=0 and s1<=100) and (s2>=0 and s2<=100) and (s3>=0 and s3<=100):\n",
    "        total = (s1+s2+s3)/3\n",
    "\n",
    "        if total>50:\n",
    "            return 'GO'\n",
    "        else:\n",
    "            return 'NOGO'\n",
    "\n",
    "print(q1(55,50,65))\n"
   ]
  },
  {
   "cell_type": "code",
   "execution_count": 30,
   "metadata": {},
   "outputs": [
    {
     "name": "stdout",
     "output_type": "stream",
     "text": [
      "['9', '7']\n",
      "97\n"
     ]
    },
    {
     "data": {
      "text/plain": [
       "'a'"
      ]
     },
     "execution_count": 30,
     "metadata": {},
     "output_type": "execute_result"
    }
   ],
   "source": [
    "def q1(strng):\n",
    "    # Step 1: Extract all the digits from the string.\n",
    "    digits = []\n",
    "    for char in strng:\n",
    "        if char.isdigit():\n",
    "            digits.append(char)\n",
    "\n",
    "    print(digits)\n",
    "    # Step 2: Concatenate them to form a new number.\n",
    "    number_str = \"\"\n",
    "    for digit in digits:\n",
    "        number_str += digit\n",
    "\n",
    "    print(number_str)\n",
    "    \n",
    "    # Step 3: Convert this number to an integer.\n",
    "    ascii_val = int(number_str)\n",
    "\n",
    "    # Step 4: Use the `chr` function to get the character with the ASCII value of that integer.\n",
    "    result_char = chr(ascii_val)\n",
    "\n",
    "    return result_char\n",
    "\n",
    "\n",
    "q1('hell9oworld7')"
   ]
  },
  {
   "cell_type": "code",
   "execution_count": 34,
   "metadata": {},
   "outputs": [
    {
     "name": "stdout",
     "output_type": "stream",
     "text": [
      "[0, 6, 12, 18, 24, 30]\n"
     ]
    }
   ],
   "source": [
    "def q1(integer, limit):\n",
    "    list_integers = []\n",
    "    for i in range(0, limit + 1):\n",
    "        if i%2==0 and i%integer==0:\n",
    "            list_integers.append(i)\n",
    "    return list_integers\n",
    "\n",
    "print(q1(3, 30))"
   ]
  },
  {
   "cell_type": "code",
   "execution_count": 41,
   "metadata": {},
   "outputs": [
    {
     "data": {
      "text/plain": [
       "[1, 3]"
      ]
     },
     "execution_count": 41,
     "metadata": {},
     "output_type": "execute_result"
    }
   ],
   "source": [
    "\n",
    "def q1(f0, f1):\n",
    "    differences_list = []\n",
    "    \n",
    "    with open(f0,'r') as file_1, open(f1,'r') as file_2:\n",
    "        lines_1 = file_1.readlines()\n",
    "        lines_2 = file_2.readlines()\n",
    "    \n",
    "    len_1 = len(lines_1)\n",
    "    len_2 = len(lines_2)\n",
    "\n",
    "    if len_1>len_2:\n",
    "        for i in range(len_1):\n",
    "            if lines_1[i]!=lines_2[i]:\n",
    "                differences_list.append(i)\n",
    "    elif len_2<len_1:\n",
    "        for i in range(len_2):\n",
    "            if lines_1[i]!=lines_2[i]:\n",
    "                differences_list.append(i)\n",
    "    else:\n",
    "        for i in range(len_1):\n",
    "            if lines_1[i]!=lines_2[i]:\n",
    "                differences_list.append(i)\n",
    "    \n",
    "    return differences_list\n",
    "\n",
    "file_1 = 'copy.txt'\n",
    "file_2 = 'copy1.txt'\n",
    "\n",
    "q1(file_1,file_2)"
   ]
  },
  {
   "cell_type": "code",
   "execution_count": 61,
   "metadata": {},
   "outputs": [
    {
     "name": "stdout",
     "output_type": "stream",
     "text": [
      "7\n"
     ]
    }
   ],
   "source": [
    "def q1(lst):\n",
    "    new_set = set()\n",
    "\n",
    "    for number in lst:\n",
    "        if number in new_set:\n",
    "            return number\n",
    "        new_set.add(number)\n",
    "   \n",
    "    return new_set\n",
    "\n",
    "\n",
    "set1= [5,7,9,1,3,7,9,5]\n",
    "print(q1(set1))"
   ]
  },
  {
   "cell_type": "code",
   "execution_count": 71,
   "metadata": {},
   "outputs": [
    {
     "data": {
      "text/plain": [
       "'M'"
      ]
     },
     "execution_count": 71,
     "metadata": {},
     "output_type": "execute_result"
    }
   ],
   "source": [
    "\n",
    "def q1(strng):\n",
    "    list_temp = []\n",
    "    for word in strng.split(\" \"):\n",
    "        list_temp.append(word)\n",
    "        \n",
    "    res = min(len(ele) for ele in list_temp) \n",
    "    return res\n",
    "sentence = 'Name my Mahlon'\n",
    "q1(sentence)"
   ]
  }
 ],
 "metadata": {
  "kernelspec": {
   "display_name": "Python 3",
   "language": "python",
   "name": "python3"
  },
  "language_info": {
   "codemirror_mode": {
    "name": "ipython",
    "version": 3
   },
   "file_extension": ".py",
   "mimetype": "text/x-python",
   "name": "python",
   "nbconvert_exporter": "python",
   "pygments_lexer": "ipython3",
   "version": "3.8.10"
  }
 },
 "nbformat": 4,
 "nbformat_minor": 2
}
