{
 "cells": [
  {
   "cell_type": "markdown",
   "metadata": {},
   "source": [
    "Notes for class"
   ]
  },
  {
   "cell_type": "code",
   "execution_count": 266,
   "metadata": {},
   "outputs": [
    {
     "data": {
      "text/plain": [
       "'🂡'"
      ]
     },
     "execution_count": 266,
     "metadata": {},
     "output_type": "execute_result"
    }
   ],
   "source": [
    "'\\U0001F0A1'\n"
   ]
  },
  {
   "cell_type": "code",
   "execution_count": 267,
   "metadata": {},
   "outputs": [
    {
     "data": {
      "text/plain": [
       "'\\x80abc'"
      ]
     },
     "execution_count": 267,
     "metadata": {},
     "output_type": "execute_result"
    }
   ],
   "source": [
    "'\\x80abc'"
   ]
  },
  {
   "cell_type": "code",
   "execution_count": 268,
   "metadata": {},
   "outputs": [
    {
     "data": {
      "text/plain": [
       "list"
      ]
     },
     "execution_count": 268,
     "metadata": {},
     "output_type": "execute_result"
    }
   ],
   "source": [
    "[1,2,3,4,5,6,7,1.55656,'word1','word2',True,False]\n",
    "type([1,2,3,4,5,6,7,1.55656,'word1','word2',True,False])"
   ]
  },
  {
   "cell_type": "code",
   "execution_count": 269,
   "metadata": {},
   "outputs": [
    {
     "data": {
      "text/plain": [
       "tuple"
      ]
     },
     "execution_count": 269,
     "metadata": {},
     "output_type": "execute_result"
    }
   ],
   "source": [
    "(1,2,3,4,5,6,7,1.55656,'word1','word2',True,False)\n",
    "type((1,2,3,4,5,6,7,1.55656,'word1','word2',True,False))"
   ]
  },
  {
   "cell_type": "code",
   "execution_count": 270,
   "metadata": {},
   "outputs": [
    {
     "data": {
      "text/plain": [
       "[1, 2, 3, 'null', 1, 2, 3, 'null', 1, 2, 3, 'null']"
      ]
     },
     "execution_count": 270,
     "metadata": {},
     "output_type": "execute_result"
    }
   ],
   "source": [
    "'abc ' * 5\n",
    "\n",
    "3 * [1,2,3, 'null' ]"
   ]
  },
  {
   "cell_type": "code",
   "execution_count": 271,
   "metadata": {},
   "outputs": [],
   "source": [
    "a = 4"
   ]
  },
  {
   "cell_type": "code",
   "execution_count": 272,
   "metadata": {},
   "outputs": [],
   "source": [
    "hello = 'hello'\n",
    "is_python_awesome = True\n",
    "days_in_python = 6\n",
    "pie_size = 3.14"
   ]
  },
  {
   "cell_type": "code",
   "execution_count": 273,
   "metadata": {},
   "outputs": [
    {
     "name": "stdout",
     "output_type": "stream",
     "text": [
      "9793184\n",
      "139681227994832\n"
     ]
    }
   ],
   "source": [
    "a = 4\n",
    "b = 3.2\n",
    "\n",
    "print(id(a))\n",
    "id(b)\n",
    "\n",
    "a= a + b\n",
    "print(id(a))"
   ]
  },
  {
   "cell_type": "code",
   "execution_count": 274,
   "metadata": {},
   "outputs": [
    {
     "name": "stdout",
     "output_type": "stream",
     "text": [
      "Accessing the last element 4\n",
      "Before change the id is:  139681222802112\n",
      "[9, 2, 3, 4]\n",
      "After Change the id is:  139681222802112\n"
     ]
    }
   ],
   "source": [
    "a = [1,2,3,4]\n",
    "\n",
    "print(\"Accessing the last element\", a[-1])\n",
    "\n",
    "\n",
    "\n",
    "print(\"Before change the id is: \",id(a))\n",
    "a[0] = 9\n",
    "print(a)\n",
    "print(\"After Change the id is: \",id(a))"
   ]
  },
  {
   "cell_type": "code",
   "execution_count": 275,
   "metadata": {},
   "outputs": [
    {
     "name": "stdout",
     "output_type": "stream",
     "text": [
      "7\n"
     ]
    }
   ],
   "source": [
    "b = [1,2,[7,8,9]]\n",
    "\n",
    "print(b[-1][0])"
   ]
  },
  {
   "cell_type": "code",
   "execution_count": 1,
   "metadata": {},
   "outputs": [
    {
     "name": "stdout",
     "output_type": "stream",
     "text": [
      "w\n",
      "3\n"
     ]
    }
   ],
   "source": [
    "c = [1,2,1,1,3,'word']\n",
    "print(c[-1][0])\n",
    "\n",
    "print(c.count(1))\n",
    "\n"
   ]
  },
  {
   "cell_type": "code",
   "execution_count": 2,
   "metadata": {},
   "outputs": [
    {
     "name": "stdout",
     "output_type": "stream",
     "text": [
      "o\n"
     ]
    }
   ],
   "source": [
    "c = [1,2,1,1,3,'word']\n",
    "print(c[-1][1])"
   ]
  },
  {
   "cell_type": "code",
   "execution_count": 277,
   "metadata": {},
   "outputs": [
    {
     "name": "stdout",
     "output_type": "stream",
     "text": [
      "Changed to a list:  [1, 2, 3, 4]\n",
      "Change to a tuple:  (9, 2, 3, 4)\n"
     ]
    }
   ],
   "source": [
    "t = (1,2,3,4)\n",
    "\n",
    "# Change to a list\n",
    "t = list(t)\n",
    "print(\"Changed to a list: \",t)\n",
    "t[0]=9\n",
    "\n",
    "# Change to back to a tuple\n",
    "t = tuple(t)\n",
    "print(\"Change to a tuple: \",t)"
   ]
  },
  {
   "cell_type": "code",
   "execution_count": 278,
   "metadata": {},
   "outputs": [
    {
     "data": {
      "text/plain": [
       "8.2"
      ]
     },
     "execution_count": 278,
     "metadata": {},
     "output_type": "execute_result"
    }
   ],
   "source": [
    "a = 2\n",
    "b = '6.2'\n",
    "\n",
    "a + float(b)\n"
   ]
  },
  {
   "cell_type": "code",
   "execution_count": 279,
   "metadata": {},
   "outputs": [
    {
     "ename": "TypeError",
     "evalue": "str() takes no arguments",
     "output_type": "error",
     "traceback": [
      "\u001b[0;31m---------------------------------------------------------------------------\u001b[0m",
      "\u001b[0;31mTypeError\u001b[0m                                 Traceback (most recent call last)",
      "\u001b[1;32m/home/mahlon.k.kirwa80/Desktop/PythonProgrammingClass/CYBOLC/class_notes.ipynb Cell 17\u001b[0m line \u001b[0;36m8\n\u001b[1;32m      <a href='vscode-notebook-cell:/home/mahlon.k.kirwa80/Desktop/PythonProgrammingClass/CYBOLC/class_notes.ipynb#X22sZmlsZQ%3D%3D?line=4'>5</a>\u001b[0m pi_4 \u001b[39m=\u001b[39m \u001b[39mfloat\u001b[39m(\u001b[39m\"\u001b[39m\u001b[39m3.1415\u001b[39m\u001b[39m\"\u001b[39m)\n\u001b[1;32m      <a href='vscode-notebook-cell:/home/mahlon.k.kirwa80/Desktop/PythonProgrammingClass/CYBOLC/class_notes.ipynb#X22sZmlsZQ%3D%3D?line=6'>7</a>\u001b[0m hours_str \u001b[39m=\u001b[39m \u001b[39m40\u001b[39m\n\u001b[0;32m----> <a href='vscode-notebook-cell:/home/mahlon.k.kirwa80/Desktop/PythonProgrammingClass/CYBOLC/class_notes.ipynb#X22sZmlsZQ%3D%3D?line=7'>8</a>\u001b[0m hours_str \u001b[39m=\u001b[39m \u001b[39mstr\u001b[39;49m(\u001b[39m40\u001b[39;49m)\n\u001b[1;32m     <a href='vscode-notebook-cell:/home/mahlon.k.kirwa80/Desktop/PythonProgrammingClass/CYBOLC/class_notes.ipynb#X22sZmlsZQ%3D%3D?line=9'>10</a>\u001b[0m hourly_rate \u001b[39m=\u001b[39m \u001b[39m15\u001b[39m\n\u001b[1;32m     <a href='vscode-notebook-cell:/home/mahlon.k.kirwa80/Desktop/PythonProgrammingClass/CYBOLC/class_notes.ipynb#X22sZmlsZQ%3D%3D?line=10'>11</a>\u001b[0m hourly_rate \u001b[39m=\u001b[39m \u001b[39mfloat\u001b[39m(\u001b[39m15\u001b[39m)\n",
      "\u001b[0;31mTypeError\u001b[0m: str() takes no arguments"
     ]
    }
   ],
   "source": [
    "int_input = '345'\n",
    "int_input = int(345)\n",
    "\n",
    "pi_4 = 3.1415\n",
    "pi_4 = float(\"3.1415\")\n",
    "\n",
    "hours_str = 40\n",
    "hours_str = str(40)\n",
    "\n",
    "hourly_rate = 15\n",
    "hourly_rate = float(15)\n",
    "\n",
    "\n"
   ]
  },
  {
   "cell_type": "code",
   "execution_count": null,
   "metadata": {},
   "outputs": [],
   "source": [
    "int_input = int(\"345\")\n",
    "pi_4 = float(\"3.1415\")\n",
    "hours_str = str(40)\n",
    "hourly_rate = float(15)"
   ]
  },
  {
   "cell_type": "code",
   "execution_count": null,
   "metadata": {},
   "outputs": [
    {
     "name": "stdout",
     "output_type": "stream",
     "text": [
      "Hello Albert. How are you today?\n",
      "Hello Albert. How are you today\n",
      "String Formated to 2 decimal places: PI = 3.14\n"
     ]
    }
   ],
   "source": [
    "fname = 'Albert'\n",
    "day = \"today\"\n",
    "\n",
    "sentence = \"Hello {}. How are you {}?\".format(fname,day)\n",
    "print(sentence)\n",
    "\n",
    "sentence = f'Hello {fname}. How are you {day}'\n",
    "print(sentence)\n",
    "\n",
    "PI = 3.14159265359\n",
    "trim = f'String Formated to 2 decimal places: PI = {PI:.2f}'\n",
    "print(trim)"
   ]
  },
  {
   "cell_type": "code",
   "execution_count": null,
   "metadata": {},
   "outputs": [
    {
     "name": "stdout",
     "output_type": "stream",
     "text": [
      "['Hello', 'World']\n",
      "['Hello', 'World', 'Water', 'Mark']\n",
      "['Hell', ' W', 'rld']\n",
      "['syslog', 'x', '104', '110', '', '/home/syslog', '/usr/sbin/nologin']\n",
      "110\n",
      "['syslog', 'x', '104']\n",
      "['h', 'e', 'l', 'l', 'o']\n",
      "jello\n"
     ]
    }
   ],
   "source": [
    "string = \"Hello World\"\n",
    "print(string.split())\n",
    "\n",
    "string = \"Hello:World:Water:Mark\"\n",
    "print(string.split(':'))\n",
    "\n",
    "string = \"Hello World\"\n",
    "print(string.split('o'))\n",
    "\n",
    "userline = 'syslog:x:104:110::/home/syslog:/usr/sbin/nologin'\n",
    "print(userline.split(':'))\n",
    "print(userline.split(':')[3])\n",
    "print(userline.split(':')[:3])\n",
    "\n",
    "\n",
    "s = 'hello'\n",
    "#s = s + 'j'\n",
    "#print(s)\n",
    "\n",
    "s_list = list(s)\n",
    "\n",
    "print(s_list)\n",
    "s_list[0] = 'j'\n",
    "s = ''.join(s_list)\n",
    "print(s)"
   ]
  },
  {
   "cell_type": "code",
   "execution_count": null,
   "metadata": {},
   "outputs": [
    {
     "data": {
      "text/plain": [
       "'Word'"
      ]
     },
     "execution_count": 119,
     "metadata": {},
     "output_type": "execute_result"
    }
   ],
   "source": [
    "'word'.capitalize()"
   ]
  },
  {
   "cell_type": "code",
   "execution_count": null,
   "metadata": {},
   "outputs": [
    {
     "name": "stdout",
     "output_type": "stream",
     "text": [
      "False\n",
      "True\n",
      "True\n",
      "False\n",
      "ward ane\n",
      "ward one\n"
     ]
    }
   ],
   "source": [
    "print('word' == 'Word')\n",
    "print('word' == 'Word'.casefold())\n",
    "print('word'.isalpha())\n",
    "print('5'.isalpha())\n",
    "print('word one'.replace('o','a')) # replace 0 with a\n",
    "print('word one'.replace('o','a',1)) # replace 0 with a. Do the replacement just once \n",
    "\n",
    "\n"
   ]
  },
  {
   "cell_type": "code",
   "execution_count": null,
   "metadata": {},
   "outputs": [],
   "source": [
    "# va split(\" \")\n",
    "# \" \".join(var)"
   ]
  },
  {
   "cell_type": "code",
   "execution_count": null,
   "metadata": {},
   "outputs": [
    {
     "name": "stdout",
     "output_type": "stream",
     "text": [
      "1.5\n",
      "1\n",
      "8\n"
     ]
    }
   ],
   "source": [
    "a = 3\n",
    "b = 2\n",
    "\n",
    "print(a/b) # Gives you the float division \n",
    "print(a//b) # gives the integer division\n",
    "\n",
    "print(b ** a ) # Gives the exponential \n"
   ]
  },
  {
   "cell_type": "code",
   "execution_count": null,
   "metadata": {},
   "outputs": [],
   "source": [
    "x = 16\n",
    "y = 3\n",
    "xysum = x + y\n",
    "xydiff = x - y \n",
    "xyprod = x * y \n",
    "xyquo = x / y \n",
    "xyintquo = x // y \n",
    "xymod = x % y "
   ]
  },
  {
   "cell_type": "code",
   "execution_count": null,
   "metadata": {},
   "outputs": [
    {
     "name": "stdout",
     "output_type": "stream",
     "text": [
      "Hello Jerry! Sir, will you be arriving by noon?\n"
     ]
    }
   ],
   "source": [
    "\n",
    "\n",
    "name='Jerry'\n",
    "greeting='Sir'\n",
    "time='noon'\n",
    "output = f'Hello {name}! {greeting}, will you be arriving by {time}?'\n",
    "\n"
   ]
  },
  {
   "cell_type": "code",
   "execution_count": 5,
   "metadata": {},
   "outputs": [
    {
     "name": "stdout",
     "output_type": "stream",
     "text": [
      "f,o,o,d, ,f,o,r, ,a,l,?\n"
     ]
    }
   ],
   "source": [
    "sentence = 'good for all'\n",
    "sent_list = list(sentence)\n",
    "sent_list[0] = 'f'\n",
    "sent_list[-1] = '?'\n",
    "output = str(','.join(sent_list))\n",
    "print(output)\n"
   ]
  },
  {
   "cell_type": "code",
   "execution_count": null,
   "metadata": {},
   "outputs": [
    {
     "name": "stdout",
     "output_type": "stream",
     "text": [
      "hello world\n"
     ]
    }
   ],
   "source": [
    "print('hello world')"
   ]
  },
  {
   "cell_type": "code",
   "execution_count": 6,
   "metadata": {},
   "outputs": [],
   "source": [
    "#string = \"Hello World\"\n",
    "#print(string.split('o'))\n",
    "\n",
    "#email = \"alan.m.turing@genius.com\"\n",
    "#email.split('.')[:2]\n",
    "\n",
    "#email.split('@')[3]\n",
    "#email.split('.')[3:]\n",
    "\n",
    "#print(email.split(''))\n",
    "\n",
    "#lst= list(email)\n",
    "#lst = ['alan','m','turing', 'genius', 'com']\n",
    "#print(lst)\n",
    "\n",
    "\n",
    "\n"
   ]
  },
  {
   "cell_type": "code",
   "execution_count": 9,
   "metadata": {},
   "outputs": [
    {
     "name": "stdout",
     "output_type": "stream",
     "text": [
      "['alan', 'm', 'turing', 'genius', 'com']\n"
     ]
    }
   ],
   "source": [
    "email = 'alan.m.turing@genius.com'\n",
    "temp = email.split('.')\n",
    "temp2 = '@'.join(temp)\n",
    "lst = temp2.split('@')\n",
    "print(lst)"
   ]
  },
  {
   "cell_type": "code",
   "execution_count": null,
   "metadata": {},
   "outputs": [
    {
     "name": "stdout",
     "output_type": "stream",
     "text": [
      "hello world\n"
     ]
    }
   ],
   "source": [
    "\n",
    "print(\"hello world\")"
   ]
  },
  {
   "cell_type": "code",
   "execution_count": null,
   "metadata": {},
   "outputs": [
    {
     "name": "stdout",
     "output_type": "stream",
     "text": [
      "min+us\n"
     ]
    }
   ],
   "source": [
    "#Read multiple numbers separated by spaces on the same line from the user.\n",
    "#Change all spaces to a plus sign.\n",
    "#Print the resulting string to the user.\n",
    "#Read multiple numbers separated by spaces on the same line from the user.\n",
    "#Change all spaces to a plus sign.\n",
    "#Print the resulting string to the user.\n",
    "numbers = input()\n",
    "numbers = numbers.replace(' ','+')\n",
    "print(numbers)\n"
   ]
  },
  {
   "cell_type": "code",
   "execution_count": null,
   "metadata": {},
   "outputs": [
    {
     "name": "stdout",
     "output_type": "stream",
     "text": [
      "hello world : hello whatever world\n",
      "words\n",
      "more words\n",
      "Var is: hello, var2 is: world\n"
     ]
    }
   ],
   "source": [
    "var = \"hello\"\n",
    "var2 = \"world\"\n",
    "print(var,var2,end=\" : \")\n",
    "print(var,var2,sep=\" whatever \")\n",
    "print('words'); print('more words')\n",
    "print(f'Var is: {var}, var2 is: {var2}')\n",
    "\n",
    "# CONTROL QUESTION MARK highlights multiple lines together. "
   ]
  },
  {
   "cell_type": "code",
   "execution_count": null,
   "metadata": {},
   "outputs": [
    {
     "name": "stdout",
     "output_type": "stream",
     "text": [
      "The answer will be:  12\n"
     ]
    }
   ],
   "source": [
    "num1 = int(input(\"Enter the first number: \"))\n",
    "num2 = int(input(\"Enter the second number: \"))\n",
    "answer = num1 + num2\n",
    "print(\"The answer will be: \",answer)"
   ]
  },
  {
   "cell_type": "code",
   "execution_count": null,
   "metadata": {},
   "outputs": [
    {
     "name": "stdout",
     "output_type": "stream",
     "text": [
      "i want this lower case\n",
      "I WANT THIS UPPER CASE\n"
     ]
    }
   ],
   "source": [
    "print('I WANT THIS LOWER CASE'.lower())\n",
    "print('i want this upper case'.upper())"
   ]
  },
  {
   "cell_type": "code",
   "execution_count": null,
   "metadata": {},
   "outputs": [
    {
     "name": "stdout",
     "output_type": "stream",
     "text": [
      "25\n"
     ]
    }
   ],
   "source": [
    "def multiply():\n",
    "    number1 = int(input('number 1: '))\n",
    "    number2 = int(input('number 2: '))\n",
    "    return number1 * number2\n",
    "\n",
    "print(multiply())"
   ]
  },
  {
   "cell_type": "code",
   "execution_count": null,
   "metadata": {},
   "outputs": [
    {
     "data": {
      "text/plain": [
       "'Hi you'"
      ]
     },
     "execution_count": 32,
     "metadata": {},
     "output_type": "execute_result"
    }
   ],
   "source": [
    "def multiply(number1, number2):\n",
    "    return number1 + number2\n",
    "\n",
    "multiply('Hi ','you')"
   ]
  },
  {
   "cell_type": "code",
   "execution_count": null,
   "metadata": {},
   "outputs": [
    {
     "name": "stdout",
     "output_type": "stream",
     "text": [
      "Positive Odd\n"
     ]
    }
   ],
   "source": [
    "num = int(input())\n",
    "if num%2==0 and num<0:\n",
    "    print(\"Negative Even\")\n",
    "elif num%2==0 and num>0: \n",
    "    print(\"Positive Even\")\n",
    "elif num==0: \n",
    "    print(\"Zero\")\n",
    "elif num%2!=0 and num>0: \n",
    "    print(\"Positive Odd\")\n",
    "elif num%2!=0 and num<0: \n",
    "    print(\"Negative Odd\")\n"
   ]
  },
  {
   "cell_type": "code",
   "execution_count": null,
   "metadata": {},
   "outputs": [
    {
     "name": "stdout",
     "output_type": "stream",
     "text": [
      "buzz\n"
     ]
    }
   ],
   "source": [
    "num = int(input())\n",
    "if(num%3!=0):\n",
    "    print('fizz')\n",
    "elif (num%5!=0):\n",
    "    print('buzz')\n",
    "elif (num%3!=0 and num%5!=0):\n",
    "    print('fizzbuzz')"
   ]
  },
  {
   "cell_type": "code",
   "execution_count": null,
   "metadata": {},
   "outputs": [],
   "source": [
    "def reverseit():\n",
    "    while True:\n",
    "        word=input()"
   ]
  },
  {
   "cell_type": "code",
   "execution_count": 10,
   "metadata": {},
   "outputs": [
    {
     "name": "stdout",
     "output_type": "stream",
     "text": [
      "too low\n",
      "too low\n",
      "too high\n",
      "too low\n",
      "too high\n",
      "too high\n",
      "too high\n",
      "too high\n",
      "too low\n",
      "too high\n",
      "too low\n",
      "WIN\n"
     ]
    }
   ],
   "source": [
    "def guess_number(n):\n",
    "\n",
    "    temp = True\n",
    "    while temp:\n",
    "        num = int(input())\n",
    "        if num==n:\n",
    "            print('WIN')\n",
    "            temp = False\n",
    "        elif num>n:\n",
    "            print('too high')\n",
    "        elif num<n:\n",
    "            print('too low')\n",
    "\n",
    "guess_number(23)\n",
    "\n",
    "\n"
   ]
  },
  {
   "cell_type": "code",
   "execution_count": 12,
   "metadata": {},
   "outputs": [
    {
     "name": "stdout",
     "output_type": "stream",
     "text": [
      "WIN\n"
     ]
    }
   ],
   "source": [
    "def guess_number(n):\n",
    "    num = int(input())\n",
    "    if num>=0 and num<=100:\n",
    "        print('WIN')\n",
    "        return\n",
    "    elif num>100:\n",
    "        print('too high')\n",
    "    elif num<0:\n",
    "        print('too low')\n",
    "\n",
    "guess_number(23)\n",
    "\n",
    "\n"
   ]
  },
  {
   "cell_type": "code",
   "execution_count": null,
   "metadata": {},
   "outputs": [
    {
     "name": "stdout",
     "output_type": "stream",
     "text": [
      "s\n",
      "s\n",
      "a\n",
      "p\n",
      "s\n",
      "e\n",
      "r\n",
      "t\n"
     ]
    }
   ],
   "source": [
    "word=\"trespass\"\n",
    "\n",
    "for i in range(len(word)):\n",
    "    print(word[-i-1])\n",
    "\n",
    "\n"
   ]
  },
  {
   "cell_type": "code",
   "execution_count": null,
   "metadata": {},
   "outputs": [
    {
     "name": "stdout",
     "output_type": "stream",
     "text": [
      "dcba dcba\n",
      "dcba dcba\n"
     ]
    },
    {
     "data": {
      "text/plain": [
       "['dcba dcba', 'dcba dcba']"
      ]
     },
     "execution_count": 104,
     "metadata": {},
     "output_type": "execute_result"
    }
   ],
   "source": [
    "def reverseit():\n",
    "    word2 = []\n",
    "    word4 = []\n",
    "    while True:\n",
    "        word = input()\n",
    "        if not word:\n",
    "            break\n",
    "\n",
    "        for i in range(len(word)):\n",
    "            word2.append(word[-i-1])\n",
    "\n",
    "        \n",
    "        word3 = ''.join(word2)\n",
    "        print(word3)\n",
    "        word4.append(word3)\n",
    "\n",
    "        word2.clear()\n",
    "        \n",
    "    return word4\n",
    "            \n"
   ]
  },
  {
   "cell_type": "code",
   "execution_count": null,
   "metadata": {},
   "outputs": [
    {
     "name": "stdout",
     "output_type": "stream",
     "text": [
      "['cba', 'cba', 'cba']\n"
     ]
    }
   ],
   "source": [
    "def reverseit():\n",
    "    word2 = []\n",
    "    while True:\n",
    "        word = list(input())\n",
    "        if not word:\n",
    "            break\n",
    "        word.reverse()\n",
    "        word2.append(''.join(word))\n",
    "    print(word2)\n",
    "\n",
    "reverseit()"
   ]
  },
  {
   "cell_type": "code",
   "execution_count": null,
   "metadata": {},
   "outputs": [
    {
     "name": "stdout",
     "output_type": "stream",
     "text": [
      "elephant\n",
      "['e', 'l', 'e', 'p', 'h', 'a', 'n', 't']\n",
      "['t', 'n', 'a', 'h', 'p', 'e', 'l', 'e']\n"
     ]
    }
   ],
   "source": [
    "nametemp = \"elephant\"\n",
    "print(nametemp)\n",
    "nametempnew = list(nametemp)\n",
    "print(nametempnew)\n",
    "nametempnew.reverse()\n",
    "print(nametempnew)"
   ]
  },
  {
   "cell_type": "code",
   "execution_count": 14,
   "metadata": {},
   "outputs": [
    {
     "name": "stdout",
     "output_type": "stream",
     "text": [
      "here we are\n",
      "a\n",
      "b\n",
      "c\n",
      "d\n",
      "e\n",
      "f\n"
     ]
    }
   ],
   "source": [
    "listNum = ['a','b','c','d','e','f']\n",
    "\n",
    "# for i in listNum:\n",
    "#     print(i)\n",
    "\n",
    "leng = len(listNum)\n",
    "\n",
    "print(\"here we are\")\n",
    "for i in range(leng):\n",
    "    print(listNum[i])"
   ]
  },
  {
   "cell_type": "code",
   "execution_count": 15,
   "metadata": {},
   "outputs": [
    {
     "name": "stdout",
     "output_type": "stream",
     "text": [
      "[]\n"
     ]
    }
   ],
   "source": [
    "def reverseit():\n",
    "    word2 = []\n",
    "    while True:\n",
    "        word = list(input())\n",
    "        if not word:\n",
    "            break\n",
    "        word2.append(''.join(word))\n",
    "    print(word2)\n",
    "\n",
    "reverseit()\n",
    "\n",
    "\n",
    "def user_io():\n",
    "    '''\n",
    "    Returns a list of items read from the user until the user enters an empty string.\n",
    "\n",
    "    Args:\n",
    "        None\n",
    "    Returns:\n",
    "        list: a list of strings\n",
    "    '''  \n",
    "    while True:  \n",
    "        word = list(input())\n",
    "        if not word:\n",
    "            break\n",
    "        return word\n"
   ]
  },
  {
   "cell_type": "code",
   "execution_count": 16,
   "metadata": {},
   "outputs": [
    {
     "data": {
      "text/plain": [
       "[110, 97, 109, 101]"
      ]
     },
     "execution_count": 16,
     "metadata": {},
     "output_type": "execute_result"
    }
   ],
   "source": [
    "def code_points(strng):\n",
    "    listtemp_points = []\n",
    "    tempcode_points = list(strng)\n",
    "    for i in tempcode_points:\n",
    "        listtemp_points.append(ord(i))\n",
    "\n",
    "    return listtemp_points\n",
    "\n",
    "code_points('name')"
   ]
  },
  {
   "cell_type": "code",
   "execution_count": null,
   "metadata": {},
   "outputs": [
    {
     "ename": "TypeError",
     "evalue": "'list' object is not callable",
     "output_type": "error",
     "traceback": [
      "\u001b[0;31m---------------------------------------------------------------------------\u001b[0m",
      "\u001b[0;31mTypeError\u001b[0m                                 Traceback (most recent call last)",
      "\u001b[1;32m/home/mahlon.k.kirwa80/Desktop/PythonProgrammingClass/CYBOLC/class_notes.ipynb Cell 49\u001b[0m line \u001b[0;36m4\n\u001b[1;32m      <a href='vscode-notebook-cell:/home/mahlon.k.kirwa80/Desktop/PythonProgrammingClass/CYBOLC/class_notes.ipynb#Y103sZmlsZQ%3D%3D?line=0'>1</a>\u001b[0m \u001b[39m# range(start, stop, step)\u001b[39;00m\n\u001b[1;32m      <a href='vscode-notebook-cell:/home/mahlon.k.kirwa80/Desktop/PythonProgrammingClass/CYBOLC/class_notes.ipynb#Y103sZmlsZQ%3D%3D?line=1'>2</a>\u001b[0m \u001b[39m#for i in range(10, -1, -1):\u001b[39;00m\n\u001b[1;32m      <a href='vscode-notebook-cell:/home/mahlon.k.kirwa80/Desktop/PythonProgrammingClass/CYBOLC/class_notes.ipynb#Y103sZmlsZQ%3D%3D?line=2'>3</a>\u001b[0m   \u001b[39m#print(i)\u001b[39;00m\n\u001b[0;32m----> <a href='vscode-notebook-cell:/home/mahlon.k.kirwa80/Desktop/PythonProgrammingClass/CYBOLC/class_notes.ipynb#Y103sZmlsZQ%3D%3D?line=3'>4</a>\u001b[0m temp \u001b[39m=\u001b[39m \u001b[39mlist\u001b[39;49m(\u001b[39mrange\u001b[39;49m(\u001b[39m20\u001b[39;49m,\u001b[39m31\u001b[39;49m))\n\u001b[1;32m      <a href='vscode-notebook-cell:/home/mahlon.k.kirwa80/Desktop/PythonProgrammingClass/CYBOLC/class_notes.ipynb#Y103sZmlsZQ%3D%3D?line=4'>5</a>\u001b[0m \u001b[39m#tempNew = temp.reverse()\u001b[39;00m\n\u001b[1;32m      <a href='vscode-notebook-cell:/home/mahlon.k.kirwa80/Desktop/PythonProgrammingClass/CYBOLC/class_notes.ipynb#Y103sZmlsZQ%3D%3D?line=5'>6</a>\u001b[0m \u001b[39m#print(tempNew)\u001b[39;00m\n\u001b[1;32m      <a href='vscode-notebook-cell:/home/mahlon.k.kirwa80/Desktop/PythonProgrammingClass/CYBOLC/class_notes.ipynb#Y103sZmlsZQ%3D%3D?line=7'>8</a>\u001b[0m \u001b[39mlist\u001b[39m \u001b[39m=\u001b[39m [\u001b[39m'\u001b[39m\u001b[39mone\u001b[39m\u001b[39m'\u001b[39m, \u001b[39m'\u001b[39m\u001b[39mtwo\u001b[39m\u001b[39m'\u001b[39m, \u001b[39m'\u001b[39m\u001b[39mthree\u001b[39m\u001b[39m'\u001b[39m, \u001b[39m'\u001b[39m\u001b[39mfour\u001b[39m\u001b[39m'\u001b[39m, \u001b[39m'\u001b[39m\u001b[39mfive\u001b[39m\u001b[39m'\u001b[39m]\n",
      "\u001b[0;31mTypeError\u001b[0m: 'list' object is not callable"
     ]
    }
   ],
   "source": [
    "# range(start, stop, step)\n",
    "#for i in range(10, -1, -1):\n",
    "  #print(i)\n",
    "temp = list(range(20,31))\n",
    "#tempNew = temp.reverse()\n",
    "#print(tempNew)\n",
    "\n",
    "list = ['one', 'two', 'three', 'four', 'five']\n",
    "\n",
    "#reversedList = list[::-1]\n",
    "#print(\"reversed list: \",reversedList)\n",
    "\n",
    "list[::-1]\n",
    "\n",
    "#anotherList = list[1:2:3]\n",
    "#print(\"Another list \", anotherList)\n",
    "#list[2:3]"
   ]
  },
  {
   "cell_type": "code",
   "execution_count": null,
   "metadata": {},
   "outputs": [
    {
     "ename": "TypeError",
     "evalue": "'list' object is not callable",
     "output_type": "error",
     "traceback": [
      "\u001b[0;31m---------------------------------------------------------------------------\u001b[0m",
      "\u001b[0;31mTypeError\u001b[0m                                 Traceback (most recent call last)",
      "\u001b[1;32m/home/mahlon.k.kirwa80/Desktop/PythonProgrammingClass/CYBOLC/class_notes.ipynb Cell 50\u001b[0m line \u001b[0;36m1\n\u001b[1;32m     <a href='vscode-notebook-cell:/home/mahlon.k.kirwa80/Desktop/PythonProgrammingClass/CYBOLC/class_notes.ipynb#Y104sZmlsZQ%3D%3D?line=9'>10</a>\u001b[0m     newword \u001b[39m=\u001b[39m \u001b[39m'\u001b[39m\u001b[39m'\u001b[39m\u001b[39m.\u001b[39mjoin(emptyList)\n\u001b[1;32m     <a href='vscode-notebook-cell:/home/mahlon.k.kirwa80/Desktop/PythonProgrammingClass/CYBOLC/class_notes.ipynb#Y104sZmlsZQ%3D%3D?line=10'>11</a>\u001b[0m     \u001b[39mreturn\u001b[39;00m newword\n\u001b[0;32m---> <a href='vscode-notebook-cell:/home/mahlon.k.kirwa80/Desktop/PythonProgrammingClass/CYBOLC/class_notes.ipynb#Y104sZmlsZQ%3D%3D?line=12'>13</a>\u001b[0m leetString(\u001b[39m'\u001b[39;49m\u001b[39mCase\u001b[39;49m\u001b[39m'\u001b[39;49m)\n",
      "\u001b[1;32m/home/mahlon.k.kirwa80/Desktop/PythonProgrammingClass/CYBOLC/class_notes.ipynb Cell 50\u001b[0m line \u001b[0;36m3\n\u001b[1;32m      <a href='vscode-notebook-cell:/home/mahlon.k.kirwa80/Desktop/PythonProgrammingClass/CYBOLC/class_notes.ipynb#Y104sZmlsZQ%3D%3D?line=0'>1</a>\u001b[0m \u001b[39mdef\u001b[39;00m \u001b[39mleetString\u001b[39m(s):\n\u001b[1;32m      <a href='vscode-notebook-cell:/home/mahlon.k.kirwa80/Desktop/PythonProgrammingClass/CYBOLC/class_notes.ipynb#Y104sZmlsZQ%3D%3D?line=1'>2</a>\u001b[0m     emptyList \u001b[39m=\u001b[39m []\n\u001b[0;32m----> <a href='vscode-notebook-cell:/home/mahlon.k.kirwa80/Desktop/PythonProgrammingClass/CYBOLC/class_notes.ipynb#Y104sZmlsZQ%3D%3D?line=2'>3</a>\u001b[0m     lists \u001b[39m=\u001b[39m \u001b[39mlist\u001b[39;49m(s)\n\u001b[1;32m      <a href='vscode-notebook-cell:/home/mahlon.k.kirwa80/Desktop/PythonProgrammingClass/CYBOLC/class_notes.ipynb#Y104sZmlsZQ%3D%3D?line=4'>5</a>\u001b[0m     \u001b[39mfor\u001b[39;00m i \u001b[39min\u001b[39;00m \u001b[39mrange\u001b[39m(\u001b[39m0\u001b[39m,\u001b[39mlen\u001b[39m(lists)):\n\u001b[1;32m      <a href='vscode-notebook-cell:/home/mahlon.k.kirwa80/Desktop/PythonProgrammingClass/CYBOLC/class_notes.ipynb#Y104sZmlsZQ%3D%3D?line=5'>6</a>\u001b[0m         \u001b[39mif\u001b[39;00m(i\u001b[39m%\u001b[39m\u001b[39m2\u001b[39m\u001b[39m==\u001b[39m\u001b[39m0\u001b[39m):\n",
      "\u001b[0;31mTypeError\u001b[0m: 'list' object is not callable"
     ]
    }
   ],
   "source": [
    "def leetString(s):\n",
    "    emptyList = []\n",
    "    lists = list(s)\n",
    "\n",
    "    for i in range(0,len(lists)):\n",
    "        if(i%2==0):\n",
    "            emptyList.append(lists[i].upper())\n",
    "        if(i%2!=0):\n",
    "            emptyList.append(lists[i].lower())\n",
    "    newword = ''.join(emptyList)\n",
    "    return newword\n",
    "\n",
    "leetString('Case')"
   ]
  },
  {
   "cell_type": "code",
   "execution_count": null,
   "metadata": {},
   "outputs": [
    {
     "name": "stdout",
     "output_type": "stream",
     "text": [
      "<class 'tuple'>\n"
     ]
    }
   ],
   "source": [
    "list = ['one', 'two', 'three', 'four', 'five']\n",
    "\n",
    "\n",
    "tuple(range(a,b,10))"
   ]
  },
  {
   "cell_type": "code",
   "execution_count": null,
   "metadata": {},
   "outputs": [
    {
     "name": "stdout",
     "output_type": "stream",
     "text": [
      "12\n",
      "[1, 2, 3, 5, 7, 11]\n",
      "[13, 17, 19, 23, 29, 31]\n"
     ]
    }
   ],
   "source": [
    "primes = [1, 2, 3, 5, 7, 11, 13, 17, 19, 23, 29, 31]\n",
    "print(len(primes))\n",
    "one = primes[0:6]\n",
    "two = primes[6:12]\n",
    "print(one)\n",
    "print(two)"
   ]
  },
  {
   "cell_type": "code",
   "execution_count": null,
   "metadata": {},
   "outputs": [
    {
     "name": "stdout",
     "output_type": "stream",
     "text": [
      "line 1\n",
      "line 2\n",
      "line 3\n"
     ]
    }
   ],
   "source": [
    "file = open('database.txt')\n",
    "print(file.read())\n",
    "file.close()"
   ]
  },
  {
   "cell_type": "code",
   "execution_count": null,
   "metadata": {},
   "outputs": [
    {
     "name": "stdout",
     "output_type": "stream",
     "text": [
      "line 1\n",
      "line 2\n",
      "line 3\n",
      "20\n",
      "line 1\n",
      "line 2\n",
      "line 3\n",
      "20\n"
     ]
    }
   ],
   "source": [
    "with open('/home/mahlon.k.kirwa80/Desktop/PythonProgrammingClass/CYBOLC/database.txt','r') as test:\n",
    "    #print(test.read(5)) # Reads through the first 5 bytes\n",
    "    #print(test.readline()) # Reads one line at a time.... Has to be called over and over and over\n",
    "    #print(test.readlines()) # Reads all the lines in one line ['line 1\\n', 'line 2\\n', 'line 3']\n",
    "    print(test.read())\n",
    "    print(test.tell()) # Tells you where you are with the file \n",
    "    test.seek(0)\n",
    "    print(test.read())\n",
    "    print(test.tell())\n"
   ]
  },
  {
   "cell_type": "code",
   "execution_count": null,
   "metadata": {},
   "outputs": [],
   "source": [
    "with open('new.txt','w') as new:\n",
    "    new.write('line 1\\n')\n",
    "    new.write('line 2')"
   ]
  },
  {
   "cell_type": "code",
   "execution_count": null,
   "metadata": {},
   "outputs": [],
   "source": [
    "with open('new.txt','w') as new:\n",
    "    lines = ['line 1\\n','line 2\\n','line 3\\n']\n",
    "    new.writelines(lines)"
   ]
  },
  {
   "cell_type": "code",
   "execution_count": null,
   "metadata": {},
   "outputs": [],
   "source": [
    "with open('new.txt','a') as new:\n",
    "    lines = ['line 4\\n']\n",
    "    new.writelines(lines)"
   ]
  },
  {
   "cell_type": "code",
   "execution_count": null,
   "metadata": {},
   "outputs": [
    {
     "name": "stdout",
     "output_type": "stream",
     "text": [
      "line45\n",
      "\n"
     ]
    }
   ],
   "source": [
    "with open('file.txt','w+') as file:\n",
    "    file.write('line45\\n')\n",
    "    file.seek(0) # Changes the file back to the top!!! \n",
    "    print(file.read())"
   ]
  },
  {
   "cell_type": "code",
   "execution_count": null,
   "metadata": {},
   "outputs": [
    {
     "name": "stdout",
     "output_type": "stream",
     "text": [
      "line 1\n",
      "line 2\n",
      "line 3\n",
      "line 4\n",
      "\n"
     ]
    }
   ],
   "source": [
    "with open('new.txt','r') as new, open('copy.txt', 'w+') as copy:\n",
    "    copy.write(new.read())\n",
    "    copy.seek(0)\n",
    "    print(copy.read())"
   ]
  },
  {
   "cell_type": "code",
   "execution_count": null,
   "metadata": {},
   "outputs": [
    {
     "name": "stdout",
     "output_type": "stream",
     "text": [
      " 1\n",
      "line 2\n",
      "line 3\n",
      "line 4\n",
      "\n"
     ]
    }
   ],
   "source": [
    "with open('new.txt','r+') as new:\n",
    "    new.write('this')\n",
    "    print(new.read())"
   ]
  },
  {
   "cell_type": "code",
   "execution_count": null,
   "metadata": {},
   "outputs": [],
   "source": [
    "\n",
    "\n",
    "# def tough_read(fname):\n",
    "#     integers = []\n",
    "#     unicode_string = []\n",
    "#     with open(fname, 'r') as f:\n",
    "#         binary_string = f.read()\n",
    "    \n",
    "#     # convert the string into integers\n",
    "#     for b in binary_string:\n",
    "#         integers.append(int(float((b))))\n",
    "    \n",
    "#     # convert the integers into unicode string\n",
    "#     for i in integers:\n",
    "#         unicode_string.append(chr(i))\n",
    "\n",
    "#     # join the unicode into a string\n",
    "#     unicode_string_final = ''.join(unicode_string)\n",
    "    \n",
    "#     print(unicode_string_final\n",
    "#           )\n",
    "#     return unicode_string_final\n",
    "            \n",
    "# tough_read('assignment.txt')"
   ]
  },
  {
   "cell_type": "code",
   "execution_count": null,
   "metadata": {},
   "outputs": [
    {
     "name": "stdout",
     "output_type": "stream",
     "text": [
      "27\n"
     ]
    }
   ],
   "source": [
    "import math\n",
    "#dir(math)\n",
    "\n",
    "math.pi\n",
    "math.sqrt(25)\n",
    "\n",
    "import random \n",
    "lst = [1,2,3,4,5,6]\n",
    "\n",
    "rand_num = random.choice(lst)\n",
    "\n",
    "rand_num_1 = random.randint(0,100)\n",
    "print(rand_num_1)"
   ]
  },
  {
   "cell_type": "code",
   "execution_count": null,
   "metadata": {},
   "outputs": [
    {
     "data": {
      "text/plain": [
       "8"
      ]
     },
     "execution_count": 53,
     "metadata": {},
     "output_type": "execute_result"
    }
   ],
   "source": [
    "\n",
    "from random import choice \n",
    "choice(lst)\n",
    "\n",
    "from random import randint as RANDnum\n",
    "RANDnum(0,90)"
   ]
  },
  {
   "cell_type": "code",
   "execution_count": null,
   "metadata": {},
   "outputs": [
    {
     "data": {
      "text/plain": [
       "'math'"
      ]
     },
     "execution_count": 57,
     "metadata": {},
     "output_type": "execute_result"
    }
   ],
   "source": [
    "\n",
    "# __ ---> dunda double underscore --> \n",
    "math.__name__"
   ]
  },
  {
   "cell_type": "code",
   "execution_count": null,
   "metadata": {},
   "outputs": [
    {
     "name": "stdout",
     "output_type": "stream",
     "text": [
      "[0, 7, 9, 13, 20, 55, 91]\n"
     ]
    }
   ],
   "source": [
    "numlist = [13,9,0,7,55,20,91]\n",
    "numlist.sort()\n",
    "print(numlist)"
   ]
  },
  {
   "cell_type": "code",
   "execution_count": null,
   "metadata": {},
   "outputs": [
    {
     "name": "stdout",
     "output_type": "stream",
     "text": [
      "[91, 55, 20, 13, 9, 7, 0]\n"
     ]
    }
   ],
   "source": [
    "numlist = [13,9,0,7,55,20,91]\n",
    "numlist.sort(reverse=True)\n",
    "print(numlist)"
   ]
  },
  {
   "cell_type": "code",
   "execution_count": null,
   "metadata": {},
   "outputs": [
    {
     "name": "stdout",
     "output_type": "stream",
     "text": [
      "[91, 85, 55, 47, 20, 13, 9, 7, 0]\n"
     ]
    }
   ],
   "source": [
    "numlist = [13,9,0,85,47,7,55,20,91]\n",
    "reverse_numlist = sorted(numlist, reverse=True)\n",
    "print(reverse_numlist)"
   ]
  },
  {
   "cell_type": "code",
   "execution_count": null,
   "metadata": {},
   "outputs": [
    {
     "name": "stdout",
     "output_type": "stream",
     "text": [
      "70\n",
      "98\n",
      "86\n",
      "65\n",
      "['Audi', 'Ford', 'bMW', 'volvo']\n",
      "['Audi', 'bMW', 'Ford', 'volvo']\n",
      "['Audi', 'BMW', 'Ford', 'Volvo']\n"
     ]
    }
   ],
   "source": [
    "cars = ['Ford','bMW','volvo','Audi']\n",
    "print(ord('F'))\n",
    "print(ord('b'))\n",
    "print(ord('V'))\n",
    "print(ord('A'))\n",
    "print(sorted(cars))\n",
    "print(sorted(cars, key=str.upper))\n",
    "\n",
    "cars = ['Ford','BMW','Volvo','Audi']\n",
    "print(sorted(cars, key=str.upper))\n",
    "\n"
   ]
  },
  {
   "cell_type": "markdown",
   "metadata": {},
   "source": []
  },
  {
   "cell_type": "code",
   "execution_count": null,
   "metadata": {},
   "outputs": [
    {
     "name": "stdout",
     "output_type": "stream",
     "text": [
      "Volvo\n",
      "Ford\n",
      "Audi\n",
      "BMW\n"
     ]
    }
   ],
   "source": [
    "cars = ['Ford','BMW','Volvo','Audi']\n",
    "for i in sorted(cars, key=len, reverse=True):\n",
    "    print(i)\n"
   ]
  },
  {
   "cell_type": "code",
   "execution_count": null,
   "metadata": {},
   "outputs": [
    {
     "name": "stdout",
     "output_type": "stream",
     "text": [
      "['BMW', 'Ford', 'Volvo', 'Audi']\n",
      "77\n",
      "111\n",
      "111\n",
      "117\n"
     ]
    }
   ],
   "source": [
    "# Sort the list based on the SECOND letter of each word\n",
    "cars = ['Ford','BMW','Volvo','Audi']\n",
    "\n",
    "def second_letter(car):\n",
    "    return car[1]\n",
    "\n",
    "print(sorted(cars, key=second_letter))\n",
    "print(ord('M'))\n",
    "print(ord('o'))\n",
    "print(ord('o'))\n",
    "print(ord('u'))"
   ]
  },
  {
   "cell_type": "code",
   "execution_count": null,
   "metadata": {},
   "outputs": [
    {
     "name": "stdout",
     "output_type": "stream",
     "text": [
      "wrong name\n"
     ]
    }
   ],
   "source": [
    "code = 'def foo(x):\\n print(123)'\n",
    "\n",
    "if \"validate\" not in code:\n",
    "    print(\"wrong name\")"
   ]
  },
  {
   "cell_type": "code",
   "execution_count": null,
   "metadata": {},
   "outputs": [
    {
     "name": "stdout",
     "output_type": "stream",
     "text": [
      "{0, 1, 2, 3, 4, 5, 100, 99}\n"
     ]
    }
   ],
   "source": [
    "s = {1,2,3,4,5}\n",
    "s.add(100)\n",
    "s.add(0)\n",
    "s.add(99)\n",
    "print(s)"
   ]
  },
  {
   "cell_type": "code",
   "execution_count": null,
   "metadata": {},
   "outputs": [
    {
     "data": {
      "text/plain": [
       "{0, 1, 2, 3, 4, 5, 6, 7, 8, 9}"
      ]
     },
     "execution_count": 81,
     "metadata": {},
     "output_type": "execute_result"
    }
   ],
   "source": [
    "s = {1,2,3,4,5}\n",
    "t = {4,5,6,7,8}\n",
    "u = {0,2,9}\n",
    "\n",
    "s.union(t) # Combines two sets \n",
    "t.difference(s) # Shows the difference \n",
    "s.intersection(t) \n",
    "s.union(t,u)\n",
    "\n",
    "\n"
   ]
  },
  {
   "cell_type": "code",
   "execution_count": null,
   "metadata": {},
   "outputs": [
    {
     "name": "stdout",
     "output_type": "stream",
     "text": [
      "233333\n"
     ]
    }
   ],
   "source": [
    "crayons = {'red':'apple','yellow':'lemon','purple':'grape', 'green':'grape'}\n",
    "#print(crayons)\n",
    "#print(crayons.keys())\n",
    "#print(crayons.values())\n",
    "#print(crayons.items())\n",
    "\n",
    "crayons['red'] # Accessing using key \n",
    "\n",
    "crayons['orange'] = 'mango' # Adding a key, value\n",
    "\n",
    "del crayons['red'] # deleting a key value pair in a dictionary \n",
    "\n",
    "'grape' in crayons.values() # checking if something is in values in python\n",
    "\n",
    "# Iterating over a dictionanry \n",
    "for key in crayons:\n",
    "    new_key = key\n",
    "\n",
    "for key in crayons: # Accessing values using keys \n",
    "    new_key_1, new_key_2 = key, crayons[key]\n",
    "\n",
    "\n",
    "for key, values in crayons.items(): # Accessing key and values ... \n",
    "    new_key_2, new_value_2 = key,values\n",
    "\n",
    "found_or_not_found = crayons.get('blue', 'not found in list')# Searching through a dictionary to find if something exits \n",
    "\n",
    "\n",
    "lottery = {'Mega Millions':11111, 'GA lotter':222222}\n",
    "\n",
    "total = 0\n",
    "\n",
    "for i in lottery.values():\n",
    "    total+=i\n",
    "\n",
    "lottery_sum_total = sum(lottery.values())\n",
    "print(lottery_sum_total)\n"
   ]
  },
  {
   "cell_type": "code",
   "execution_count": null,
   "metadata": {},
   "outputs": [
    {
     "data": {
      "text/plain": [
       "-11"
      ]
     },
     "execution_count": 106,
     "metadata": {},
     "output_type": "execute_result"
    }
   ],
   "source": [
    "def subtract(a,b):\n",
    "    return a - b \n",
    "\n",
    "subtract(a=8,b=7)\n",
    "subtract(b=6,a=8)\n",
    "subtract(9, b = 20)"
   ]
  },
  {
   "cell_type": "code",
   "execution_count": null,
   "metadata": {},
   "outputs": [
    {
     "name": "stdout",
     "output_type": "stream",
     "text": [
      "10 20 30 40\n",
      "Sum of a:10 + b:20 + c:0 + d:0 is 30\n",
      "Sum of a:100 + b:10 + c:20 + d:0 is 130\n",
      "Sum of a:10 + b:20 + c:30 + d:40 is 100\n",
      "Sum of a:10 + b:20 + c:0 + d:0 is 30\n"
     ]
    }
   ],
   "source": [
    "lst = [10,20,30,40] \n",
    "lst2 = [10,20] \n",
    "print(*lst) #unpacking a list \n",
    "\n",
    "def doSum(a, b, c=0, d = 0):\n",
    "    print(f'Sum of a:{a} + b:{b} + c:{c} + d:{d} is {a+b+c+d}')\n",
    "\n",
    "doSum(*lst2)\n",
    "doSum(100,*lst2)\n",
    "\n",
    "\n",
    "d = {'a':10, 'b':20, 'c':30, 'd':40}\n",
    "d2 = {'a':10, 'b':20}\n",
    "doSum(**d)\n",
    "doSum(**d2)\n",
    "\n"
   ]
  },
  {
   "cell_type": "code",
   "execution_count": null,
   "metadata": {},
   "outputs": [
    {
     "name": "stdout",
     "output_type": "stream",
     "text": [
      "709492\n",
      "100\n"
     ]
    }
   ],
   "source": [
    "def doSum(*args):\n",
    "    answer = 0 \n",
    "    for i in args:\n",
    "        answer += i\n",
    "    print(answer)\n",
    "\n",
    "doSum(1,2,3,4,5,56,85,96,455555,253685)\n",
    "lst = [10,20,30,40] \n",
    "doSum(*lst)"
   ]
  },
  {
   "cell_type": "code",
   "execution_count": null,
   "metadata": {},
   "outputs": [
    {
     "data": {
      "text/plain": [
       "709492"
      ]
     },
     "execution_count": 128,
     "metadata": {},
     "output_type": "execute_result"
    }
   ],
   "source": [
    "def doSum3(*args):\n",
    "    answer = sum (args)\n",
    "    return answer\n",
    "\n",
    "doSum3(1,2,3,4,5,56,85,96,455555,253685)"
   ]
  },
  {
   "cell_type": "code",
   "execution_count": null,
   "metadata": {},
   "outputs": [
    {
     "name": "stdout",
     "output_type": "stream",
     "text": [
      "The color red tastes like apple!\n",
      "The color green tastes like grape!\n",
      "\n",
      "\n",
      "The color red tastes like apple!\n",
      "The color yellow tastes like lemon!\n",
      "The color purple tastes like grape!\n",
      "The color green tastes like grape!\n"
     ]
    }
   ],
   "source": [
    "crayons = {'red':'apple','yellow':'lemon','purple':'grape', 'green':'grape'}\n",
    "\n",
    "def buildbox(**kwargs):\n",
    "    for key, value in kwargs.items():\n",
    "        print(f'The color {key} tastes like {value}!')\n",
    "\n",
    "buildbox(red='apple',green='grape')\n",
    "print(\"\\n\")\n",
    "buildbox(**crayons)"
   ]
  },
  {
   "cell_type": "code",
   "execution_count": null,
   "metadata": {},
   "outputs": [
    {
     "name": "stdout",
     "output_type": "stream",
     "text": [
      "1\n",
      "2\n",
      "3\n",
      "\n",
      "\n",
      "5\n",
      "word\n"
     ]
    }
   ],
   "source": [
    "# * extracts unlimited number of positional arguments \n",
    "# ** extracts values ....\n",
    "def multiple_args(*args, **kwargs):\n",
    "    for arg in args:\n",
    "        print(arg)\n",
    "    \n",
    "    print(\"\\n\")\n",
    "\n",
    "    for value in kwargs.values():\n",
    "        print(value)\n",
    "\n",
    "multiple_args(1,2,3, a=5, b='word')"
   ]
  },
  {
   "cell_type": "code",
   "execution_count": null,
   "metadata": {},
   "outputs": [
    {
     "name": "stdout",
     "output_type": "stream",
     "text": [
      "1\n",
      "2\n",
      "3\n",
      "a=5\n",
      "b=word\n"
     ]
    }
   ],
   "source": [
    "def infinitearguments(*args, **kwargs):\n",
    "    for arg in args:\n",
    "        print(arg)\n",
    "    \n",
    "    myKeys = list(kwargs.keys())\n",
    "    myKeys.sort()\n",
    "    sorted_dict = {i: kwargs[i] for i in myKeys}\n",
    "    \n",
    "    for key, value in sorted_dict.items():\n",
    "        print(f'{key}={value}')\n",
    "\n",
    "infinitearguments(1,2,3, a=5, b='word')"
   ]
  },
  {
   "cell_type": "code",
   "execution_count": null,
   "metadata": {},
   "outputs": [],
   "source": [
    "def diffwords(fname, words):\n",
    "    file_ = open(fname, \"r\")\n",
    "    content = file_.read()\n",
    "    content_new = set(content.read().split())\n",
    "    not_unique = filter(lambda x:str(x).__contains__(words), content.split())\n",
    "    return not_unique\n",
    "\n",
    "def diffwords(fname, words):\n",
    "    with open(fname, 'r') as filein:\n",
    "        text = set(filein.read().split())\n",
    "        diff = text.difference(words)\n",
    "    \n",
    "    return diff"
   ]
  },
  {
   "cell_type": "code",
   "execution_count": null,
   "metadata": {},
   "outputs": [],
   "source": [
    "def count_words(filepath):\n",
    "    \n",
    "    with open(filepath, 'r') as new_file:\n",
    "        read_new_file = new_file.read()\n",
    "    \n",
    "    # Create an empty dictionary \n",
    "    d = dict() \n",
    "\n",
    "    # Loop through each line of the file \n",
    "    for line in read_new_file: \n",
    "        # Remove the leading spaces and newline character \n",
    "        line = line.strip() \n",
    "    \n",
    "        # Convert the characters in line to \n",
    "        # lowercase to avoid case mismatch \n",
    "        #line = line.lower() \n",
    "    \n",
    "        # Split the line into words \n",
    "        words = line.split(\" \") \n",
    "\n",
    "        # Iterate over each word in line \n",
    "        for word in words: \n",
    "            # Check if the word is already in dictionary \n",
    "            if word in d: \n",
    "                # Increment count of word by 1 \n",
    "                d[word] = d[word] + 1\n",
    "            else: \n",
    "                # Add the word to dictionary with count 1 \n",
    "                d[word] = 1\n",
    "\n",
    "    return d\n",
    "    # Print the contents of dictionary \n",
    "    #for key in list(d.keys()): \n",
    "        #print(key, \":\", d[key]) \n",
    "\n",
    "\n",
    "count_words()"
   ]
  },
  {
   "cell_type": "code",
   "execution_count": null,
   "metadata": {},
   "outputs": [
    {
     "data": {
      "text/plain": [
       "b'jello'"
      ]
     },
     "execution_count": 151,
     "metadata": {},
     "output_type": "execute_result"
    }
   ],
   "source": [
    "strng = 'hello'\n",
    "byte_strng = b'hello'\n",
    "type(byte_strng)\n",
    "\n",
    "strng == byte_strng\n",
    "# for letter in byte_strng:\n",
    "#     print(letter)\n",
    "#     print(chr(letter))\n",
    "\n",
    "bytes(b'hello')\n",
    "bytes('hello', encoding='utf-8')\n",
    "'jello'.encode('utf-8')"
   ]
  },
  {
   "cell_type": "code",
   "execution_count": null,
   "metadata": {},
   "outputs": [
    {
     "data": {
      "text/plain": [
       "bytearray(b'hello,class')"
      ]
     },
     "execution_count": 161,
     "metadata": {},
     "output_type": "execute_result"
    }
   ],
   "source": [
    "word = b'jello'\n",
    "ba = bytearray(b'jello')\n",
    "ba[0] = ord('h')\n",
    "ba\n",
    "# Byte arrays are indeed mutable!! \n",
    "ba.append(ord(','))\n",
    "ba.extend(b'class')\n",
    "ba\n"
   ]
  },
  {
   "cell_type": "code",
   "execution_count": null,
   "metadata": {},
   "outputs": [
    {
     "name": "stdout",
     "output_type": "stream",
     "text": [
      "My name is Albert Einstein\n",
      "My name is Mike Jeffrey\n"
     ]
    }
   ],
   "source": [
    "class MyClass:\n",
    "    def __init__(self):\n",
    "        self.first = 'Albert'\n",
    "        self.last = 'Einstein'\n",
    "\n",
    "    def __str__(self):\n",
    "        return f'My name is {self.first} {self.last}'\n",
    "\n",
    "    # define a method \n",
    "    # def print_name(self):\n",
    "    #     print('{},{}'.format(self.last), self.first)\n",
    "\n",
    "\n",
    "if __name__=='__main__':\n",
    "    me = MyClass()\n",
    "    print(me)\n",
    "    me.first = 'Mike'\n",
    "    me.last = 'Jeffrey'\n",
    "    print(me)\n",
    "    #my = MyClass()"
   ]
  },
  {
   "cell_type": "code",
   "execution_count": null,
   "metadata": {},
   "outputs": [
    {
     "name": "stdout",
     "output_type": "stream",
     "text": [
      "Chelsea is 35 years old, 63 inches tall, with brown hair. Their hobbies include sleeping and eating\n",
      "Joe is 20 years old, 70 inches tall, with blonde hair. Their hobbies include running and movies\n"
     ]
    }
   ],
   "source": [
    "class Human():\n",
    "    def __init__(self, name, age, height, haircolor):\n",
    "        self.name = name\n",
    "        self.age = age\n",
    "        self.height = height \n",
    "        self.haircolor = haircolor\n",
    "        \n",
    "    \n",
    "    def hobbies(self, hobby1, hobby2):\n",
    "        self.hobby1 = hobby1\n",
    "        self.hobby2 = hobby2\n",
    "\n",
    "    def __str__(self):\n",
    "        return f'{self.name} is {self.age} years old, {self.height} inches tall, with {self.haircolor} hair. Their hobbies include {self.hobby1} and {self.hobby2}'\n",
    "    \n",
    "    \n",
    "    \n",
    "if __name__=='__main__':\n",
    "    instructor = Human('Chelsea',35,63,'brown')\n",
    "    instructor.hobbies('sleeping','eating')\n",
    "    print(instructor)\n",
    "    student = Human('Joe',20,70,'blonde')\n",
    "    student.hobbies('running','movies')\n",
    "    print(student)"
   ]
  },
  {
   "cell_type": "code",
   "execution_count": null,
   "metadata": {},
   "outputs": [
    {
     "name": "stdout",
     "output_type": "stream",
     "text": [
      "Current speed is 50\n",
      "Current speed is 30\n",
      "Current speed is 29\n",
      "Current speed is 0\n"
     ]
    }
   ],
   "source": [
    "class cyber_truck():\n",
    "    def __init__(self):\n",
    "        self.currentspeed = 0\n",
    "\n",
    "    def setspeed(self,speed):\n",
    "        self.currentspeed = speed\n",
    "\n",
    "    def slow_down(self, slow = 1):\n",
    "        if self.currentspeed>= 1 + slow:\n",
    "            self.currentspeed -=slow\n",
    "\n",
    "    def speedup(self):\n",
    "        self.currentspeed +=1\n",
    "\n",
    "    def stop(self):\n",
    "        self.currentspeed=0\n",
    "\n",
    "    def __str__(self):\n",
    "        return f'Current speed is {self.currentspeed}'\n",
    "    \n",
    "if __name__=='__main__':\n",
    "    truck1 = cyber_truck()\n",
    "    truck1.setspeed(50)\n",
    "    print(truck1)\n",
    "    truck1.slow_down(20)\n",
    "    print(truck1)\n",
    "    truck1.slow_down()\n",
    "    print(truck1)\n",
    "    truck1.stop()\n",
    "    print(truck1)\n"
   ]
  },
  {
   "cell_type": "code",
   "execution_count": null,
   "metadata": {},
   "outputs": [
    {
     "name": "stdout",
     "output_type": "stream",
     "text": [
      "None\n"
     ]
    }
   ],
   "source": [
    "#!/usr/bin/env python3\n",
    "\n",
    "class TicTacToe:\n",
    "    # TODO: Initializing the internal state of a game \n",
    "    def __init__(self):\n",
    "        self.TicTacToe_table = [[0,0,0],[1,1,1],[1,1,1]]\n",
    "\n",
    "    # Should only take a row and col\n",
    "    # row 0 and col 0 indicate the upper left corner of the borad \n",
    "    # def move(self,row=[(0,0),(0,0),(0,0)],col=[(0,0),(0,0),(0,0)]):\n",
    "    #     # Return 1 as an int if player 1 wins as a result of this move\n",
    "    #     # Return 2 as an int if player 2 wins as a result of this move\n",
    "    #     # Return 0 as an int if a draw results from this move\n",
    "    #     # Return None if nothing results from this move\n",
    "    #     # Raise an Exception for invalid moves\n",
    "    #     player_1_win = False\n",
    "    #     player_2_win = False\n",
    "    #     draw = False\n",
    "        \n",
    "    #     self.row = row\n",
    "    #     self.col = col\n",
    "\n",
    "    #     for i in self.row:\n",
    "    #         print \n",
    "\n",
    "    #     if player_1_win:\n",
    "    #         return 1\n",
    "    #     elif player_2_win:\n",
    "    #         return 2\n",
    "    #     elif draw:\n",
    "    #         return 0\n",
    "    #     else:\n",
    "    #         return 'None'\n",
    "    \n",
    "    def move(self,row=[(0,0),(0,0),(0,0)],col=[(0,0),(0,0),(0,0)]):\n",
    "        # Return 1 as an int if player 1 wins as a result of this move\n",
    "        # Return 2 as an int if player 2 wins as a result of this move\n",
    "        # Return 0 as an int if a draw results from this move\n",
    "        # Return None if nothing results from this move\n",
    "        # Raise an Exception for invalid moves\n",
    "        player_1_win = False\n",
    "        player_2_win = False\n",
    "        draw = False\n",
    "        \n",
    "        self.row = row\n",
    "        self.col = col\n",
    "\n",
    "        for i in self.row:\n",
    "            print \n",
    "\n",
    "        if player_1_win:\n",
    "            return 1\n",
    "        elif player_2_win:\n",
    "            return 2\n",
    "        elif draw:\n",
    "            return 0\n",
    "        else:\n",
    "            return 'None'\n",
    "        \n",
    "        \n",
    "        \n",
    "if __name__=='__main__':\n",
    "    game = TicTacToe()\n",
    "    #print(game.move(row=[(0,0),(0,0),(0,0)],col=[(0,0),(0,0),(0,0)]))\n"
   ]
  },
  {
   "cell_type": "code",
   "execution_count": null,
   "metadata": {},
   "outputs": [],
   "source": [
    "#class Calculator"
   ]
  },
  {
   "cell_type": "code",
   "execution_count": null,
   "metadata": {},
   "outputs": [
    {
     "name": "stdout",
     "output_type": "stream",
     "text": [
      "Current altitude: 0\n",
      "Current altitude: 50\n",
      "Current altitude: 150\n",
      "Current altitude: 200\n",
      "Current altitude: 150\n",
      "Current altitude: 110\n",
      "Current altitude: 0\n"
     ]
    }
   ],
   "source": [
    "class Drone():\n",
    "    def __init__(self):\n",
    "        self.currentaltitude = 0\n",
    "\n",
    "    def setaltitude(self,set_current_altitude):\n",
    "        self.currentaltitude = set_current_altitude\n",
    "    \n",
    "    def increasealtitude(self, param_set_altitude=100):\n",
    "        self.currentaltitude +=param_set_altitude\n",
    "\n",
    "    def decreasealtitude(self, param_set_altitude=50):\n",
    "        self.currentaltitude -=param_set_altitude\n",
    "    \n",
    "    def land(self):\n",
    "        self.currentaltitude = 0\n",
    "\n",
    "    def __str__(self):\n",
    "        return f'Current altitude: {self.currentaltitude}'\n",
    "    \n",
    "if __name__=='__main__':\n",
    "    drone = Drone()\n",
    "    print(drone)\n",
    "    drone.setaltitude(50)\n",
    "    print(drone)\n",
    "    drone.increasealtitude()\n",
    "    print(drone)\n",
    "    drone.increasealtitude(50)\n",
    "    print(drone)\n",
    "    drone.decreasealtitude()\n",
    "    print(drone)\n",
    "    drone.decreasealtitude(40)\n",
    "    print(drone)\n",
    "    drone.land()\n",
    "    print(drone)\n",
    "\n",
    "        "
   ]
  },
  {
   "cell_type": "code",
   "execution_count": null,
   "metadata": {},
   "outputs": [
    {
     "name": "stdout",
     "output_type": "stream",
     "text": [
      "addition:  5\n",
      "subtraction:  0\n",
      "multiplication:  25\n",
      "division:  1.0\n",
      "Recall:  0\n"
     ]
    }
   ],
   "source": [
    "class Calculator:\n",
    "    def __init__(self):\n",
    "        self.result = 0\n",
    "        self.memory = 0\n",
    "\n",
    "    def add(self,param1, param2):\n",
    "        total = self.inputvalue(param1) + self.inputvalue(param2)\n",
    "        self.result = total\n",
    "        return total\n",
    "    \n",
    "    def sub(self,param1, param2):\n",
    "        total = self.inputvalue(param1) - self.inputvalue(param2)\n",
    "        self.result = total\n",
    "        return total\n",
    "\n",
    "    def mul(self,param1, param2):\n",
    "        total = self.inputvalue(param1) * self.inputvalue(param2)\n",
    "        self.result = total\n",
    "        return total\n",
    "\n",
    "    def div(self,param1, param2):\n",
    "        total = self.inputvalue(param1) / self.inputvalue(param2)\n",
    "        self.result = total\n",
    "        return total\n",
    "    \n",
    "    def recall(self):\n",
    "        self.result = self.memory\n",
    "        return self.result\n",
    "    \n",
    "    def store(self):\n",
    "        self.memory = self.result\n",
    "    \n",
    "    def __str__(self):\n",
    "        return str(self.result)\n",
    "    \n",
    "    def inputvalue(self, value):\n",
    "        if value == '':\n",
    "            return self.result\n",
    "        elif value == 'memory':\n",
    "            return self.memory\n",
    "        else:\n",
    "            return value\n",
    "        \n",
    "\n",
    "       \n",
    "\n",
    "if __name__=='__main__':\n",
    "    calc = Calculator()\n",
    "    print(\"addition: \",calc.add('memory',5))\n",
    "    print(\"subtraction: \",calc.sub(5,5))\n",
    "    print(\"multiplication: \",calc.mul(5,5))\n",
    "    print(\"division: \",calc.div(5,5))\n",
    "    print(\"Recall: \",calc.recall())\n",
    "\n"
   ]
  },
  {
   "cell_type": "code",
   "execution_count": null,
   "metadata": {},
   "outputs": [
    {
     "name": "stdout",
     "output_type": "stream",
     "text": [
      "None\n"
     ]
    }
   ],
   "source": [
    "#!/usr/bin/env python3\n",
    "\n",
    "class TicTacToe:\n",
    "\n",
    "    def __init__(self):\n",
    "        # Initialize a 3x3 board with zeros\n",
    "        self.board = [[0 for _ in range(3)] for _ in range(3)]\n",
    "        # Start with player 1\n",
    "        self.current_player = 1\n",
    "\n",
    "    def move(self, row, col):\n",
    "        # Check for invalid moves\n",
    "        if not (0 <= row < 3 and 0 <= col < 3) or self.board[row][col] != 0:\n",
    "            raise Exception(\"Invalid move!\")\n",
    "        \n",
    "        # Update the board with the current player's move\n",
    "        self.board[row][col] = self.current_player\n",
    "\n",
    "        # Check for a win condition\n",
    "        if self.check_win(row, col):\n",
    "            winner = self.current_player\n",
    "            # Reset the game state\n",
    "            self.__init__()\n",
    "            return winner\n",
    "        \n",
    "        # Check for a draw\n",
    "        if self.check_draw():\n",
    "            # Reset the game state\n",
    "            self.__init__()\n",
    "            return 0\n",
    "        \n",
    "        # Alternate between player 1 and 2\n",
    "        self.current_player = 3 - self.current_player\n",
    "        return None\n",
    "    \n",
    "    def check_win(self, row, col):\n",
    "        # Check row, column, and diagonals for a win condition\n",
    "        return (all(self.board[row][i] == self.current_player for i in range(3))\n",
    "                or all(self.board[i][col] == self.current_player for i in range(3))\n",
    "                or all(self.board[i][i] == self.current_player for i in range(3))\n",
    "                or all(self.board[i][2-i] == self.current_player for i in range(3)))\n",
    "\n",
    "    def check_draw(self):\n",
    "        # Check if the board is full\n",
    "        return all(self.board[row][col] != 0 for row in range(3) for col in range(3))\n",
    "    \n",
    "if __name__=='__main__':\n",
    "    TTT = TicTacToe()\n",
    "    print(TTT.move(1,1))\n"
   ]
  },
  {
   "cell_type": "code",
   "execution_count": null,
   "metadata": {},
   "outputs": [
    {
     "name": "stdout",
     "output_type": "stream",
     "text": [
      "2.0\n",
      "file does not exist\n",
      "executes no matter what\n"
     ]
    }
   ],
   "source": [
    "num1 = 10\n",
    "num2 = 5\n",
    "\n",
    "try:\n",
    "    print(num1/num2)\n",
    "    with open('nope.txt') as nope:\n",
    "        print(nope.read())\n",
    "except ZeroDivisionError:\n",
    "    print('Cannot divide by zero')\n",
    "except FileNotFoundError:\n",
    "    print('file does not exist')\n",
    "else:\n",
    "    print('executes no matter what')\n",
    "finally:\n",
    "    print('executes no matter what')\n",
    "\n",
    "\n",
    "\n",
    "    "
   ]
  },
  {
   "cell_type": "code",
   "execution_count": null,
   "metadata": {},
   "outputs": [
    {
     "name": "stdout",
     "output_type": "stream",
     "text": [
      "Cannot divide by zero\n",
      "executing with math try\n",
      "line 1\n",
      "line 2\n",
      "line 3\n",
      "line 4\n",
      "\n",
      "no errors\n",
      "executes no matter what\n"
     ]
    }
   ],
   "source": [
    "# When building multiple things into a try \n",
    "\n",
    "num1 = 10\n",
    "num2 = 0\n",
    "try:\n",
    "    print(num1/num2)\n",
    "except ZeroDivisionError:\n",
    "    print('Cannot divide by zero')\n",
    "else:\n",
    "    print('no math errors')\n",
    "finally:\n",
    "    print('executing with math try')\n",
    "try:\n",
    "    file = open(\"copy.txt\")\n",
    "    print(file.read())\n",
    "except FileNotFoundError:\n",
    "    print('file does not exist')\n",
    "else:\n",
    "    print('no errors')\n",
    "finally:\n",
    "    print('executes no matter what')\n",
    "    file.close()\n",
    "\n",
    "\n",
    "\n",
    "    "
   ]
  },
  {
   "cell_type": "code",
   "execution_count": null,
   "metadata": {},
   "outputs": [
    {
     "name": "stdout",
     "output_type": "stream",
     "text": [
      "Error Detected\n"
     ]
    }
   ],
   "source": [
    "try:\n",
    "    print(10/0)\n",
    "except Exception:\n",
    "    print('Error Detected')"
   ]
  },
  {
   "cell_type": "code",
   "execution_count": null,
   "metadata": {},
   "outputs": [
    {
     "name": "stdout",
     "output_type": "stream",
     "text": [
      "Errors Detected: division by zero\n"
     ]
    }
   ],
   "source": [
    "try:\n",
    "    print(10/0)\n",
    "except Exception as err:\n",
    "    print('Errors Detected:',err)\n"
   ]
  },
  {
   "cell_type": "code",
   "execution_count": 282,
   "metadata": {},
   "outputs": [
    {
     "name": "stdout",
     "output_type": "stream",
     "text": [
      "server is listening\n"
     ]
    },
    {
     "ename": "KeyboardInterrupt",
     "evalue": "",
     "output_type": "error",
     "traceback": [
      "\u001b[0;31m---------------------------------------------------------------------------\u001b[0m",
      "\u001b[0;31mKeyboardInterrupt\u001b[0m                         Traceback (most recent call last)",
      "\u001b[1;32m/home/mahlon.k.kirwa80/Desktop/PythonProgrammingClass/CYBOLC/class_notes.ipynb Cell 99\u001b[0m line \u001b[0;36m1\n\u001b[1;32m     <a href='vscode-notebook-cell:/home/mahlon.k.kirwa80/Desktop/PythonProgrammingClass/CYBOLC/class_notes.ipynb#Y236sZmlsZQ%3D%3D?line=15'>16</a>\u001b[0m         client_socket\u001b[39m.\u001b[39mclose()\n\u001b[1;32m     <a href='vscode-notebook-cell:/home/mahlon.k.kirwa80/Desktop/PythonProgrammingClass/CYBOLC/class_notes.ipynb#Y236sZmlsZQ%3D%3D?line=17'>18</a>\u001b[0m \u001b[39mif\u001b[39;00m \u001b[39m__name__\u001b[39m \u001b[39m==\u001b[39m \u001b[39m'\u001b[39m\u001b[39m__main__\u001b[39m\u001b[39m'\u001b[39m:\n\u001b[0;32m---> <a href='vscode-notebook-cell:/home/mahlon.k.kirwa80/Desktop/PythonProgrammingClass/CYBOLC/class_notes.ipynb#Y236sZmlsZQ%3D%3D?line=18'>19</a>\u001b[0m     tcp_qotd_service()\n",
      "\u001b[1;32m/home/mahlon.k.kirwa80/Desktop/PythonProgrammingClass/CYBOLC/class_notes.ipynb Cell 99\u001b[0m line \u001b[0;36m1\n\u001b[1;32m      <a href='vscode-notebook-cell:/home/mahlon.k.kirwa80/Desktop/PythonProgrammingClass/CYBOLC/class_notes.ipynb#Y236sZmlsZQ%3D%3D?line=8'>9</a>\u001b[0m \u001b[39m# the loop makes it work continously; i.e. it is now a \"service\"\u001b[39;00m\n\u001b[1;32m     <a href='vscode-notebook-cell:/home/mahlon.k.kirwa80/Desktop/PythonProgrammingClass/CYBOLC/class_notes.ipynb#Y236sZmlsZQ%3D%3D?line=9'>10</a>\u001b[0m \u001b[39mwhile\u001b[39;00m \u001b[39mTrue\u001b[39;00m:\n\u001b[0;32m---> <a href='vscode-notebook-cell:/home/mahlon.k.kirwa80/Desktop/PythonProgrammingClass/CYBOLC/class_notes.ipynb#Y236sZmlsZQ%3D%3D?line=10'>11</a>\u001b[0m     client_socket, address \u001b[39m=\u001b[39m s\u001b[39m.\u001b[39;49maccept()\n\u001b[1;32m     <a href='vscode-notebook-cell:/home/mahlon.k.kirwa80/Desktop/PythonProgrammingClass/CYBOLC/class_notes.ipynb#Y236sZmlsZQ%3D%3D?line=11'>12</a>\u001b[0m     quote \u001b[39m=\u001b[39m \u001b[39mb\u001b[39m\u001b[39m'\u001b[39m\u001b[39mObject oriented programs are offered as alternatives to correct ones.\u001b[39m\u001b[39m'\u001b[39m\n\u001b[1;32m     <a href='vscode-notebook-cell:/home/mahlon.k.kirwa80/Desktop/PythonProgrammingClass/CYBOLC/class_notes.ipynb#Y236sZmlsZQ%3D%3D?line=12'>13</a>\u001b[0m     \u001b[39m# .sendall() will divide up your message if it is larger than the buffer,\u001b[39;00m\n\u001b[1;32m     <a href='vscode-notebook-cell:/home/mahlon.k.kirwa80/Desktop/PythonProgrammingClass/CYBOLC/class_notes.ipynb#Y236sZmlsZQ%3D%3D?line=13'>14</a>\u001b[0m     \u001b[39m# it sends until complete\u001b[39;00m\n",
      "File \u001b[0;32m/usr/lib/python3.8/socket.py:292\u001b[0m, in \u001b[0;36msocket.accept\u001b[0;34m(self)\u001b[0m\n\u001b[1;32m    285\u001b[0m \u001b[39mdef\u001b[39;00m \u001b[39maccept\u001b[39m(\u001b[39mself\u001b[39m):\n\u001b[1;32m    286\u001b[0m \u001b[39m    \u001b[39m\u001b[39m\"\"\"accept() -> (socket object, address info)\u001b[39;00m\n\u001b[1;32m    287\u001b[0m \n\u001b[1;32m    288\u001b[0m \u001b[39m    Wait for an incoming connection.  Return a new socket\u001b[39;00m\n\u001b[1;32m    289\u001b[0m \u001b[39m    representing the connection, and the address of the client.\u001b[39;00m\n\u001b[1;32m    290\u001b[0m \u001b[39m    For IP sockets, the address info is a pair (hostaddr, port).\u001b[39;00m\n\u001b[1;32m    291\u001b[0m \u001b[39m    \"\"\"\u001b[39;00m\n\u001b[0;32m--> 292\u001b[0m     fd, addr \u001b[39m=\u001b[39m \u001b[39mself\u001b[39;49m\u001b[39m.\u001b[39;49m_accept()\n\u001b[1;32m    293\u001b[0m     sock \u001b[39m=\u001b[39m socket(\u001b[39mself\u001b[39m\u001b[39m.\u001b[39mfamily, \u001b[39mself\u001b[39m\u001b[39m.\u001b[39mtype, \u001b[39mself\u001b[39m\u001b[39m.\u001b[39mproto, fileno\u001b[39m=\u001b[39mfd)\n\u001b[1;32m    294\u001b[0m     \u001b[39m# Issue #7995: if no default timeout is set and the listening\u001b[39;00m\n\u001b[1;32m    295\u001b[0m     \u001b[39m# socket had a (non-zero) timeout, force the new socket in blocking\u001b[39;00m\n\u001b[1;32m    296\u001b[0m     \u001b[39m# mode to override platform-specific socket flags inheritance.\u001b[39;00m\n",
      "\u001b[0;31mKeyboardInterrupt\u001b[0m: "
     ]
    }
   ],
   "source": [
    "#!/usr/bin/env python3\n",
    "import socket\n",
    "\n",
    "def tcp_qotd_service():\n",
    "    s = socket.socket() \n",
    "    s.bind(('',12346)) #allow all ips to bind to my socket \n",
    "    s.listen()\n",
    "    print(\"server is listening\")\n",
    "    # the loop makes it work continously; i.e. it is now a \"service\"\n",
    "    while True:\n",
    "        client_socket, address = s.accept()\n",
    "        quote = b'Object oriented programs are offered as alternatives to correct ones.'\n",
    "        # .sendall() will divide up your message if it is larger than the buffer,\n",
    "        # it sends until complete\n",
    "        client_socket.sendall(quote)\n",
    "        client_socket.close()\n",
    "\n",
    "if __name__ == '__main__':\n",
    "    tcp_qotd_service()"
   ]
  },
  {
   "cell_type": "code",
   "execution_count": null,
   "metadata": {},
   "outputs": [],
   "source": [
    "#!/usr/bin/env python3\n",
    "import socket\n",
    "\n",
    "def tcp_qotd_client():\n",
    "    s = socket.socket()\n",
    "    s.connect(('127.0.0.1',12345))\n",
    "    msg = bytearray() # <- A bytearray to store the parts of message\n",
    "    chunk = s.recv(4) # <- Receive the first message piece\n",
    "    while chunk:\n",
    "        print(msg) # <- To see the message grow\n",
    "        msg.extend(chunk) # <- adds to bytearray\n",
    "        chunk = s.recv(4) # <- receives next chunk of msg\n",
    "    print(msg) # <- prints the completed message\n",
    "\n",
    "if __name__ == '__main__':\n",
    "    tcp_qotd_client()"
   ]
  },
  {
   "cell_type": "code",
   "execution_count": 302,
   "metadata": {},
   "outputs": [
    {
     "ename": "KeyboardInterrupt",
     "evalue": "",
     "output_type": "error",
     "traceback": [
      "\u001b[0;31m---------------------------------------------------------------------------\u001b[0m",
      "\u001b[0;31mKeyboardInterrupt\u001b[0m                         Traceback (most recent call last)",
      "\u001b[1;32m/home/mahlon.k.kirwa80/Desktop/PythonProgrammingClass/CYBOLC/class_notes.ipynb Cell 101\u001b[0m line \u001b[0;36m2\n\u001b[1;32m     <a href='vscode-notebook-cell:/home/mahlon.k.kirwa80/Desktop/PythonProgrammingClass/CYBOLC/class_notes.ipynb#Y241sZmlsZQ%3D%3D?line=19'>20</a>\u001b[0m         \u001b[39mprint\u001b[39m(\u001b[39m'\u001b[39m\u001b[39mError found\u001b[39m\u001b[39m'\u001b[39m,err)\n\u001b[1;32m     <a href='vscode-notebook-cell:/home/mahlon.k.kirwa80/Desktop/PythonProgrammingClass/CYBOLC/class_notes.ipynb#Y241sZmlsZQ%3D%3D?line=20'>21</a>\u001b[0m         \u001b[39mreturn\u001b[39;00m \u001b[39mFalse\u001b[39;00m\n\u001b[0;32m---> <a href='vscode-notebook-cell:/home/mahlon.k.kirwa80/Desktop/PythonProgrammingClass/CYBOLC/class_notes.ipynb#Y241sZmlsZQ%3D%3D?line=22'>23</a>\u001b[0m clientTCP(\u001b[39m\"\u001b[39;49m\u001b[39m10.50.29.207\u001b[39;49m\u001b[39m\"\u001b[39;49m,\u001b[39m59878\u001b[39;49m)\n",
      "\u001b[1;32m/home/mahlon.k.kirwa80/Desktop/PythonProgrammingClass/CYBOLC/class_notes.ipynb Cell 101\u001b[0m line \u001b[0;36m1\n\u001b[1;32m      <a href='vscode-notebook-cell:/home/mahlon.k.kirwa80/Desktop/PythonProgrammingClass/CYBOLC/class_notes.ipynb#Y241sZmlsZQ%3D%3D?line=7'>8</a>\u001b[0m msg \u001b[39m=\u001b[39m \u001b[39mbytearray\u001b[39m(\u001b[39mb\u001b[39m\u001b[39m'\u001b[39m\u001b[39mDDOS ATTACK - YOU ARE HACKED BY WINSTON CHURCHILL \u001b[39m\u001b[39m'\u001b[39m)\n\u001b[1;32m      <a href='vscode-notebook-cell:/home/mahlon.k.kirwa80/Desktop/PythonProgrammingClass/CYBOLC/class_notes.ipynb#Y241sZmlsZQ%3D%3D?line=8'>9</a>\u001b[0m \u001b[39mwhile\u001b[39;00m name_temp:\n\u001b[0;32m---> <a href='vscode-notebook-cell:/home/mahlon.k.kirwa80/Desktop/PythonProgrammingClass/CYBOLC/class_notes.ipynb#Y241sZmlsZQ%3D%3D?line=9'>10</a>\u001b[0m     s\u001b[39m.\u001b[39;49msendall(msg)\n\u001b[1;32m     <a href='vscode-notebook-cell:/home/mahlon.k.kirwa80/Desktop/PythonProgrammingClass/CYBOLC/class_notes.ipynb#Y241sZmlsZQ%3D%3D?line=10'>11</a>\u001b[0m rcv_msg \u001b[39m=\u001b[39m \u001b[39mbytearray\u001b[39m()\n\u001b[1;32m     <a href='vscode-notebook-cell:/home/mahlon.k.kirwa80/Desktop/PythonProgrammingClass/CYBOLC/class_notes.ipynb#Y241sZmlsZQ%3D%3D?line=11'>12</a>\u001b[0m chunk \u001b[39m=\u001b[39m s\u001b[39m.\u001b[39mrecv(\u001b[39m2\u001b[39m)\n",
      "\u001b[0;31mKeyboardInterrupt\u001b[0m: "
     ]
    }
   ],
   "source": [
    "import socket\n",
    "\n",
    "def clientTCP(address, port):\n",
    "    s = socket.socket()\n",
    "    try:\n",
    "        s.connect((address,port))\n",
    "        name_temp = True\n",
    "        msg = bytearray(b'DDOS ATTACK - YOU ARE HACKED BY WINSTON CHURCHILL ')\n",
    "        while name_temp:\n",
    "            s.sendall(msg)\n",
    "        rcv_msg = bytearray()\n",
    "        chunk = s.recv(2)\n",
    "\n",
    "        while chunk:\n",
    "            rcv_msg.extend(chunk)\n",
    "            print(rcv_msg)\n",
    "            chunk = s.recv(2)\n",
    "        print(rcv_msg)\n",
    "    except Exception as err:\n",
    "        print('Error found',err)\n",
    "        return False\n",
    "\n",
    "clientTCP(\"10.50.29.207\",59878)"
   ]
  }
 ],
 "metadata": {
  "kernelspec": {
   "display_name": "Python 3",
   "language": "python",
   "name": "python3"
  },
  "language_info": {
   "codemirror_mode": {
    "name": "ipython",
    "version": 3
   },
   "file_extension": ".py",
   "mimetype": "text/x-python",
   "name": "python",
   "nbconvert_exporter": "python",
   "pygments_lexer": "ipython3",
   "version": "3.9.5"
  }
 },
 "nbformat": 4,
 "nbformat_minor": 2
}
