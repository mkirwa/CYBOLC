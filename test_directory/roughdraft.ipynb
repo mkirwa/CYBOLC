{
 "cells": [
  {
   "cell_type": "code",
   "execution_count": 4,
   "metadata": {},
   "outputs": [
    {
     "data": {
      "text/plain": [
       "[9, 6, 7, 8, 5]"
      ]
     },
     "execution_count": 4,
     "metadata": {},
     "output_type": "execute_result"
    }
   ],
   "source": [
    "a = [5,6,7,8,9]\n",
    "a[0],a[-1]=a[-1],a[0]\n",
    "a"
   ]
  },
  {
   "cell_type": "code",
   "execution_count": 12,
   "metadata": {},
   "outputs": [
    {
     "name": "stdout",
     "output_type": "stream",
     "text": [
      "00101010\n",
      "['0', 'b', '1', '0', '1', '0', '1', '1']\n",
      "43\n"
     ]
    }
   ],
   "source": [
    "a = 42\n",
    "bin(a)\n",
    "format(a,'#b')\n",
    "format(a,'b')\n",
    "print(format(a,'0>8b'))\n",
    "l = list(bin(a))\n",
    "l[-1] = '1'\n",
    "print(l)\n",
    "a = int(''.join(l),2)\n",
    "print(a)"
   ]
  },
  {
   "cell_type": "code",
   "execution_count": null,
   "metadata": {},
   "outputs": [],
   "source": [
    "# def invert(l):\n",
    "#     '''Inverts the given list\n",
    "#     Args:\n",
    "#         l (list): list of strings representing integers in the range [0-255]\n",
    "#     Returns:\n",
    "#         None\n",
    "#     '''\n",
    "#     inverted = []\n",
    "#     for i in l:\n",
    "#         temp = 255 - int(i)\n",
    "#         inverted.append(temp)\n",
    "#     return inverted\n",
    "\n",
    "# def inverted(l):\n",
    "#     '''Returns a new list that is the given list inverted\n",
    "#     Args:\n",
    "#         l (list): list of strings representing integers in the range [0-255]\n",
    "#     Returns:\n",
    "#         list: new list that is the given list inverted\n",
    "#     '''\n",
    "#     return [str(255 - int(i)) for i in l]\n",
    "\n",
    "def invert(l):\n",
    "    '''Inverts the given list\n",
    "    Args:\n",
    "        l (list): list of strings representing integers in the range [0-255]\n",
    "    Returns:\n",
    "        None\n",
    "    '''\n",
    "    for i in range(len(l)):\n",
    "        l[i] = str(255 - int(l[i]))\n",
    "        \n",
    "def inverted(l):\n",
    "    '''Returns a new list that is the given list inverted\n",
    "    Args:\n",
    "        l (list): list of strings representing integers in the range [0-255]\n",
    "    Returns:\n",
    "        list: new list that is the given list inverted\n",
    "    '''\n",
    "    return [str(255 - int(i)) for i in l]\n",
    "\n",
    "\n",
    "print('original list :', ['100','200','250'])\n",
    "temp = invert(['100','200','250'])\n",
    "print('Inverted list :' ,temp)\n",
    "print('Uninverted list: ',inverted(temp))\n",
    "\n",
    "\n",
    "# Incorrect:AssertionError: Lists differ: ['100', '200', '250'] != ['155', '55', '5'] First differing element 0: '100' '155'\n",
    "# Incorrect:AssertionError: Lists differ: ['100', '200', '250'] != ['155', '55', '5'] First differing element 0: '100' '155'\n",
    "\n"
   ]
  },
  {
   "cell_type": "code",
   "execution_count": null,
   "metadata": {},
   "outputs": [],
   "source": [
    "word = 'mine is this'\n",
    "word2 = list(word)\n",
    "new_one = []\n",
    "for i in range(len(word2)):\n",
    "    #print(-i-1)\n",
    "    print(word2[-i-1])"
   ]
  }
 ],
 "metadata": {
  "kernelspec": {
   "display_name": "Python 3",
   "language": "python",
   "name": "python3"
  },
  "language_info": {
   "codemirror_mode": {
    "name": "ipython",
    "version": 3
   },
   "file_extension": ".py",
   "mimetype": "text/x-python",
   "name": "python",
   "nbconvert_exporter": "python",
   "pygments_lexer": "ipython3",
   "version": "3.9.5"
  }
 },
 "nbformat": 4,
 "nbformat_minor": 2
}
