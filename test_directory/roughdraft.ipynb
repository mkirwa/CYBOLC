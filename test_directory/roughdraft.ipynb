{
 "cells": [
  {
   "cell_type": "code",
   "execution_count": 4,
   "metadata": {},
   "outputs": [
    {
     "data": {
      "text/plain": [
       "[9, 6, 7, 8, 5]"
      ]
     },
     "execution_count": 4,
     "metadata": {},
     "output_type": "execute_result"
    }
   ],
   "source": [
    "a = [5,6,7,8,9]\n",
    "a[0],a[-1]=a[-1],a[0]\n",
    "a"
   ]
  },
  {
   "cell_type": "code",
   "execution_count": 12,
   "metadata": {},
   "outputs": [
    {
     "name": "stdout",
     "output_type": "stream",
     "text": [
      "00101010\n",
      "['0', 'b', '1', '0', '1', '0', '1', '1']\n",
      "43\n"
     ]
    }
   ],
   "source": [
    "a = 42\n",
    "bin(a)\n",
    "format(a,'#b')\n",
    "format(a,'b')\n",
    "print(format(a,'0>8b'))\n",
    "l = list(bin(a))\n",
    "l[-1] = '1'\n",
    "print(l)\n",
    "a = int(''.join(l),2)\n",
    "print(a)"
   ]
  },
  {
   "cell_type": "code",
   "execution_count": null,
   "metadata": {},
   "outputs": [],
   "source": [
    "# def invert(l):\n",
    "#     '''Inverts the given list\n",
    "#     Args:\n",
    "#         l (list): list of strings representing integers in the range [0-255]\n",
    "#     Returns:\n",
    "#         None\n",
    "#     '''\n",
    "#     inverted = []\n",
    "#     for i in l:\n",
    "#         temp = 255 - int(i)\n",
    "#         inverted.append(temp)\n",
    "#     return inverted\n",
    "\n",
    "# def inverted(l):\n",
    "#     '''Returns a new list that is the given list inverted\n",
    "#     Args:\n",
    "#         l (list): list of strings representing integers in the range [0-255]\n",
    "#     Returns:\n",
    "#         list: new list that is the given list inverted\n",
    "#     '''\n",
    "#     return [str(255 - int(i)) for i in l]\n",
    "\n",
    "def invert(l):\n",
    "    '''Inverts the given list\n",
    "    Args:\n",
    "        l (list): list of strings representing integers in the range [0-255]\n",
    "    Returns:\n",
    "        None\n",
    "    '''\n",
    "    for i in range(len(l)):\n",
    "        l[i] = str(255 - int(l[i]))\n",
    "        \n",
    "def inverted(l):\n",
    "    '''Returns a new list that is the given list inverted\n",
    "    Args:\n",
    "        l (list): list of strings representing integers in the range [0-255]\n",
    "    Returns:\n",
    "        list: new list that is the given list inverted\n",
    "    '''\n",
    "    return [str(255 - int(i)) for i in l]\n",
    "\n",
    "\n",
    "print('original list :', ['100','200','250'])\n",
    "temp = invert(['100','200','250'])\n",
    "print('Inverted list :' ,temp)\n",
    "print('Uninverted list: ',inverted(temp))\n",
    "\n",
    "\n",
    "# Incorrect:AssertionError: Lists differ: ['100', '200', '250'] != ['155', '55', '5'] First differing element 0: '100' '155'\n",
    "# Incorrect:AssertionError: Lists differ: ['100', '200', '250'] != ['155', '55', '5'] First differing element 0: '100' '155'\n",
    "\n"
   ]
  },
  {
   "cell_type": "code",
   "execution_count": null,
   "metadata": {},
   "outputs": [],
   "source": [
    "word = 'mine is this'\n",
    "word2 = list(word)\n",
    "new_one = []\n",
    "for i in range(len(word2)):\n",
    "    #print(-i-1)\n",
    "    print(word2[-i-1])"
   ]
  },
  {
   "cell_type": "code",
   "execution_count": 7,
   "metadata": {},
   "outputs": [
    {
     "name": "stdout",
     "output_type": "stream",
     "text": [
      "cba cba cba\n"
     ]
    }
   ],
   "source": [
    "def read_and_reverse_lines():\n",
    "    lines = []\n",
    "    while True:\n",
    "        line = input(\"Enter a line (or press Enter to finish): \")\n",
    "        if not line:\n",
    "            break\n",
    "        lines.append(line[::-1])  # Reversing the line before appending to the list\n",
    "    return lines\n",
    "\n",
    "reversed_lines = read_and_reverse_lines()\n",
    "for line in reversed_lines:\n",
    "    print(line)"
   ]
  },
  {
   "cell_type": "code",
   "execution_count": null,
   "metadata": {},
   "outputs": [],
   "source": [
    "num = 10000\n",
    "for i in range(10000):\n",
    "    print(f\"{num:04d}\")"
   ]
  },
  {
   "cell_type": "code",
   "execution_count": null,
   "metadata": {},
   "outputs": [],
   "source": [
    "def user_io():\n",
    "    while True:  \n",
    "            word = list(input())\n",
    "            if not word:\n",
    "                break\n",
    "            return word\n",
    "\n",
    "user_io()"
   ]
  },
  {
   "cell_type": "code",
   "execution_count": null,
   "metadata": {},
   "outputs": [],
   "source": [
    "class car:\n",
    "    def __init__(self):\n",
    "        self.currentspeed = 0\n",
    "\n",
    "    def setspeed(self,speed):\n",
    "        self.currentspeed = speed\n",
    "\n",
    "    def slowdown(self, slow = 1):\n",
    "        #if self.currentspeed>= 1 + slow:\n",
    "        self.currentspeed -=slow\n",
    "\n",
    "    def speedup(self):\n",
    "        self.currentspeed +=1\n",
    "\n",
    "    def stop(self):\n",
    "        self.currentspeed=0\n",
    "\n",
    "    def getspeed(self):\n",
    "        return self.currentspeed\n",
    "\n",
    "    def __str__(self):\n",
    "        return f'Current speed: {self.currentspeed}'\n",
    "    \n",
    "if __name__=='__main__':\n",
    "    truck1 = cyber_truck()\n",
    "    truck1.setspeed(50)\n",
    "    print(truck1)\n",
    "    truck1.slow_down(20)\n",
    "    print(truck1)\n",
    "    truck1.slow_down()\n",
    "    print(truck1)\n",
    "    truck1.stop()\n",
    "    print(truck1)\n"
   ]
  },
  {
   "cell_type": "code",
   "execution_count": 40,
   "metadata": {},
   "outputs": [
    {
     "name": "stdout",
     "output_type": "stream",
     "text": [
      "45\n"
     ]
    }
   ],
   "source": [
    "def q1():\n",
    "    list_temp = []\n",
    "    string = input()\n",
    "    for i in string:\n",
    "        if i.isdigit():\n",
    "            list_temp.append(i)\n",
    "    return ''.join(list_temp)\n",
    "print(q1())"
   ]
  },
  {
   "cell_type": "code",
   "execution_count": 50,
   "metadata": {},
   "outputs": [
    {
     "data": {
      "text/plain": [
       "'first.middleInitial.lastName@domain.com'"
      ]
     },
     "execution_count": 50,
     "metadata": {},
     "output_type": "execute_result"
    }
   ],
   "source": [
    "def q1(first,middle,last,domain):\n",
    "\n",
    "    middle = middle[0]\n",
    "\n",
    "    my_list = [first,middle,last]\n",
    "    result = '.'.join(my_list)\n",
    "    result2 = [result,domain]\n",
    "    result1 = '@'.join(result2)\n",
    "    result1 = [result1,'com']\n",
    "    final_result = '.'.join(result1)\n",
    "    return str(final_result)\n",
    "\n",
    "q1('first','middleInitial','lastName','domain')\n",
    "\n",
    "# Incorrect:AssertionError: '' != 'harry.t.wilson@google.com' + harry.t.wilson@google.com\n"
   ]
  },
  {
   "cell_type": "code",
   "execution_count": 53,
   "metadata": {},
   "outputs": [
    {
     "name": "stdout",
     "output_type": "stream",
     "text": [
      "('alan', 'm', 'turing', 'genius', 'com')\n"
     ]
    }
   ],
   "source": [
    "email = 'alan.m.turing@genius.com'\n",
    "temp = email.split('.')\n",
    "temp2 = '@'.join(temp)\n",
    "lst = temp2.split('@')\n",
    "return tuple(lst)\n"
   ]
  },
  {
   "cell_type": "code",
   "execution_count": 58,
   "metadata": {},
   "outputs": [
    {
     "data": {
      "text/plain": [
       "{'h': 1, 'e': 1, 'l': 2, 'o': 1}"
      ]
     },
     "execution_count": 58,
     "metadata": {},
     "output_type": "execute_result"
    }
   ],
   "source": [
    "def count_words(filepath):\n",
    "        #with open(filepath, 'r') as new_file:\n",
    "        #read_new_file = new_file.read()\n",
    "    #read_new_file = open(filepath, \"r\") \n",
    "    # Create an empty dictionary \n",
    "    d = dict() \n",
    "\n",
    "    # Loop through each line of the file \n",
    "    for line in filepath: \n",
    "        # Remove the leading spaces and newline character \n",
    "        #line = line.strip() \n",
    "\n",
    "        # Split the line into words \n",
    "        words = line.split(\" \") \n",
    "\n",
    "        # Iterate over each word in line \n",
    "        for word in words: \n",
    "            #print(word)\n",
    "            # Check if the word is already in dictionary \n",
    "            # crayons['orange'] = 'mango' \n",
    "            if word in d: \n",
    "                # Increment count of word by 1 \n",
    "                d[word] = d[word] + 1\n",
    "            else: \n",
    "                # Add the word to dictionary with count 1 \n",
    "                d[word] = 1\n",
    "\n",
    "    return d\n",
    "\n",
    "count_words('hello')\n"
   ]
  },
  {
   "cell_type": "code",
   "execution_count": 59,
   "metadata": {},
   "outputs": [
    {
     "data": {
      "text/plain": [
       "{'h': 1, 'e': 1, 'l': 2, 'o': 1}"
      ]
     },
     "execution_count": 59,
     "metadata": {},
     "output_type": "execute_result"
    }
   ],
   "source": [
    "def count_words(strng):\n",
    "    d = dict() \n",
    "    for line in strng:  \n",
    "        words = line.split(\" \") \n",
    "        for word in words: \n",
    "            if word in d: \n",
    "                d[word] = d[word] + 1\n",
    "            else: \n",
    "                d[word] = 1\n",
    "\n",
    "    return d\n",
    "\n",
    "count_words('hello')\n"
   ]
  },
  {
   "cell_type": "code",
   "execution_count": 60,
   "metadata": {},
   "outputs": [
    {
     "data": {
      "text/plain": [
       "('kirwa', 'awrik')"
      ]
     },
     "execution_count": 60,
     "metadata": {},
     "output_type": "execute_result"
    }
   ],
   "source": [
    "def q1():\n",
    "    last_name = 'kirwa'\n",
    "    tuple_1 = (last_name, last_name[::-1])\n",
    "    return tuple_1\n",
    "\n",
    "q1()"
   ]
  },
  {
   "cell_type": "code",
   "execution_count": null,
   "metadata": {},
   "outputs": [],
   "source": [
    "import socket\n",
    "\n",
    "def q1(address,port):\n",
    "    pass\n",
    "\n",
    "\n",
    "\n",
    "def q1(address,port):\n",
    "    s = socket.socket()\n",
    "    s.connect((address,port))\n",
    "    msg = bytearray(b'hello')\n",
    "    s.sendall(msg)\n",
    "    rcv_msg = bytearray()\n",
    "    chunk = s.recv(2)\n",
    "    while chunk:\n",
    "        rcv_msg.extend(chunk)\n",
    "        chunk = s.recv(2)\n",
    "    return rcv_msg"
   ]
  },
  {
   "cell_type": "code",
   "execution_count": null,
   "metadata": {},
   "outputs": [],
   "source": [
    "def q1(*args,**kwargs):\n",
    "    sum = 0\n",
    "    sum1 = 0\n",
    "\n",
    "    for num in args:\n",
    "        #if not str(num).isdigit():\n",
    "            #return False\n",
    "        #else:\n",
    "        sum += num\n",
    "\n",
    "    for num in kwargs:\n",
    "        #if not str(num).isdigit():\n",
    "            #return False\n",
    "        #else:\n",
    "        sum1 += num\n",
    "    return sum, sum1\n",
    "\n",
    "\n",
    "    "
   ]
  },
  {
   "cell_type": "code",
   "execution_count": 63,
   "metadata": {},
   "outputs": [
    {
     "data": {
      "text/plain": [
       "(10, 2)"
      ]
     },
     "execution_count": 63,
     "metadata": {},
     "output_type": "execute_result"
    }
   ],
   "source": [
    "def doSum3(*args,**kwargs):\n",
    "    answer = sum (args)\n",
    "    answer2 = len(kwargs)\n",
    "    return answer,answer2\n",
    "\n",
    "d2 = {'a':10, 'b':20}\n",
    "doSum3(1,2,3,4, **d2)\n",
    "\n",
    "\n",
    "\n"
   ]
  },
  {
   "cell_type": "code",
   "execution_count": null,
   "metadata": {},
   "outputs": [],
   "source": [
    "def q1(*args,**kwargs):\n",
    "    sum = 0\n",
    "    sum1 = 0\n",
    "\n",
    "    for num in args:\n",
    "        #if not str(num).isdigit():\n",
    "            #return False\n",
    "        #else:\n",
    "        sum += num\n",
    "\n",
    "    for num in kwargs:\n",
    "        #if not str(num).isdigit():\n",
    "            #return False\n",
    "        #else:\n",
    "        sum1 += num\n",
    "    return sum, sum1\n",
    "    "
   ]
  },
  {
   "cell_type": "code",
   "execution_count": 87,
   "metadata": {},
   "outputs": [
    {
     "ename": "ValueError",
     "evalue": "invalid literal for int() with base 32: '0x10C0FFEE'",
     "output_type": "error",
     "traceback": [
      "\u001b[0;31m---------------------------------------------------------------------------\u001b[0m",
      "\u001b[0;31mValueError\u001b[0m                                Traceback (most recent call last)",
      "\u001b[1;32m/home/mahlon.k.kirwa80/Desktop/PythonProgrammingClass/CYBOLC/test_directory/roughdraft.ipynb Cell 19\u001b[0m line \u001b[0;36m4\n\u001b[1;32m     <a href='vscode-notebook-cell:/home/mahlon.k.kirwa80/Desktop/PythonProgrammingClass/CYBOLC/test_directory/roughdraft.ipynb#X33sZmlsZQ%3D%3D?line=40'>41</a>\u001b[0m             set_hexadecimal_values \u001b[39m|\u001b[39m\u001b[39m=\u001b[39m\u001b[39m0x800\u001b[39m\n\u001b[1;32m     <a href='vscode-notebook-cell:/home/mahlon.k.kirwa80/Desktop/PythonProgrammingClass/CYBOLC/test_directory/roughdraft.ipynb#X33sZmlsZQ%3D%3D?line=42'>43</a>\u001b[0m     \u001b[39mreturn\u001b[39;00m set_hexadecimal_values\n\u001b[0;32m---> <a href='vscode-notebook-cell:/home/mahlon.k.kirwa80/Desktop/PythonProgrammingClass/CYBOLC/test_directory/roughdraft.ipynb#X33sZmlsZQ%3D%3D?line=44'>45</a>\u001b[0m update_status()\n",
      "\u001b[1;32m/home/mahlon.k.kirwa80/Desktop/PythonProgrammingClass/CYBOLC/test_directory/roughdraft.ipynb Cell 19\u001b[0m line \u001b[0;36m5\n\u001b[1;32m      <a href='vscode-notebook-cell:/home/mahlon.k.kirwa80/Desktop/PythonProgrammingClass/CYBOLC/test_directory/roughdraft.ipynb#X33sZmlsZQ%3D%3D?line=0'>1</a>\u001b[0m \u001b[39mdef\u001b[39;00m \u001b[39mupdate_status\u001b[39m():\n\u001b[1;32m      <a href='vscode-notebook-cell:/home/mahlon.k.kirwa80/Desktop/PythonProgrammingClass/CYBOLC/test_directory/roughdraft.ipynb#X33sZmlsZQ%3D%3D?line=2'>3</a>\u001b[0m     status \u001b[39m=\u001b[39m \u001b[39m'\u001b[39m\u001b[39m0x10C0FFEE\u001b[39m\u001b[39m'\u001b[39m\n\u001b[0;32m----> <a href='vscode-notebook-cell:/home/mahlon.k.kirwa80/Desktop/PythonProgrammingClass/CYBOLC/test_directory/roughdraft.ipynb#X33sZmlsZQ%3D%3D?line=4'>5</a>\u001b[0m     hex_integer \u001b[39m=\u001b[39m \u001b[39mint\u001b[39;49m(\u001b[39mstr\u001b[39;49m(\u001b[39m'\u001b[39;49m\u001b[39m0x10C0FFEE\u001b[39;49m\u001b[39m'\u001b[39;49m), \u001b[39m32\u001b[39;49m)\n\u001b[1;32m      <a href='vscode-notebook-cell:/home/mahlon.k.kirwa80/Desktop/PythonProgrammingClass/CYBOLC/test_directory/roughdraft.ipynb#X33sZmlsZQ%3D%3D?line=5'>6</a>\u001b[0m     set_hexadecimal_values \u001b[39m=\u001b[39m (hex_integer \u001b[39m>>\u001b[39m \u001b[39m12\u001b[39m) \u001b[39m&\u001b[39m \u001b[39m0b111111111111\u001b[39m\n\u001b[1;32m      <a href='vscode-notebook-cell:/home/mahlon.k.kirwa80/Desktop/PythonProgrammingClass/CYBOLC/test_directory/roughdraft.ipynb#X33sZmlsZQ%3D%3D?line=7'>8</a>\u001b[0m     \u001b[39mwith\u001b[39;00m \u001b[39mopen\u001b[39m(\u001b[39m'\u001b[39m\u001b[39mnetwork.txt\u001b[39m\u001b[39m'\u001b[39m,\u001b[39m'\u001b[39m\u001b[39mr\u001b[39m\u001b[39m'\u001b[39m) \u001b[39mas\u001b[39;00m network, \u001b[39mopen\u001b[39m(\u001b[39m'\u001b[39m\u001b[39mfirewall.txt\u001b[39m\u001b[39m'\u001b[39m, \u001b[39m'\u001b[39m\u001b[39mr\u001b[39m\u001b[39m'\u001b[39m) \u001b[39mas\u001b[39;00m firewall, \u001b[39mopen\u001b[39m(\u001b[39m'\u001b[39m\u001b[39musers.txt\u001b[39m\u001b[39m'\u001b[39m, \u001b[39m'\u001b[39m\u001b[39mr\u001b[39m\u001b[39m'\u001b[39m) \u001b[39mas\u001b[39;00m users:\n",
      "\u001b[0;31mValueError\u001b[0m: invalid literal for int() with base 32: '0x10C0FFEE'"
     ]
    }
   ],
   "source": []
  },
  {
   "cell_type": "markdown",
   "metadata": {},
   "source": []
  },
  {
   "cell_type": "code",
   "execution_count": null,
   "metadata": {},
   "outputs": [],
   "source": [
    "Incorrect:FAIL: test_q1 [Static example] (points=5) AssertionError: 2331 != 281081921\n",
    "\n",
    "\n",
    "def update_status(status):\n",
    "    hex_integer = int(str(status), 32)\n",
    "    set_hexadecimal_values = (hex_integer >> 12) & 0b111111111111\n",
    "\n",
    "    with open('network.txt','r') as network, open('firewall.txt', 'r') as firewall, open('users.txt', 'r') as users:\n",
    "        network_lines = network.readlines()\n",
    "        firewall_lines = firewall.readlines()\n",
    "        users_lines = users.readlines()\n",
    "\n",
    "    for i in range(len(network_lines)):\n",
    "        if network_lines[i] == 'NORMAL':\n",
    "            set_hexadecimal_values |=0x1\n",
    "        elif network_lines[i] == 'WARNING':\n",
    "            set_hexadecimal_values |=0x2\n",
    "        elif network_lines[i] == 'ERROR':\n",
    "            set_hexadecimal_values |=0x4\n",
    "        elif network_lines[i] == 'CRITICAL':\n",
    "            set_hexadecimal_values |=0x8\n",
    "    \n",
    "    for i in range(len(firewall_lines)):\n",
    "        if network_lines[i] == 'NORMAL':\n",
    "            set_hexadecimal_values |=0x10\n",
    "        elif network_lines[i] == 'WARNING':\n",
    "            set_hexadecimal_values |=0x20\n",
    "        elif network_lines[i] == 'ERROR':\n",
    "            set_hexadecimal_values |=0x40\n",
    "        elif network_lines[i] == 'CRITICAL':\n",
    "            set_hexadecimal_values |=0x80\n",
    "\n",
    "    for i in range(len(users_lines)):\n",
    "        if network_lines[i] == 'NORMAL':\n",
    "            set_hexadecimal_values |=0x100\n",
    "        elif network_lines[i] == 'WARNING':\n",
    "            set_hexadecimal_values |=0x200\n",
    "        elif network_lines[i] == 'ERROR':\n",
    "            set_hexadecimal_values |=0x400\n",
    "        elif network_lines[i] == 'CRITICAL':\n",
    "            set_hexadecimal_values |=0x800\n",
    "\n",
    "    return set_hexadecimal_values"
   ]
  }
 ],
 "metadata": {
  "kernelspec": {
   "display_name": "Python 3",
   "language": "python",
   "name": "python3"
  },
  "language_info": {
   "codemirror_mode": {
    "name": "ipython",
    "version": 3
   },
   "file_extension": ".py",
   "mimetype": "text/x-python",
   "name": "python",
   "nbconvert_exporter": "python",
   "pygments_lexer": "ipython3",
   "version": "3.8.10"
  }
 },
 "nbformat": 4,
 "nbformat_minor": 2
}
