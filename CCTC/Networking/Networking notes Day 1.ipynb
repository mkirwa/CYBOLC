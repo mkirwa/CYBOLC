{
 "cells": [
  {
   "cell_type": "code",
   "execution_count": null,
   "metadata": {},
   "outputs": [],
   "source": [
    "# ssh -X student@10.50.25.25, the -X is for X11 and allows the user to extract graphics from the remote machine\n",
    "# SSH uses both symmetric and asymmetric encryption. \n",
    "# Symmetric encryption is used to encrypt the data being sent over the network\n",
    "# Asymmetric encryption is used to encrypt the symmetric key that is used to encrypt the data\n",
    "# the client initiates the connection to the server. The server has the host key and the client has the client key/ user key\n",
    "# cd .ssh and then cat known_hosts shows you the keys that you have\n",
    "# ss -antl shows you the ports that are open on your machine and the state of the ports (listening, established, etc)\n",
    "# wireshark & is the command to open wireshark in the background and allow you to continue using the terminal window that you opened it in\n",
    "# wireshark is a packet sniffer that allows you to see the packets that are being sent over the network\n",
    "# Terminator is a terminal emulator that allows you to have multiple terminals open in one window and allows you to tile them in different ways to make it easier to see what is going on in each terminal window at the same time \n",
    "# netstat -tulpn shows you the ports that are open on your machine and the process that is using the port\n",
    "# ip a shows you the ip address of your machine and the ip address of the default gateway (router)\n",
    "# pcmanfn is a file manager that allows you to see the files on your machine and allows you to open them in different applications\n",
    "#-p ssh is the port that you are using to ssh into the machine\n",
    "# -L is the local port that you are using to connect to the remote machine\n",
    "# -R is the remote port that you are using to connect to the local machine\n",
    "# -D is the dynamic port that you are using to connect to the local machine\n",
    "# -C is the compression flag that allows you to compress the data that is being sent over the network\n",
    "# -P is the proxy command that allows you to use a proxy to connect to the remote machine\n",
    "\n"
   ]
  },
  {
   "cell_type": "code",
   "execution_count": null,
   "metadata": {},
   "outputs": [],
   "source": [
    "\n",
    "# Network Accsess CCTC - Netowrking Fundamentals\n",
    "\n",
    "# https://net.cybbh.io/-/public/-/jobs/853180/artifacts/modules/networking/slides-v4/01_data.html\n",
    "\n",
    "# IEEE 802.3 is the standard for ethernet and is the most common standard for ethernet \n",
    "# RFC 791 is the standard for IPv4 and is the most common standard for IPv4 \n",
    "# RFC 2460 is the standard for IPv6 and is the most common standard for IPv6 \n",
    "# IANA is the Internet Assigned Numbers Authority and is the organization that is responsible for assigning IP addresses to devices on the internet\n",
    "\n",
    "# The OSI Model is made up of 7 layers and is used to describe how data is sent over a network\n",
    "# The OSI Model is made up of the following layers: Physical, Data Link, Network, Transport, Session, Presentation, and Application\n",
    "# The difference between the OSI Model and the TCP/IP Model is that the OSI Model is a theoretical model and the TCP/IP Model is a practical model\n",
    "# The TCP/IP Model is made up of 4 layers and is used to describe how data is sent over a network\n",
    "# The TCP/IP Model is made up of the following layers: Link, Internet, Transport, and Application\n",
    "\n",
    "# In the OSI model, the first layer is the physical layer and it is responsible for the physical connection between the devices on the network\n",
    "# In the OSI model, the second layer is the data link layer and it is responsible for the logical connection between the devices on the network\n",
    "# In the OSI model, the third layer is the network layer and it is responsible for routing the data between the devices on the network\n",
    "# In the OSI model, the fourth layer is the transport layer and it is responsible for the end to end connection between the devices on the network\n",
    "# In the OSI model, the fifth layer is the session layer and it is responsible for the session between the devices on the network\n",
    "# In the OSI model, the sixth layer is the presentation layer and it is responsible for the presentation of the data between the devices on the network\n",
    "# In the OSI model, the seventh layer is the application layer and it is responsible for the application that is being used to send the data between the devices on the network\n",
    "\n",
    "# Wide area networks are networks that are spread out over a large area and are usually connected by a router\n",
    "# Local area networks are networks that are spread out over a small area and are usually connected by a switch\n",
    "# IPv4 addresses are made up of a source address and a destination address (source address is the address of the device that is sending the data and the destination address is the address of the device that is receiving the data)\n",
    "# TCP is made up segments and is a connection oriented protocol\n",
    "# UDP is made up of datagrams and is a connectionless protocol\n",
    "# Adversaries can use the OSI model to attack a network by attacking the different layers of the OSI model\n",
    "\n"
   ]
  },
  {
   "cell_type": "code",
   "execution_count": null,
   "metadata": {},
   "outputs": [],
   "source": [
    "# 1 Byte = 8 bits\n",
    "# 2 Bytes = 16 bits (half a word) = 65,535 total combinations\n",
    "# 4 Bytes = 32 bits (a word) = 4,294,967,295 total combinations\n",
    "# 8 Bytes = 64 bits (double word) = 18,446,744,073,709,551,615 total combinations\n",
    "# 16 Bytes = 128 bits (quad word) = 340,282,366,920,938,463,463,374,607,431,768,211,455 total combinations\n",
    "# 32 Bytes = 256 bits (oct word) = 115,792,089,237,316,195,423,570,985,008,687,907,853,269,984,665,640,564,039,457,584,007,913,129,639,936 total combinations\n",
    "# 64 Bytes = 512 bits (double oct word) = 340,282,366,920,938,463,463,374,607,431,768,211,455, 340,282,366,920,938,463,463,374,607,431,768,211,455 total combinations\n",
    "# 128 Bytes = 1024 bits (quad oct word) = 115,792,089,237,316,195,423,570,985,008,687,907,853,269,984,665,640,564,039,457,584,007,913,129,639,936, 115,792,089,237,316,195,423,570,985,008,687,907,853,269,984,665,640,564,039,457,584,007,913,129,639,936 total combinations\n",
    "\n",
    "# 128 64 32 16 8 4 2 1\n",
    "# 0   0  0  0  0 0 0 0 = 0\n",
    "# 0   0  0  0  0 0 0 1 = 1\n",
    "# 0   0  0  0  0 0 1 0 = 2\n",
    "# 0   0  0  0  0 0 1 1 = 3\n",
    "# 0   0  0  0  0 1 0 0 = 4\n",
    "# 0   0  0  0  0 1 0 1 = 5\n",
    "# 0   0  0  0  0 1 1 0 = 6\n",
    "# 0   0  0  0  0 1 1 1 = 7\n",
    "# 0   0  0  0  1 0 0 0 = 8\n",
    "# 0   0  0  0  1 0 0 1 = 9\n",
    "# 0   0  0  0  1 0 1 0 = 10\n",
    "\n",
    "# the sum of the numbers in the binary number system is 2^n-1\n",
    "# 2^8-1 = 255"
   ]
  },
  {
   "cell_type": "code",
   "execution_count": null,
   "metadata": {},
   "outputs": [],
   "source": [
    "# Hexidecimal is a base 16 number system that is used to represent binary numbers in a more human readable format\n",
    "# Hexidecimal is made up of the numbers 0-9 and the letters A-F\n",
    "# Hexidecimal is made up of 4 bits\n",
    "# Hexidecimal: A = 10, B = 11, C = 12, D = 13, E = 14, F = 15\n",
    "\n",
    "# to convert decimal to binary you divide the decimal number by 2 and then take t\n",
    "# the remainder and then divide the result by 2 and take the remainder and then divide the result by 2 and take the remainder and so on until you get to 0\n",
    "# then you take the remainders and put them in reverse order to get the binary number\n",
    "# 10/2 = 5 remainder 0\n",
    "# 5/2 = 2 remainder 1\n",
    "# 2/2 = 1 remainder 0\n",
    "# 1/2 = 0 remainder 1\n",
    "# 1010 = 10 in binary\n",
    "\n",
    "# to convert binary to hexidecimal you take the binary number and split it into groups of 4 bits and then convert each group of 4 bits to hexidecimal\n",
    "# 1010 = 10 in hexidecimal\n",
    "# or..... just use an online callculator :)\n"
   ]
  },
  {
   "cell_type": "code",
   "execution_count": null,
   "metadata": {},
   "outputs": [],
   "source": [
    "# what protocol is reserved for 443 - https (ssl/tls)\n",
    "# what protocol is reserved for 80 - http (hypertext transfer protocol)\n",
    "# what protocol is reserved for 22 - ssh (secure shell) \n",
    "# what protocol is reserved for 21 - ftp (file transfer protocol)\n",
    "# what protocol is reserved for 23 - telnet (remote login service)\n",
    "# what protocol is reserved for 25 - smtp (simple mail transfer protocol)\n",
    "# what protocol is reserved for 53 - dns (domain name system)\n",
    "# what protocol is reserved for 110 - pop3 (post office protocol version 3)\n",
    "# what protocol is reserved for 143 - imap (internet message access protocol)\n",
    "# what protocol is reserved for 3389 - rdp (remote desktop protocol)\n",
    "# what protocol is reserved for 67 - dhcp (dynamic host configuration protocol)\n",
    "# what protocol is reserved for 68 - dhcp (dynamic host configuration protocol)\n",
    "# what protocol is reserved for 69 - tftp (trivial file transfer protocol)\n",
    "# what protocol is reserved for 161 - snmp (simple network management protocol)\n",
    "# what protocol is reserved for 162 - snmp (simple network management protocol)"
   ]
  },
  {
   "cell_type": "code",
   "execution_count": null,
   "metadata": {},
   "outputs": [],
   "source": [
    "# A Packet is a layer 3 (network layer) unit of data that is sent over a network\n",
    "# A Frame is a layer 2 (data link layer) unit of data that is sent over a network\n",
    "# A Segment is a layer 4 (transport layer) unit of data that is sent over a network\n",
    "# A Datagram is a layer 3 (network layer) unit of data that is sent over a network\n",
    "# A Bit is the smallest unit of data that is sent over a network\n"
   ]
  },
  {
   "cell_type": "code",
   "execution_count": null,
   "metadata": {},
   "outputs": [],
   "source": [
    "# Fundamental Networking protocols and security\n",
    "# how many types of MAC addresses are there - 3 (unicast  multicast or broadcast)\n",
    "# The source MAC address will always be a unicast address\n",
    "# There are different Vlan types - 3 (access, trunk, native)\n",
    "# vlan hopping is a type of attack that allows an attacker to gain access to a vlan that they are \n",
    "# An ARP Request is a broadcast message that is sent out by a device to find the MAC address of another device\n",
    "# A RARP Request is a broadcast message that is sent out by a device to find the IP address of another device\n",
    "# Dynamic Trunking Protocol is a protocol that is used to automatically configure trunk ports on a switch\n",
    "# Spanning Tree Protocol is a protocol that is used to prevent loops on a network\n"
   ]
  },
  {
   "cell_type": "code",
   "execution_count": null,
   "metadata": {},
   "outputs": [],
   "source": [
    "# This Section covers the make up of a packet and the different parts of a packet\n",
    "# 00 1f 29 5e 4d 26 00 50　56 bb 3a a0 08 00 45 00\n",
    "# 00 3c 83 1b 40 00 40 06　15 0a c0 a8 14 46 4a 7d\n",
    "# 83 1b d5 1d 00 19 6b 7f　c7 2d 00 00 00 00 a0 02\n",
    "# 72 10 a2 b5 00 00 02 04　05 b4 04 02 08 0a 0a 99\n",
    "# 44 36 00 00 00 00 01 03　03 07\n",
    "\n",
    "# the first 6 bytes of the packet are the destination MAC address : 00 1f 29 5e 4d 26\n",
    "# the second 6 bytes of the packet are the source MAC address : 00 50　56 bb 3a a0\n",
    "# the next 2 bytes of the packet are the ether type : 08 00\n",
    "# the next 20 bytes of the packet are the IP header : 45 00 00 3c 83 1b 40 00 40 06　15 0a c0 a8 14 46 4a 7d 83 1b\n",
    "# the next 20 bytes of the packet are the TCP header : d5 1d 00 19 6b 7f　c7 2d 00 00 00 00 a0 02 72 10 a2 b5 00 00\n",
    "# the next 8 bytes of the packet are the TCP data : 02 04　05 b4 04 02 08 0a\n",
    "# the last 4 bytes of the packet are the TCP checksum : 0a 99 44 36\n",
    "\n",
    "\n",
    "\n"
   ]
  },
  {
   "cell_type": "code",
   "execution_count": null,
   "metadata": {},
   "outputs": [],
   "source": [
    "# DORA Stands for Discover, Offer, Request, and Acknowledge. This is the process that a device goes through to get an IP address from a DHCP server.\n",
    "# ICMPV4 Types and Codes\n",
    "# 0 - Echo Reply\n",
    "# 3 - Destination Unreachable\n",
    "# 4 - Source Quench\n",
    "# 5 - Redirect\n",
    "# 8 - Echo Request\n",
    "# 9 - Router Advertisement\n",
    "# 10 - Router Solicitation\n",
    "# 11 - Time Exceeded\n",
    "# 12 - Parameter Problem\n",
    "# 13 - Timestamp\n",
    "# 14 - Timestamp Reply"
   ]
  },
  {
   "cell_type": "code",
   "execution_count": null,
   "metadata": {},
   "outputs": [],
   "source": [
    "# traceroute 8.8.8.8 -I is a command that is used to trace the route that a packet takes to get to a destination\n",
    "# \"fire walking is a technique that is used to determine what ports are open on a firewall. \n",
    "#  It is done by sending packets with TTL values that are one higher than the TTL value of the firewall \n",
    "#  and then looking at the ICMP messages that are sent back to determine what ports are open on the firewall\"\n",
    "\n",
    "# the following are the different types of firewalls:\n",
    "# packet filtering firewall : a packet filtering firewall is a firewall that is used to filter traffic between a client and a server\n",
    "# stateful firewall : a stateful firewall is a firewall that is used to filter traffic between a client and a server\n",
    "# proxy firewall : a proxy firewall is a firewall that is used to filter traffic between a client and a server\n",
    "\n",
    "# The ping of death is a type of attack that is used to crash a computer by sending a ping packet that is larger than the maximum size of a ping packet\n",
    "\n",
    "# The following are the different types of network attacks:\n",
    "# Denial of Service : a denial of service attack is an attack that is used to crash a computer by sending a large amount of traffic to the computer\n",
    "# Distributed Denial of Service : a distributed denial of service attack is an attack that is used to crash a computer by sending a large amount of traffic to the computer from multiple computers\n",
    "\n",
    "# the first 64 bits of an IPv6 address are the network prefix, the last 64 bits of an IPv6 address are the interface identifier\n"
   ]
  },
  {
   "cell_type": "code",
   "execution_count": null,
   "metadata": {},
   "outputs": [],
   "source": [
    "# AUtomated Systems and Security are the following: \n",
    "# 1. Network Access Control (NAC) : NAC is a system that is used to control access to a network\n",
    "# 2. Intrusion Detection Systems (IDS) : IDS is a system that is used to detect attacks on a network\n",
    "# 3. Intrusion Prevention Systems (IPS) : IPS is a system that is used to prevent attacks on a network\n",
    "# 4. Security Information and Event Management (SIEM) : SIEM is a system that is used to monitor a network for security threats\n",
    "# 5. Security Orchestration, Automation, and Response (SOAR) : SOAR is a system that is used to automate the response to security incidents\n",
    "# 6. Security Incident and Event Management (SIEM) : SIEM is a system that is used to monitor a network for security threats\n",
    "# 7. Security Orchestration, Automation, and Response (SOAR) : SOAR is a system that is used to automate the response to security incidents\n",
    "# 8. Security Operations Center (SOC) : SOC is a team that is responsible for monitoring a network for security threats\n",
    "# 9. Security Operations Center as a Service (SOCaaS) : SOC as a service is a service that is used to monitor a network for security threats\n",
    "\n"
   ]
  },
  {
   "cell_type": "code",
   "execution_count": null,
   "metadata": {},
   "outputs": [],
   "source": [
    "# Distance vector vs Link state routing protocols:\n",
    "# Distance vector routing protocols are protocols that are used to determine the best route to a destination based on the distance to the destination\n",
    "# Link state routing protocols are protocols that are used to determine the best route to a destination based on the link state of the network\n"
   ]
  },
  {
   "cell_type": "code",
   "execution_count": null,
   "metadata": {},
   "outputs": [],
   "source": [
    "# Summary Addresses are addresses that are used to represent a range of addresses\n"
   ]
  },
  {
   "cell_type": "code",
   "execution_count": null,
   "metadata": {},
   "outputs": [],
   "source": []
  }
 ],
 "metadata": {
  "language_info": {
   "name": "python"
  }
 },
 "nbformat": 4,
 "nbformat_minor": 2
}
