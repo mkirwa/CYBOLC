{
 "cells": [
  {
   "cell_type": "code",
   "execution_count": 1,
   "metadata": {},
   "outputs": [
    {
     "data": {
      "text/plain": [
       "'tet'"
      ]
     },
     "execution_count": 1,
     "metadata": {},
     "output_type": "execute_result"
    }
   ],
   "source": [
    "'tet'"
   ]
  },
  {
   "cell_type": "code",
   "execution_count": 2,
   "metadata": {},
   "outputs": [
    {
     "name": "stdout",
     "output_type": "stream",
     "text": [
      "bytearray(b'')\n",
      "bytearray(b'Obje')\n",
      "bytearray(b'Object o')\n",
      "bytearray(b'Object orien')\n",
      "bytearray(b'Object oriented ')\n",
      "bytearray(b'Object oriented prog')\n",
      "bytearray(b'Object oriented programs')\n",
      "bytearray(b'Object oriented programs are')\n",
      "bytearray(b'Object oriented programs are off')\n",
      "bytearray(b'Object oriented programs are offered')\n",
      "bytearray(b'Object oriented programs are offered as ')\n",
      "bytearray(b'Object oriented programs are offered as alte')\n",
      "bytearray(b'Object oriented programs are offered as alternat')\n",
      "bytearray(b'Object oriented programs are offered as alternatives')\n",
      "bytearray(b'Object oriented programs are offered as alternatives to ')\n",
      "bytearray(b'Object oriented programs are offered as alternatives to corr')\n",
      "bytearray(b'Object oriented programs are offered as alternatives to correct ')\n",
      "bytearray(b'Object oriented programs are offered as alternatives to correct ones')\n",
      "bytearray(b'Object oriented programs are offered as alternatives to correct ones.')\n"
     ]
    }
   ],
   "source": [
    "#!/usr/bin/env python3\n",
    "import socket\n",
    "\n",
    "def tcp_qotd_client():\n",
    "    s = socket.socket() # Need access to all socket tools\n",
    "    s.connect(('127.0.0.1',12346)) # Loopback server thrown in here \n",
    "    msg = bytearray() # <- A bytearray to store the parts of message\n",
    "    chunk = s.recv(4) # <- Receive the first message piece ----> unwrapping a chunk of data that I would like to receive. I want to receive 4 bytes!!\n",
    "    while chunk:\n",
    "        print(msg) # <- To see the message grow ---> empty on the 1st instances... \n",
    "        msg.extend(chunk) # <- adds to bytearray\n",
    "        chunk = s.recv(4) # <- receives next chunk of msg\n",
    "    print(msg) # <- prints the completed message\n",
    "\n",
    "if __name__ == '__main__':\n",
    "    tcp_qotd_client()"
   ]
  },
  {
   "cell_type": "code",
   "execution_count": null,
   "metadata": {},
   "outputs": [],
   "source": [
    "quote = b'Object oriented programs are offered as alternatives to correct ones.'\n"
   ]
  }
 ],
 "metadata": {
  "kernelspec": {
   "display_name": "Python 3",
   "language": "python",
   "name": "python3"
  },
  "language_info": {
   "codemirror_mode": {
    "name": "ipython",
    "version": 3
   },
   "file_extension": ".py",
   "mimetype": "text/x-python",
   "name": "python",
   "nbconvert_exporter": "python",
   "pygments_lexer": "ipython3",
   "version": "3.8.10"
  }
 },
 "nbformat": 4,
 "nbformat_minor": 2
}
