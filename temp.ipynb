{
 "cells": [
  {
   "cell_type": "code",
   "execution_count": 8,
   "metadata": {},
   "outputs": [
    {
     "name": "stdout",
     "output_type": "stream",
     "text": [
      "Random row deletion completed. Output saved to output.csv\n"
     ]
    }
   ],
   "source": [
    "import csv\n",
    "import random\n",
    "\n",
    "# Specify the input CSV file path and output CSV file path\n",
    "input_csv_file = \"med_report.csv\"\n",
    "output_csv_file = \"output.csv\"\n",
    "\n",
    "# Function to randomly delete rows from the CSV file while excluding rows with \"NUR130\"\n",
    "def randomly_delete_rows(input_file, output_file):\n",
    "    with open(input_file, 'r', newline='') as csv_in, open(output_file, 'w', newline='') as csv_out:\n",
    "        reader = csv.reader(csv_in)\n",
    "        writer = csv.writer(csv_out)\n",
    "\n",
    "        # Copy the header row to the output file\n",
    "        header = next(reader)\n",
    "        writer.writerow(header)\n",
    "\n",
    "        for row in reader:\n",
    "            # Check if the row contains the string \"NUR130\"\n",
    "            if \"NUR130\" in ','.join(row):\n",
    "                # If \"NUR130\" is found, write the row directly to the output file\n",
    "                writer.writerow(row)\n",
    "            else:\n",
    "                # Randomly decide whether to keep the row or not\n",
    "                if random.choice([True, False]):\n",
    "                    writer.writerow(row)\n",
    "\n",
    "if __name__ == \"__main__\":\n",
    "    randomly_delete_rows(input_csv_file, output_csv_file)\n",
    "    print(\"Random row deletion completed. Output saved to\", output_csv_file)\n"
   ]
  },
  {
   "cell_type": "code",
   "execution_count": 9,
   "metadata": {},
   "outputs": [
    {
     "name": "stdout",
     "output_type": "stream",
     "text": [
      "[11, 26, 21, 42, 40, 24, 23, 5, 3, 7, 7, 40, 41, 27, 34, 39, 12, 24, 11, 18, 30, 10, 1, 40, 38, 9, 11, 30, 31, 1, 40, 37, 30, 22, 1, 28, 22, 30, 39, 18, 8, 3, 7, 8, 28, 28, 27, 31, 29, 11, 9, 26, 42, 35, 41, 22, 35, 12, 28, 30, 41, 12, 5, 2, 23, 12, 37, 37, 19, 28, 5, 20, 7, 12, 1, 23, 38, 11, 28, 34, 16, 28, 8, 4, 30, 13, 19, 35, 41, 37, 23, 4, 3, 36, 12, 32, 12, 39, 11, 22, 42, 8, 20, 13, 24, 10, 24, 19, 10, 38, 16, 11, 25, 10, 24, 39, 21, 33, 42, 32, 37, 13, 19, 37, 25, 22, 9, 28, 34, 27, 12, 10, 16, 41, 10, 14, 21, 27, 14, 16, 5, 6, 13, 1, 27, 13, 6, 20, 34, 3, 9, 15, 11, 40, 35, 27, 14, 36, 7, 36, 4, 13, 36, 18, 14, 10, 29, 20, 8, 7, 40, 23, 22, 30, 12, 19, 22, 2, 8, 35, 5, 5, 2, 27, 16]\n"
     ]
    }
   ],
   "source": [
    "import random\n",
    "\n",
    "# Generate 185 random values between 1 and 42\n",
    "random_values = [random.randint(1, 42) for _ in range(185)]\n",
    "\n",
    "# Print the generated random values\n",
    "print(random_values)"
   ]
  },
  {
   "cell_type": "markdown",
   "metadata": {},
   "source": [
    "import random\n",
    "\n",
    "# Generate 185 random values between 1 and 42\n",
    "random_values = [random.randint(1, 42) for _ in range(185)]\n",
    "\n",
    "# Print the generated random values\n",
    "print(random_values)"
   ]
  }
 ],
 "metadata": {
  "kernelspec": {
   "display_name": "Python 3",
   "language": "python",
   "name": "python3"
  },
  "language_info": {
   "codemirror_mode": {
    "name": "ipython",
    "version": 3
   },
   "file_extension": ".py",
   "mimetype": "text/x-python",
   "name": "python",
   "nbconvert_exporter": "python",
   "pygments_lexer": "ipython3",
   "version": "3.9.18"
  }
 },
 "nbformat": 4,
 "nbformat_minor": 2
}
