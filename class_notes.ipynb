{
 "cells": [
  {
   "cell_type": "markdown",
   "metadata": {},
   "source": [
    "Notes for class"
   ]
  },
  {
   "cell_type": "code",
   "execution_count": 80,
   "metadata": {},
   "outputs": [
    {
     "data": {
      "text/plain": [
       "\"my dog's toy\""
      ]
     },
     "execution_count": 80,
     "metadata": {},
     "output_type": "execute_result"
    }
   ],
   "source": [
    "'my dog\\'s toy'\n",
    "\n"
   ]
  },
  {
   "cell_type": "code",
   "execution_count": 81,
   "metadata": {},
   "outputs": [
    {
     "data": {
      "text/plain": [
       "\" \\nTHIS IS A BLOCK OF CODE \\nTHAT I WANT TO USE RIGHT NOW BUT I DON'T WANT TO USE\\n\""
      ]
     },
     "execution_count": 81,
     "metadata": {},
     "output_type": "execute_result"
    }
   ],
   "source": [
    "''' \n",
    "THIS IS A BLOCK OF CODE \n",
    "THAT I WANT TO USE RIGHT NOW BUT I DON'T WANT TO USE\n",
    "'''"
   ]
  },
  {
   "cell_type": "code",
   "execution_count": 82,
   "metadata": {},
   "outputs": [
    {
     "data": {
      "text/plain": [
       "'🂡'"
      ]
     },
     "execution_count": 82,
     "metadata": {},
     "output_type": "execute_result"
    }
   ],
   "source": [
    "'\\U0001F0A1'\n"
   ]
  },
  {
   "cell_type": "code",
   "execution_count": 83,
   "metadata": {},
   "outputs": [
    {
     "data": {
      "text/plain": [
       "'\\x80abc'"
      ]
     },
     "execution_count": 83,
     "metadata": {},
     "output_type": "execute_result"
    }
   ],
   "source": [
    "'\\x80abc'"
   ]
  },
  {
   "cell_type": "code",
   "execution_count": 84,
   "metadata": {},
   "outputs": [
    {
     "data": {
      "text/plain": [
       "list"
      ]
     },
     "execution_count": 84,
     "metadata": {},
     "output_type": "execute_result"
    }
   ],
   "source": [
    "[1,2,3,4,5,6,7,1.55656,'word1','word2',True,False]\n",
    "type([1,2,3,4,5,6,7,1.55656,'word1','word2',True,False])"
   ]
  },
  {
   "cell_type": "code",
   "execution_count": 85,
   "metadata": {},
   "outputs": [
    {
     "data": {
      "text/plain": [
       "tuple"
      ]
     },
     "execution_count": 85,
     "metadata": {},
     "output_type": "execute_result"
    }
   ],
   "source": [
    "(1,2,3,4,5,6,7,1.55656,'word1','word2',True,False)\n",
    "type((1,2,3,4,5,6,7,1.55656,'word1','word2',True,False))"
   ]
  },
  {
   "cell_type": "code",
   "execution_count": 86,
   "metadata": {},
   "outputs": [
    {
     "data": {
      "text/plain": [
       "[1, 2, 3, 'null', 1, 2, 3, 'null', 1, 2, 3, 'null']"
      ]
     },
     "execution_count": 86,
     "metadata": {},
     "output_type": "execute_result"
    }
   ],
   "source": [
    "'abc ' * 5\n",
    "\n",
    "3 * [1,2,3, 'null' ]"
   ]
  },
  {
   "cell_type": "code",
   "execution_count": 87,
   "metadata": {},
   "outputs": [],
   "source": [
    "a = 4"
   ]
  },
  {
   "cell_type": "code",
   "execution_count": 88,
   "metadata": {},
   "outputs": [],
   "source": [
    "hello = 'hello'\n",
    "is_python_awesome = True\n",
    "days_in_python = 6\n",
    "pie_size = 3.14"
   ]
  },
  {
   "cell_type": "code",
   "execution_count": 1,
   "metadata": {},
   "outputs": [
    {
     "name": "stdout",
     "output_type": "stream",
     "text": [
      "9793184\n",
      "140295795756656\n"
     ]
    }
   ],
   "source": [
    "a = 4\n",
    "b = 3.2\n",
    "\n",
    "print(id(a))\n",
    "id(b)\n",
    "\n",
    "a= a + b\n",
    "print(id(a))"
   ]
  },
  {
   "cell_type": "code",
   "execution_count": 2,
   "metadata": {},
   "outputs": [
    {
     "name": "stdout",
     "output_type": "stream",
     "text": [
      "Accessing the last element 4\n",
      "Before change the id is:  140295778287424\n",
      "[9, 2, 3, 4]\n",
      "After Change the id is:  140295778287424\n"
     ]
    }
   ],
   "source": [
    "a = [1,2,3,4]\n",
    "\n",
    "print(\"Accessing the last element\", a[-1])\n",
    "\n",
    "\n",
    "\n",
    "print(\"Before change the id is: \",id(a))\n",
    "a[0] = 9\n",
    "print(a)\n",
    "print(\"After Change the id is: \",id(a))"
   ]
  },
  {
   "cell_type": "code",
   "execution_count": 91,
   "metadata": {},
   "outputs": [
    {
     "name": "stdout",
     "output_type": "stream",
     "text": [
      "7\n"
     ]
    }
   ],
   "source": [
    "b = [1,2,[7,8,9]]\n",
    "\n",
    "print(b[-1][0])"
   ]
  },
  {
   "cell_type": "code",
   "execution_count": 92,
   "metadata": {},
   "outputs": [
    {
     "name": "stdout",
     "output_type": "stream",
     "text": [
      "w\n",
      "3\n"
     ]
    }
   ],
   "source": [
    "c = [1,2,1,1,3,'word']\n",
    "print(c[-1][0])\n",
    "\n",
    "print(c.count(1))\n",
    "\n"
   ]
  },
  {
   "cell_type": "code",
   "execution_count": 93,
   "metadata": {},
   "outputs": [
    {
     "name": "stdout",
     "output_type": "stream",
     "text": [
      "Changed to a list:  [1, 2, 3, 4]\n",
      "Change to a tuple:  (9, 2, 3, 4)\n"
     ]
    }
   ],
   "source": [
    "t = (1,2,3,4)\n",
    "\n",
    "# Change to a list\n",
    "t = list(t)\n",
    "print(\"Changed to a list: \",t)\n",
    "t[0]=9\n",
    "\n",
    "# Change to back to a tuple\n",
    "t = tuple(t)\n",
    "print(\"Change to a tuple: \",t)"
   ]
  },
  {
   "cell_type": "code",
   "execution_count": 94,
   "metadata": {},
   "outputs": [
    {
     "data": {
      "text/plain": [
       "8.2"
      ]
     },
     "execution_count": 94,
     "metadata": {},
     "output_type": "execute_result"
    }
   ],
   "source": [
    "a = 2\n",
    "b = '6.2'\n",
    "\n",
    "a + float(b)\n"
   ]
  },
  {
   "cell_type": "code",
   "execution_count": 95,
   "metadata": {},
   "outputs": [],
   "source": [
    "int_input = '345'\n",
    "int_input = int(345)\n",
    "\n",
    "pi_4 = 3.1415\n",
    "pi_4 = float(\"3.1415\")\n",
    "\n",
    "hours_str = 40\n",
    "hours_str = str(40)\n",
    "\n",
    "hourly_rate = 15\n",
    "hourly_rate = float(15)\n",
    "\n",
    "\n"
   ]
  },
  {
   "cell_type": "code",
   "execution_count": 96,
   "metadata": {},
   "outputs": [],
   "source": [
    "int_input = int(\"345\")\n",
    "pi_4 = float(\"3.1415\")\n",
    "hours_str = str(40)\n",
    "hourly_rate = float(15)"
   ]
  },
  {
   "cell_type": "code",
   "execution_count": 97,
   "metadata": {},
   "outputs": [
    {
     "name": "stdout",
     "output_type": "stream",
     "text": [
      "Hello Albert. How are you today?\n",
      "Hello Albert. How are you today\n",
      "String Formated to 2 decimal places: PI = 3.14\n"
     ]
    }
   ],
   "source": [
    "fname = 'Albert'\n",
    "day = \"today\"\n",
    "\n",
    "sentence = \"Hello {}. How are you {}?\".format(fname,day)\n",
    "print(sentence)\n",
    "\n",
    "sentence = f'Hello {fname}. How are you {day}'\n",
    "print(sentence)\n",
    "\n",
    "PI = 3.14159265359\n",
    "trim = f'String Formated to 2 decimal places: PI = {PI:.2f}'\n",
    "print(trim)"
   ]
  },
  {
   "cell_type": "code",
   "execution_count": 117,
   "metadata": {},
   "outputs": [
    {
     "name": "stdout",
     "output_type": "stream",
     "text": [
      "['Hello', 'World']\n",
      "['Hello', 'World', 'Water', 'Mark']\n",
      "['Hell', ' W', 'rld']\n",
      "['syslog', 'x', '104', '110', '', '/home/syslog', '/usr/sbin/nologin']\n",
      "110\n",
      "['syslog', 'x', '104']\n",
      "['h', 'e', 'l', 'l', 'o']\n",
      "jello\n"
     ]
    }
   ],
   "source": [
    "string = \"Hello World\"\n",
    "print(string.split())\n",
    "\n",
    "string = \"Hello:World:Water:Mark\"\n",
    "print(string.split(':'))\n",
    "\n",
    "string = \"Hello World\"\n",
    "print(string.split('o'))\n",
    "\n",
    "userline = 'syslog:x:104:110::/home/syslog:/usr/sbin/nologin'\n",
    "print(userline.split(':'))\n",
    "print(userline.split(':')[3])\n",
    "print(userline.split(':')[:3])\n",
    "\n",
    "\n",
    "s = 'hello'\n",
    "#s = s + 'j'\n",
    "#print(s)\n",
    "\n",
    "s_list = list(s)\n",
    "\n",
    "print(s_list)\n",
    "s_list[0] = 'j'\n",
    "s = ''.join(s_list)\n",
    "print(s)"
   ]
  },
  {
   "cell_type": "code",
   "execution_count": 119,
   "metadata": {},
   "outputs": [
    {
     "data": {
      "text/plain": [
       "'Word'"
      ]
     },
     "execution_count": 119,
     "metadata": {},
     "output_type": "execute_result"
    }
   ],
   "source": [
    "'word'.capitalize()"
   ]
  },
  {
   "cell_type": "code",
   "execution_count": 128,
   "metadata": {},
   "outputs": [
    {
     "name": "stdout",
     "output_type": "stream",
     "text": [
      "False\n",
      "True\n",
      "True\n",
      "False\n",
      "ward ane\n",
      "ward one\n"
     ]
    }
   ],
   "source": [
    "print('word' == 'Word')\n",
    "print('word' == 'Word'.casefold())\n",
    "print('word'.isalpha())\n",
    "print('5'.isalpha())\n",
    "print('word one'.replace('o','a')) # replace 0 with a\n",
    "print('word one'.replace('o','a',1)) # replace 0 with a. Do the replacement just once \n",
    "\n",
    "\n"
   ]
  },
  {
   "cell_type": "code",
   "execution_count": 131,
   "metadata": {},
   "outputs": [],
   "source": [
    "# va split(\" \")\n",
    "# \" \".join(var)"
   ]
  },
  {
   "cell_type": "code",
   "execution_count": 134,
   "metadata": {},
   "outputs": [
    {
     "name": "stdout",
     "output_type": "stream",
     "text": [
      "1.5\n",
      "1\n",
      "8\n"
     ]
    }
   ],
   "source": [
    "a = 3\n",
    "b = 2\n",
    "\n",
    "print(a/b) # Gives you the float division \n",
    "print(a//b) # gives the integer division\n",
    "\n",
    "print(b ** a ) # Gives the exponential \n"
   ]
  },
  {
   "cell_type": "code",
   "execution_count": 136,
   "metadata": {},
   "outputs": [],
   "source": [
    "x = 16\n",
    "y = 3\n",
    "xysum = x + y\n",
    "xydiff = x - y \n",
    "xyprod = x * y \n",
    "xyquo = x / y \n",
    "xyintquo = x // y \n",
    "xymod = x % y "
   ]
  },
  {
   "cell_type": "code",
   "execution_count": 138,
   "metadata": {},
   "outputs": [
    {
     "name": "stdout",
     "output_type": "stream",
     "text": [
      "Hello Jerry! Sir, will you be arriving by noon?\n"
     ]
    }
   ],
   "source": [
    "\n",
    "\n",
    "name='Jerry'\n",
    "greeting='Sir'\n",
    "time='noon'\n",
    "output = f'Hello {name}! {greeting}, will you be arriving by {time}?'\n",
    "\n"
   ]
  },
  {
   "cell_type": "code",
   "execution_count": 3,
   "metadata": {},
   "outputs": [
    {
     "name": "stdout",
     "output_type": "stream",
     "text": [
      "f.o.o.d. .f.o.r. .a.l.?\n"
     ]
    }
   ],
   "source": [
    "sentence = 'good for all'\n",
    "sent_list = list(sentence)\n",
    "sent_list[0] = 'f'\n",
    "sent_list[-1] = '?'\n",
    "output = str('.'.join(sent_list))\n",
    "print(output)\n"
   ]
  },
  {
   "cell_type": "code",
   "execution_count": 4,
   "metadata": {},
   "outputs": [
    {
     "name": "stdout",
     "output_type": "stream",
     "text": [
      "hello world\n"
     ]
    }
   ],
   "source": [
    "print('hello world')"
   ]
  },
  {
   "cell_type": "code",
   "execution_count": null,
   "metadata": {},
   "outputs": [],
   "source": [
    "#string = \"Hello World\"\n",
    "#print(string.split('o'))\n",
    "\n",
    "email = \"alan.m.turing@genius.com\"\n",
    "email.split('.')[:2]\n",
    "email.split('@')[3]\n",
    "email.split('.')[3:]\n",
    "\n",
    "#print(email.split(''))\n",
    "\n",
    "#lst= list(email)\n",
    "#lst = ['alan','m','turing', 'genius', 'com']\n",
    "#print(lst)\n",
    "\n",
    "\n",
    "\n"
   ]
  },
  {
   "cell_type": "code",
   "execution_count": 5,
   "metadata": {},
   "outputs": [
    {
     "name": "stdout",
     "output_type": "stream",
     "text": [
      "hello world\n"
     ]
    }
   ],
   "source": [
    "\n",
    "print(\"hello world\")"
   ]
  },
  {
   "cell_type": "code",
   "execution_count": 1,
   "metadata": {},
   "outputs": [
    {
     "name": "stdout",
     "output_type": "stream",
     "text": [
      "min+us\n"
     ]
    }
   ],
   "source": [
    "#Read multiple numbers separated by spaces on the same line from the user.\n",
    "#Change all spaces to a plus sign.\n",
    "#Print the resulting string to the user.\n",
    "#Read multiple numbers separated by spaces on the same line from the user.\n",
    "#Change all spaces to a plus sign.\n",
    "#Print the resulting string to the user.\n",
    "numbers = input()\n",
    "numbers = numbers.replace(' ','+')\n",
    "print(numbers)\n"
   ]
  },
  {
   "cell_type": "code",
   "execution_count": 11,
   "metadata": {},
   "outputs": [
    {
     "name": "stdout",
     "output_type": "stream",
     "text": [
      "hello world : hello whatever world\n",
      "words\n",
      "more words\n",
      "Var is: hello, var2 is: world\n"
     ]
    }
   ],
   "source": [
    "var = \"hello\"\n",
    "var2 = \"world\"\n",
    "print(var,var2,end=\" : \")\n",
    "print(var,var2,sep=\" whatever \")\n",
    "print('words'); print('more words')\n",
    "print(f'Var is: {var}, var2 is: {var2}')\n",
    "\n",
    "# CONTROL QUESTION MARK highlights multiple lines together. "
   ]
  },
  {
   "cell_type": "code",
   "execution_count": 12,
   "metadata": {},
   "outputs": [
    {
     "name": "stdout",
     "output_type": "stream",
     "text": [
      "The answer will be:  12\n"
     ]
    }
   ],
   "source": [
    "num1 = int(input(\"Enter the first number: \"))\n",
    "num2 = int(input(\"Enter the second number: \"))\n",
    "\n",
    "answer = num1 + num2\n",
    "\n",
    "print(\"The answer will be: \",answer)"
   ]
  }
 ],
 "metadata": {
  "kernelspec": {
   "display_name": "Python 3",
   "language": "python",
   "name": "python3"
  },
  "language_info": {
   "codemirror_mode": {
    "name": "ipython",
    "version": 3
   },
   "file_extension": ".py",
   "mimetype": "text/x-python",
   "name": "python",
   "nbconvert_exporter": "python",
   "pygments_lexer": "ipython3",
   "version": "3.8.10"
  }
 },
 "nbformat": 4,
 "nbformat_minor": 2
}
