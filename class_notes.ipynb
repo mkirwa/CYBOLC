{
 "cells": [
  {
   "cell_type": "markdown",
   "metadata": {},
   "source": [
    "Notes for class"
   ]
  },
  {
   "cell_type": "code",
   "execution_count": 80,
   "metadata": {},
   "outputs": [
    {
     "data": {
      "text/plain": [
       "\"my dog's toy\""
      ]
     },
     "execution_count": 80,
     "metadata": {},
     "output_type": "execute_result"
    }
   ],
   "source": [
    "'my dog\\'s toy'\n",
    "\n"
   ]
  },
  {
   "cell_type": "code",
   "execution_count": 81,
   "metadata": {},
   "outputs": [
    {
     "data": {
      "text/plain": [
       "\" \\nTHIS IS A BLOCK OF CODE \\nTHAT I WANT TO USE RIGHT NOW BUT I DON'T WANT TO USE\\n\""
      ]
     },
     "execution_count": 81,
     "metadata": {},
     "output_type": "execute_result"
    }
   ],
   "source": [
    "''' \n",
    "THIS IS A BLOCK OF CODE \n",
    "THAT I WANT TO USE RIGHT NOW BUT I DON'T WANT TO USE\n",
    "'''"
   ]
  },
  {
   "cell_type": "code",
   "execution_count": 82,
   "metadata": {},
   "outputs": [
    {
     "data": {
      "text/plain": [
       "'🂡'"
      ]
     },
     "execution_count": 82,
     "metadata": {},
     "output_type": "execute_result"
    }
   ],
   "source": [
    "'\\U0001F0A1'\n"
   ]
  },
  {
   "cell_type": "code",
   "execution_count": 83,
   "metadata": {},
   "outputs": [
    {
     "data": {
      "text/plain": [
       "'\\x80abc'"
      ]
     },
     "execution_count": 83,
     "metadata": {},
     "output_type": "execute_result"
    }
   ],
   "source": [
    "'\\x80abc'"
   ]
  },
  {
   "cell_type": "code",
   "execution_count": 84,
   "metadata": {},
   "outputs": [
    {
     "data": {
      "text/plain": [
       "list"
      ]
     },
     "execution_count": 84,
     "metadata": {},
     "output_type": "execute_result"
    }
   ],
   "source": [
    "[1,2,3,4,5,6,7,1.55656,'word1','word2',True,False]\n",
    "type([1,2,3,4,5,6,7,1.55656,'word1','word2',True,False])"
   ]
  },
  {
   "cell_type": "code",
   "execution_count": 85,
   "metadata": {},
   "outputs": [
    {
     "data": {
      "text/plain": [
       "tuple"
      ]
     },
     "execution_count": 85,
     "metadata": {},
     "output_type": "execute_result"
    }
   ],
   "source": [
    "(1,2,3,4,5,6,7,1.55656,'word1','word2',True,False)\n",
    "type((1,2,3,4,5,6,7,1.55656,'word1','word2',True,False))"
   ]
  },
  {
   "cell_type": "code",
   "execution_count": 86,
   "metadata": {},
   "outputs": [
    {
     "data": {
      "text/plain": [
       "[1, 2, 3, 'null', 1, 2, 3, 'null', 1, 2, 3, 'null']"
      ]
     },
     "execution_count": 86,
     "metadata": {},
     "output_type": "execute_result"
    }
   ],
   "source": [
    "'abc ' * 5\n",
    "\n",
    "3 * [1,2,3, 'null' ]"
   ]
  },
  {
   "cell_type": "code",
   "execution_count": 87,
   "metadata": {},
   "outputs": [],
   "source": [
    "a = 4"
   ]
  },
  {
   "cell_type": "code",
   "execution_count": 88,
   "metadata": {},
   "outputs": [],
   "source": [
    "hello = 'hello'\n",
    "is_python_awesome = True\n",
    "days_in_python = 6\n",
    "pie_size = 3.14"
   ]
  },
  {
   "cell_type": "code",
   "execution_count": 1,
   "metadata": {},
   "outputs": [
    {
     "name": "stdout",
     "output_type": "stream",
     "text": [
      "9793184\n",
      "140295795756656\n"
     ]
    }
   ],
   "source": [
    "a = 4\n",
    "b = 3.2\n",
    "\n",
    "print(id(a))\n",
    "id(b)\n",
    "\n",
    "a= a + b\n",
    "print(id(a))"
   ]
  },
  {
   "cell_type": "code",
   "execution_count": 2,
   "metadata": {},
   "outputs": [
    {
     "name": "stdout",
     "output_type": "stream",
     "text": [
      "Accessing the last element 4\n",
      "Before change the id is:  140295778287424\n",
      "[9, 2, 3, 4]\n",
      "After Change the id is:  140295778287424\n"
     ]
    }
   ],
   "source": [
    "a = [1,2,3,4]\n",
    "\n",
    "print(\"Accessing the last element\", a[-1])\n",
    "\n",
    "\n",
    "\n",
    "print(\"Before change the id is: \",id(a))\n",
    "a[0] = 9\n",
    "print(a)\n",
    "print(\"After Change the id is: \",id(a))"
   ]
  },
  {
   "cell_type": "code",
   "execution_count": 91,
   "metadata": {},
   "outputs": [
    {
     "name": "stdout",
     "output_type": "stream",
     "text": [
      "7\n"
     ]
    }
   ],
   "source": [
    "b = [1,2,[7,8,9]]\n",
    "\n",
    "print(b[-1][0])"
   ]
  },
  {
   "cell_type": "code",
   "execution_count": 92,
   "metadata": {},
   "outputs": [
    {
     "name": "stdout",
     "output_type": "stream",
     "text": [
      "w\n",
      "3\n"
     ]
    }
   ],
   "source": [
    "c = [1,2,1,1,3,'word']\n",
    "print(c[-1][0])\n",
    "\n",
    "print(c.count(1))\n",
    "\n"
   ]
  },
  {
   "cell_type": "code",
   "execution_count": 93,
   "metadata": {},
   "outputs": [
    {
     "name": "stdout",
     "output_type": "stream",
     "text": [
      "Changed to a list:  [1, 2, 3, 4]\n",
      "Change to a tuple:  (9, 2, 3, 4)\n"
     ]
    }
   ],
   "source": [
    "t = (1,2,3,4)\n",
    "\n",
    "# Change to a list\n",
    "t = list(t)\n",
    "print(\"Changed to a list: \",t)\n",
    "t[0]=9\n",
    "\n",
    "# Change to back to a tuple\n",
    "t = tuple(t)\n",
    "print(\"Change to a tuple: \",t)"
   ]
  },
  {
   "cell_type": "code",
   "execution_count": 94,
   "metadata": {},
   "outputs": [
    {
     "data": {
      "text/plain": [
       "8.2"
      ]
     },
     "execution_count": 94,
     "metadata": {},
     "output_type": "execute_result"
    }
   ],
   "source": [
    "a = 2\n",
    "b = '6.2'\n",
    "\n",
    "a + float(b)\n"
   ]
  },
  {
   "cell_type": "code",
   "execution_count": 95,
   "metadata": {},
   "outputs": [],
   "source": [
    "int_input = '345'\n",
    "int_input = int(345)\n",
    "\n",
    "pi_4 = 3.1415\n",
    "pi_4 = float(\"3.1415\")\n",
    "\n",
    "hours_str = 40\n",
    "hours_str = str(40)\n",
    "\n",
    "hourly_rate = 15\n",
    "hourly_rate = float(15)\n",
    "\n",
    "\n"
   ]
  },
  {
   "cell_type": "code",
   "execution_count": 96,
   "metadata": {},
   "outputs": [],
   "source": [
    "int_input = int(\"345\")\n",
    "pi_4 = float(\"3.1415\")\n",
    "hours_str = str(40)\n",
    "hourly_rate = float(15)"
   ]
  },
  {
   "cell_type": "code",
   "execution_count": 97,
   "metadata": {},
   "outputs": [
    {
     "name": "stdout",
     "output_type": "stream",
     "text": [
      "Hello Albert. How are you today?\n",
      "Hello Albert. How are you today\n",
      "String Formated to 2 decimal places: PI = 3.14\n"
     ]
    }
   ],
   "source": [
    "fname = 'Albert'\n",
    "day = \"today\"\n",
    "\n",
    "sentence = \"Hello {}. How are you {}?\".format(fname,day)\n",
    "print(sentence)\n",
    "\n",
    "sentence = f'Hello {fname}. How are you {day}'\n",
    "print(sentence)\n",
    "\n",
    "PI = 3.14159265359\n",
    "trim = f'String Formated to 2 decimal places: PI = {PI:.2f}'\n",
    "print(trim)"
   ]
  },
  {
   "cell_type": "code",
   "execution_count": 117,
   "metadata": {},
   "outputs": [
    {
     "name": "stdout",
     "output_type": "stream",
     "text": [
      "['Hello', 'World']\n",
      "['Hello', 'World', 'Water', 'Mark']\n",
      "['Hell', ' W', 'rld']\n",
      "['syslog', 'x', '104', '110', '', '/home/syslog', '/usr/sbin/nologin']\n",
      "110\n",
      "['syslog', 'x', '104']\n",
      "['h', 'e', 'l', 'l', 'o']\n",
      "jello\n"
     ]
    }
   ],
   "source": [
    "string = \"Hello World\"\n",
    "print(string.split())\n",
    "\n",
    "string = \"Hello:World:Water:Mark\"\n",
    "print(string.split(':'))\n",
    "\n",
    "string = \"Hello World\"\n",
    "print(string.split('o'))\n",
    "\n",
    "userline = 'syslog:x:104:110::/home/syslog:/usr/sbin/nologin'\n",
    "print(userline.split(':'))\n",
    "print(userline.split(':')[3])\n",
    "print(userline.split(':')[:3])\n",
    "\n",
    "\n",
    "s = 'hello'\n",
    "#s = s + 'j'\n",
    "#print(s)\n",
    "\n",
    "s_list = list(s)\n",
    "\n",
    "print(s_list)\n",
    "s_list[0] = 'j'\n",
    "s = ''.join(s_list)\n",
    "print(s)"
   ]
  },
  {
   "cell_type": "code",
   "execution_count": 119,
   "metadata": {},
   "outputs": [
    {
     "data": {
      "text/plain": [
       "'Word'"
      ]
     },
     "execution_count": 119,
     "metadata": {},
     "output_type": "execute_result"
    }
   ],
   "source": [
    "'word'.capitalize()"
   ]
  },
  {
   "cell_type": "code",
   "execution_count": 128,
   "metadata": {},
   "outputs": [
    {
     "name": "stdout",
     "output_type": "stream",
     "text": [
      "False\n",
      "True\n",
      "True\n",
      "False\n",
      "ward ane\n",
      "ward one\n"
     ]
    }
   ],
   "source": [
    "print('word' == 'Word')\n",
    "print('word' == 'Word'.casefold())\n",
    "print('word'.isalpha())\n",
    "print('5'.isalpha())\n",
    "print('word one'.replace('o','a')) # replace 0 with a\n",
    "print('word one'.replace('o','a',1)) # replace 0 with a. Do the replacement just once \n",
    "\n",
    "\n"
   ]
  },
  {
   "cell_type": "code",
   "execution_count": 131,
   "metadata": {},
   "outputs": [],
   "source": [
    "# va split(\" \")\n",
    "# \" \".join(var)"
   ]
  },
  {
   "cell_type": "code",
   "execution_count": 134,
   "metadata": {},
   "outputs": [
    {
     "name": "stdout",
     "output_type": "stream",
     "text": [
      "1.5\n",
      "1\n",
      "8\n"
     ]
    }
   ],
   "source": [
    "a = 3\n",
    "b = 2\n",
    "\n",
    "print(a/b) # Gives you the float division \n",
    "print(a//b) # gives the integer division\n",
    "\n",
    "print(b ** a ) # Gives the exponential \n"
   ]
  },
  {
   "cell_type": "code",
   "execution_count": 136,
   "metadata": {},
   "outputs": [],
   "source": [
    "x = 16\n",
    "y = 3\n",
    "xysum = x + y\n",
    "xydiff = x - y \n",
    "xyprod = x * y \n",
    "xyquo = x / y \n",
    "xyintquo = x // y \n",
    "xymod = x % y "
   ]
  },
  {
   "cell_type": "code",
   "execution_count": 138,
   "metadata": {},
   "outputs": [
    {
     "name": "stdout",
     "output_type": "stream",
     "text": [
      "Hello Jerry! Sir, will you be arriving by noon?\n"
     ]
    }
   ],
   "source": [
    "\n",
    "\n",
    "name='Jerry'\n",
    "greeting='Sir'\n",
    "time='noon'\n",
    "output = f'Hello {name}! {greeting}, will you be arriving by {time}?'\n",
    "\n"
   ]
  },
  {
   "cell_type": "code",
   "execution_count": 3,
   "metadata": {},
   "outputs": [
    {
     "name": "stdout",
     "output_type": "stream",
     "text": [
      "f.o.o.d. .f.o.r. .a.l.?\n"
     ]
    }
   ],
   "source": [
    "sentence = 'good for all'\n",
    "sent_list = list(sentence)\n",
    "sent_list[0] = 'f'\n",
    "sent_list[-1] = '?'\n",
    "output = str('.'.join(sent_list))\n",
    "print(output)\n"
   ]
  },
  {
   "cell_type": "code",
   "execution_count": 4,
   "metadata": {},
   "outputs": [
    {
     "name": "stdout",
     "output_type": "stream",
     "text": [
      "hello world\n"
     ]
    }
   ],
   "source": [
    "print('hello world')"
   ]
  },
  {
   "cell_type": "code",
   "execution_count": null,
   "metadata": {},
   "outputs": [],
   "source": [
    "#string = \"Hello World\"\n",
    "#print(string.split('o'))\n",
    "\n",
    "email = \"alan.m.turing@genius.com\"\n",
    "email.split('.')[:2]\n",
    "email.split('@')[3]\n",
    "email.split('.')[3:]\n",
    "\n",
    "#print(email.split(''))\n",
    "\n",
    "#lst= list(email)\n",
    "#lst = ['alan','m','turing', 'genius', 'com']\n",
    "#print(lst)\n",
    "\n",
    "\n",
    "\n"
   ]
  },
  {
   "cell_type": "code",
   "execution_count": 5,
   "metadata": {},
   "outputs": [
    {
     "name": "stdout",
     "output_type": "stream",
     "text": [
      "hello world\n"
     ]
    }
   ],
   "source": [
    "\n",
    "print(\"hello world\")"
   ]
  },
  {
   "cell_type": "code",
   "execution_count": 1,
   "metadata": {},
   "outputs": [
    {
     "name": "stdout",
     "output_type": "stream",
     "text": [
      "min+us\n"
     ]
    }
   ],
   "source": [
    "#Read multiple numbers separated by spaces on the same line from the user.\n",
    "#Change all spaces to a plus sign.\n",
    "#Print the resulting string to the user.\n",
    "#Read multiple numbers separated by spaces on the same line from the user.\n",
    "#Change all spaces to a plus sign.\n",
    "#Print the resulting string to the user.\n",
    "numbers = input()\n",
    "numbers = numbers.replace(' ','+')\n",
    "print(numbers)\n"
   ]
  },
  {
   "cell_type": "code",
   "execution_count": 11,
   "metadata": {},
   "outputs": [
    {
     "name": "stdout",
     "output_type": "stream",
     "text": [
      "hello world : hello whatever world\n",
      "words\n",
      "more words\n",
      "Var is: hello, var2 is: world\n"
     ]
    }
   ],
   "source": [
    "var = \"hello\"\n",
    "var2 = \"world\"\n",
    "print(var,var2,end=\" : \")\n",
    "print(var,var2,sep=\" whatever \")\n",
    "print('words'); print('more words')\n",
    "print(f'Var is: {var}, var2 is: {var2}')\n",
    "\n",
    "# CONTROL QUESTION MARK highlights multiple lines together. "
   ]
  },
  {
   "cell_type": "code",
   "execution_count": 12,
   "metadata": {},
   "outputs": [
    {
     "name": "stdout",
     "output_type": "stream",
     "text": [
      "The answer will be:  12\n"
     ]
    }
   ],
   "source": [
    "num1 = int(input(\"Enter the first number: \"))\n",
    "num2 = int(input(\"Enter the second number: \"))\n",
    "answer = num1 + num2\n",
    "print(\"The answer will be: \",answer)"
   ]
  },
  {
   "cell_type": "code",
   "execution_count": 14,
   "metadata": {},
   "outputs": [
    {
     "name": "stdout",
     "output_type": "stream",
     "text": [
      "i want this lower case\n",
      "I WANT THIS UPPER CASE\n"
     ]
    }
   ],
   "source": [
    "print('I WANT THIS LOWER CASE'.lower())\n",
    "print('i want this upper case'.upper())"
   ]
  },
  {
   "cell_type": "code",
   "execution_count": 26,
   "metadata": {},
   "outputs": [
    {
     "name": "stdout",
     "output_type": "stream",
     "text": [
      "25\n"
     ]
    }
   ],
   "source": [
    "def multiply():\n",
    "    number1 = int(input('number 1: '))\n",
    "    number2 = int(input('number 2: '))\n",
    "    return number1 * number2\n",
    "\n",
    "print(multiply())"
   ]
  },
  {
   "cell_type": "code",
   "execution_count": 32,
   "metadata": {},
   "outputs": [
    {
     "data": {
      "text/plain": [
       "'Hi you'"
      ]
     },
     "execution_count": 32,
     "metadata": {},
     "output_type": "execute_result"
    }
   ],
   "source": [
    "def multiply(number1, number2):\n",
    "    return number1 + number2\n",
    "\n",
    "multiply('Hi ','you')"
   ]
  },
  {
   "cell_type": "code",
   "execution_count": 49,
   "metadata": {},
   "outputs": [
    {
     "name": "stdout",
     "output_type": "stream",
     "text": [
      "Positive Odd\n"
     ]
    }
   ],
   "source": [
    "num = int(input())\n",
    "if num%2==0 and num<0:\n",
    "    print(\"Negative Even\")\n",
    "elif num%2==0 and num>0: \n",
    "    print(\"Positive Even\")\n",
    "elif num==0: \n",
    "    print(\"Zero\")\n",
    "elif num%2!=0 and num>0: \n",
    "    print(\"Positive Odd\")\n",
    "elif num%2!=0 and num<0: \n",
    "    print(\"Negative Odd\")\n"
   ]
  },
  {
   "cell_type": "code",
   "execution_count": 51,
   "metadata": {},
   "outputs": [
    {
     "name": "stdout",
     "output_type": "stream",
     "text": [
      "buzz\n"
     ]
    }
   ],
   "source": [
    "num = int(input())\n",
    "if(num%3!=0):\n",
    "    print('fizz')\n",
    "elif (num%5!=0):\n",
    "    print('buzz')\n",
    "elif (num%3!=0 and num%5!=0):\n",
    "    print('fizzbuzz')"
   ]
  },
  {
   "cell_type": "code",
   "execution_count": null,
   "metadata": {},
   "outputs": [],
   "source": [
    "def reverseit():\n",
    "    while True:\n",
    "        word=input()"
   ]
  },
  {
   "cell_type": "code",
   "execution_count": 68,
   "metadata": {},
   "outputs": [
    {
     "ename": "UnboundLocalError",
     "evalue": "local variable 'num' referenced before assignment",
     "output_type": "error",
     "traceback": [
      "\u001b[0;31m---------------------------------------------------------------------------\u001b[0m",
      "\u001b[0;31mUnboundLocalError\u001b[0m                         Traceback (most recent call last)",
      "\u001b[1;32m/home/mahlon.k.kirwa80/Desktop/PythonProgrammingClass/CYBOLC/class_notes.ipynb Cell 40\u001b[0m line \u001b[0;36m1\n\u001b[1;32m      <a href='vscode-notebook-cell:/home/mahlon.k.kirwa80/Desktop/PythonProgrammingClass/CYBOLC/class_notes.ipynb#X55sZmlsZQ%3D%3D?line=7'>8</a>\u001b[0m         \u001b[39melif\u001b[39;00m num\u001b[39m<\u001b[39mn:\n\u001b[1;32m      <a href='vscode-notebook-cell:/home/mahlon.k.kirwa80/Desktop/PythonProgrammingClass/CYBOLC/class_notes.ipynb#X55sZmlsZQ%3D%3D?line=8'>9</a>\u001b[0m             \u001b[39mprint\u001b[39m(\u001b[39m'\u001b[39m\u001b[39mtoo low\u001b[39m\u001b[39m'\u001b[39m)\n\u001b[0;32m---> <a href='vscode-notebook-cell:/home/mahlon.k.kirwa80/Desktop/PythonProgrammingClass/CYBOLC/class_notes.ipynb#X55sZmlsZQ%3D%3D?line=10'>11</a>\u001b[0m guess_number(\u001b[39m23\u001b[39;49m)\n",
      "\u001b[1;32m/home/mahlon.k.kirwa80/Desktop/PythonProgrammingClass/CYBOLC/class_notes.ipynb Cell 40\u001b[0m line \u001b[0;36m2\n\u001b[1;32m      <a href='vscode-notebook-cell:/home/mahlon.k.kirwa80/Desktop/PythonProgrammingClass/CYBOLC/class_notes.ipynb#X55sZmlsZQ%3D%3D?line=0'>1</a>\u001b[0m \u001b[39mdef\u001b[39;00m \u001b[39mguess_number\u001b[39m(n):\n\u001b[0;32m----> <a href='vscode-notebook-cell:/home/mahlon.k.kirwa80/Desktop/PythonProgrammingClass/CYBOLC/class_notes.ipynb#X55sZmlsZQ%3D%3D?line=1'>2</a>\u001b[0m     \u001b[39mwhile\u001b[39;00m num\u001b[39m!=\u001b[39mn:\n\u001b[1;32m      <a href='vscode-notebook-cell:/home/mahlon.k.kirwa80/Desktop/PythonProgrammingClass/CYBOLC/class_notes.ipynb#X55sZmlsZQ%3D%3D?line=2'>3</a>\u001b[0m         num \u001b[39m=\u001b[39m \u001b[39mint\u001b[39m(\u001b[39minput\u001b[39m())\n\u001b[1;32m      <a href='vscode-notebook-cell:/home/mahlon.k.kirwa80/Desktop/PythonProgrammingClass/CYBOLC/class_notes.ipynb#X55sZmlsZQ%3D%3D?line=3'>4</a>\u001b[0m         \u001b[39mif\u001b[39;00m num\u001b[39m==\u001b[39mn:\n",
      "\u001b[0;31mUnboundLocalError\u001b[0m: local variable 'num' referenced before assignment"
     ]
    }
   ],
   "source": [
    "def guess_number(n):\n",
    "\n",
    "    temp = True\n",
    "    while temp:\n",
    "        num = int(input())\n",
    "        if num==n:\n",
    "            print('WIN')\n",
    "            temp = False\n",
    "        elif num>n:\n",
    "            print('too high')\n",
    "        elif num<n:\n",
    "            print('too low')\n",
    "\n",
    "guess_number(23)\n",
    "\n",
    "\n"
   ]
  },
  {
   "cell_type": "code",
   "execution_count": null,
   "metadata": {},
   "outputs": [],
   "source": [
    "def guess_number(n):\n",
    "    num = input()\n",
    "    if num>=0 and num<=100:\n",
    "        print('WIN')\n",
    "        return\n",
    "    elif num>100:\n",
    "        print('too high')\n",
    "    elif num<0:\n",
    "        print('too low')\n",
    "\n",
    "guess_number(23)\n",
    "\n",
    "\n"
   ]
  },
  {
   "cell_type": "code",
   "execution_count": 79,
   "metadata": {},
   "outputs": [
    {
     "name": "stdout",
     "output_type": "stream",
     "text": [
      "s\n",
      "s\n",
      "a\n",
      "p\n",
      "s\n",
      "e\n",
      "r\n",
      "t\n"
     ]
    }
   ],
   "source": [
    "word=\"trespass\"\n",
    "\n",
    "for i in range(len(word)):\n",
    "    print(word[-i-1])\n",
    "\n",
    "\n"
   ]
  },
  {
   "cell_type": "code",
   "execution_count": 104,
   "metadata": {},
   "outputs": [
    {
     "name": "stdout",
     "output_type": "stream",
     "text": [
      "dcba dcba\n",
      "dcba dcba\n"
     ]
    },
    {
     "data": {
      "text/plain": [
       "['dcba dcba', 'dcba dcba']"
      ]
     },
     "execution_count": 104,
     "metadata": {},
     "output_type": "execute_result"
    }
   ],
   "source": [
    "def reverseit():\n",
    "    word2 = []\n",
    "    word4 = []\n",
    "    while True:\n",
    "        word = input()\n",
    "        if not word:\n",
    "            break\n",
    "\n",
    "        for i in range(len(word)):\n",
    "            word2.append(word[-i-1])\n",
    "\n",
    "        \n",
    "        word3 = ''.join(word2)\n",
    "        print(word3)\n",
    "        word4.append(word3)\n",
    "\n",
    "        word2.clear()\n",
    "        \n",
    "    return word4\n",
    "            \n"
   ]
  },
  {
   "cell_type": "code",
   "execution_count": 161,
   "metadata": {},
   "outputs": [
    {
     "name": "stdout",
     "output_type": "stream",
     "text": [
      "['cba', 'cba', 'cba']\n"
     ]
    }
   ],
   "source": [
    "def reverseit():\n",
    "    word2 = []\n",
    "    while True:\n",
    "        word = list(input())\n",
    "        if not word:\n",
    "            break\n",
    "        word.reverse()\n",
    "        word2.append(''.join(word))\n",
    "    print(word2)\n",
    "\n",
    "reverseit()"
   ]
  },
  {
   "cell_type": "code",
   "execution_count": 124,
   "metadata": {},
   "outputs": [
    {
     "name": "stdout",
     "output_type": "stream",
     "text": [
      "elephant\n",
      "['e', 'l', 'e', 'p', 'h', 'a', 'n', 't']\n",
      "['t', 'n', 'a', 'h', 'p', 'e', 'l', 'e']\n"
     ]
    }
   ],
   "source": [
    "nametemp = \"elephant\"\n",
    "print(nametemp)\n",
    "nametempnew = list(nametemp)\n",
    "print(nametempnew)\n",
    "nametempnew.reverse()\n",
    "print(nametempnew)"
   ]
  },
  {
   "cell_type": "code",
   "execution_count": 155,
   "metadata": {},
   "outputs": [
    {
     "name": "stdout",
     "output_type": "stream",
     "text": [
      "here we are\n"
     ]
    }
   ],
   "source": [
    "listNum = ['a','b','c','d','e','f']\n",
    "\n",
    "# for i in listNum:\n",
    "#     print(i)\n",
    "\n",
    "leng = len(listNum)\n",
    "\n",
    "print(\"here we are\")\n",
    "for i in range(leng, 0):\n",
    "    print(listNum[i])"
   ]
  },
  {
   "cell_type": "code",
   "execution_count": 164,
   "metadata": {},
   "outputs": [
    {
     "name": "stdout",
     "output_type": "stream",
     "text": [
      "['abc ', 'abc', 'abc']\n"
     ]
    }
   ],
   "source": [
    "def reverseit():\n",
    "    word2 = []\n",
    "    while True:\n",
    "        word = list(input())\n",
    "        if not word:\n",
    "            break\n",
    "        word2.append(''.join(word))\n",
    "    print(word2)\n",
    "\n",
    "reverseit()\n",
    "\n",
    "\n",
    "def user_io():\n",
    "    '''\n",
    "    Returns a list of items read from the user until the user enters an empty string.\n",
    "\n",
    "    Args:\n",
    "        None\n",
    "    Returns:\n",
    "        list: a list of strings\n",
    "    '''  \n",
    "    while True:  \n",
    "        word = list(input())\n",
    "        if not word:\n",
    "            break\n",
    "        return word\n"
   ]
  },
  {
   "cell_type": "code",
   "execution_count": null,
   "metadata": {},
   "outputs": [],
   "source": [
    "def code_points(strng):\n",
    "    listtemp_points = []\n",
    "    tempcode_points = list(strng)\n",
    "    for i in tempcode_points:\n",
    "        listtemp_points.append(ord(i))\n",
    "\n",
    "    return listtemp_points"
   ]
  },
  {
   "cell_type": "code",
   "execution_count": 200,
   "metadata": {},
   "outputs": [
    {
     "ename": "TypeError",
     "evalue": "'list' object is not callable",
     "output_type": "error",
     "traceback": [
      "\u001b[0;31m---------------------------------------------------------------------------\u001b[0m",
      "\u001b[0;31mTypeError\u001b[0m                                 Traceback (most recent call last)",
      "\u001b[1;32m/home/mahlon.k.kirwa80/Desktop/PythonProgrammingClass/CYBOLC/class_notes.ipynb Cell 49\u001b[0m line \u001b[0;36m4\n\u001b[1;32m      <a href='vscode-notebook-cell:/home/mahlon.k.kirwa80/Desktop/PythonProgrammingClass/CYBOLC/class_notes.ipynb#Y103sZmlsZQ%3D%3D?line=0'>1</a>\u001b[0m \u001b[39m# range(start, stop, step)\u001b[39;00m\n\u001b[1;32m      <a href='vscode-notebook-cell:/home/mahlon.k.kirwa80/Desktop/PythonProgrammingClass/CYBOLC/class_notes.ipynb#Y103sZmlsZQ%3D%3D?line=1'>2</a>\u001b[0m \u001b[39m#for i in range(10, -1, -1):\u001b[39;00m\n\u001b[1;32m      <a href='vscode-notebook-cell:/home/mahlon.k.kirwa80/Desktop/PythonProgrammingClass/CYBOLC/class_notes.ipynb#Y103sZmlsZQ%3D%3D?line=2'>3</a>\u001b[0m   \u001b[39m#print(i)\u001b[39;00m\n\u001b[0;32m----> <a href='vscode-notebook-cell:/home/mahlon.k.kirwa80/Desktop/PythonProgrammingClass/CYBOLC/class_notes.ipynb#Y103sZmlsZQ%3D%3D?line=3'>4</a>\u001b[0m temp \u001b[39m=\u001b[39m \u001b[39mlist\u001b[39;49m(\u001b[39mrange\u001b[39;49m(\u001b[39m20\u001b[39;49m,\u001b[39m31\u001b[39;49m))\n\u001b[1;32m      <a href='vscode-notebook-cell:/home/mahlon.k.kirwa80/Desktop/PythonProgrammingClass/CYBOLC/class_notes.ipynb#Y103sZmlsZQ%3D%3D?line=4'>5</a>\u001b[0m \u001b[39m#tempNew = temp.reverse()\u001b[39;00m\n\u001b[1;32m      <a href='vscode-notebook-cell:/home/mahlon.k.kirwa80/Desktop/PythonProgrammingClass/CYBOLC/class_notes.ipynb#Y103sZmlsZQ%3D%3D?line=5'>6</a>\u001b[0m \u001b[39m#print(tempNew)\u001b[39;00m\n\u001b[1;32m      <a href='vscode-notebook-cell:/home/mahlon.k.kirwa80/Desktop/PythonProgrammingClass/CYBOLC/class_notes.ipynb#Y103sZmlsZQ%3D%3D?line=7'>8</a>\u001b[0m \u001b[39mlist\u001b[39m \u001b[39m=\u001b[39m [\u001b[39m'\u001b[39m\u001b[39mone\u001b[39m\u001b[39m'\u001b[39m, \u001b[39m'\u001b[39m\u001b[39mtwo\u001b[39m\u001b[39m'\u001b[39m, \u001b[39m'\u001b[39m\u001b[39mthree\u001b[39m\u001b[39m'\u001b[39m, \u001b[39m'\u001b[39m\u001b[39mfour\u001b[39m\u001b[39m'\u001b[39m, \u001b[39m'\u001b[39m\u001b[39mfive\u001b[39m\u001b[39m'\u001b[39m]\n",
      "\u001b[0;31mTypeError\u001b[0m: 'list' object is not callable"
     ]
    }
   ],
   "source": [
    "# range(start, stop, step)\n",
    "#for i in range(10, -1, -1):\n",
    "  #print(i)\n",
    "temp = list(range(20,31))\n",
    "#tempNew = temp.reverse()\n",
    "#print(tempNew)\n",
    "\n",
    "list = ['one', 'two', 'three', 'four', 'five']\n",
    "\n",
    "#reversedList = list[::-1]\n",
    "#print(\"reversed list: \",reversedList)\n",
    "\n",
    "list[::-1]\n",
    "\n",
    "#anotherList = list[1:2:3]\n",
    "#print(\"Another list \", anotherList)\n",
    "#list[2:3]"
   ]
  },
  {
   "cell_type": "code",
   "execution_count": 203,
   "metadata": {},
   "outputs": [
    {
     "ename": "TypeError",
     "evalue": "'list' object is not callable",
     "output_type": "error",
     "traceback": [
      "\u001b[0;31m---------------------------------------------------------------------------\u001b[0m",
      "\u001b[0;31mTypeError\u001b[0m                                 Traceback (most recent call last)",
      "\u001b[1;32m/home/mahlon.k.kirwa80/Desktop/PythonProgrammingClass/CYBOLC/class_notes.ipynb Cell 50\u001b[0m line \u001b[0;36m1\n\u001b[1;32m     <a href='vscode-notebook-cell:/home/mahlon.k.kirwa80/Desktop/PythonProgrammingClass/CYBOLC/class_notes.ipynb#Y104sZmlsZQ%3D%3D?line=9'>10</a>\u001b[0m     newword \u001b[39m=\u001b[39m \u001b[39m'\u001b[39m\u001b[39m'\u001b[39m\u001b[39m.\u001b[39mjoin(emptyList)\n\u001b[1;32m     <a href='vscode-notebook-cell:/home/mahlon.k.kirwa80/Desktop/PythonProgrammingClass/CYBOLC/class_notes.ipynb#Y104sZmlsZQ%3D%3D?line=10'>11</a>\u001b[0m     \u001b[39mreturn\u001b[39;00m newword\n\u001b[0;32m---> <a href='vscode-notebook-cell:/home/mahlon.k.kirwa80/Desktop/PythonProgrammingClass/CYBOLC/class_notes.ipynb#Y104sZmlsZQ%3D%3D?line=12'>13</a>\u001b[0m leetString(\u001b[39m'\u001b[39;49m\u001b[39mCase\u001b[39;49m\u001b[39m'\u001b[39;49m)\n",
      "\u001b[1;32m/home/mahlon.k.kirwa80/Desktop/PythonProgrammingClass/CYBOLC/class_notes.ipynb Cell 50\u001b[0m line \u001b[0;36m3\n\u001b[1;32m      <a href='vscode-notebook-cell:/home/mahlon.k.kirwa80/Desktop/PythonProgrammingClass/CYBOLC/class_notes.ipynb#Y104sZmlsZQ%3D%3D?line=0'>1</a>\u001b[0m \u001b[39mdef\u001b[39;00m \u001b[39mleetString\u001b[39m(s):\n\u001b[1;32m      <a href='vscode-notebook-cell:/home/mahlon.k.kirwa80/Desktop/PythonProgrammingClass/CYBOLC/class_notes.ipynb#Y104sZmlsZQ%3D%3D?line=1'>2</a>\u001b[0m     emptyList \u001b[39m=\u001b[39m []\n\u001b[0;32m----> <a href='vscode-notebook-cell:/home/mahlon.k.kirwa80/Desktop/PythonProgrammingClass/CYBOLC/class_notes.ipynb#Y104sZmlsZQ%3D%3D?line=2'>3</a>\u001b[0m     lists \u001b[39m=\u001b[39m \u001b[39mlist\u001b[39;49m(s)\n\u001b[1;32m      <a href='vscode-notebook-cell:/home/mahlon.k.kirwa80/Desktop/PythonProgrammingClass/CYBOLC/class_notes.ipynb#Y104sZmlsZQ%3D%3D?line=4'>5</a>\u001b[0m     \u001b[39mfor\u001b[39;00m i \u001b[39min\u001b[39;00m \u001b[39mrange\u001b[39m(\u001b[39m0\u001b[39m,\u001b[39mlen\u001b[39m(lists)):\n\u001b[1;32m      <a href='vscode-notebook-cell:/home/mahlon.k.kirwa80/Desktop/PythonProgrammingClass/CYBOLC/class_notes.ipynb#Y104sZmlsZQ%3D%3D?line=5'>6</a>\u001b[0m         \u001b[39mif\u001b[39;00m(i\u001b[39m%\u001b[39m\u001b[39m2\u001b[39m\u001b[39m==\u001b[39m\u001b[39m0\u001b[39m):\n",
      "\u001b[0;31mTypeError\u001b[0m: 'list' object is not callable"
     ]
    }
   ],
   "source": [
    "def leetString(s):\n",
    "    emptyList = []\n",
    "    lists = list(s)\n",
    "\n",
    "    for i in range(0,len(lists)):\n",
    "        if(i%2==0):\n",
    "            emptyList.append(lists[i].upper())\n",
    "        if(i%2!=0):\n",
    "            emptyList.append(lists[i].lower())\n",
    "    newword = ''.join(emptyList)\n",
    "    return newword\n",
    "\n",
    "leetString('Case')"
   ]
  },
  {
   "cell_type": "code",
   "execution_count": 207,
   "metadata": {},
   "outputs": [
    {
     "name": "stdout",
     "output_type": "stream",
     "text": [
      "<class 'tuple'>\n"
     ]
    }
   ],
   "source": [
    "list = ['one', 'two', 'three', 'four', 'five']\n",
    "\n",
    "\n",
    "tuple(range(a,b,10))"
   ]
  },
  {
   "cell_type": "code",
   "execution_count": 212,
   "metadata": {},
   "outputs": [
    {
     "name": "stdout",
     "output_type": "stream",
     "text": [
      "12\n",
      "[1, 2, 3, 5, 7, 11]\n",
      "[13, 17, 19, 23, 29, 31]\n"
     ]
    }
   ],
   "source": [
    "primes = [1, 2, 3, 5, 7, 11, 13, 17, 19, 23, 29, 31]\n",
    "print(len(primes))\n",
    "one = primes[0:6]\n",
    "two = primes[6:12]\n",
    "print(one)\n",
    "print(two)"
   ]
  },
  {
   "cell_type": "code",
   "execution_count": 2,
   "metadata": {},
   "outputs": [
    {
     "name": "stdout",
     "output_type": "stream",
     "text": [
      "line 1\n",
      "line 2\n",
      "line 3\n"
     ]
    }
   ],
   "source": [
    "file = open('database.txt')\n",
    "print(file.read())\n",
    "file.close()"
   ]
  },
  {
   "cell_type": "code",
   "execution_count": 16,
   "metadata": {},
   "outputs": [
    {
     "name": "stdout",
     "output_type": "stream",
     "text": [
      "line 1\n",
      "line 2\n",
      "line 3\n",
      "20\n",
      "line 1\n",
      "line 2\n",
      "line 3\n",
      "20\n"
     ]
    }
   ],
   "source": [
    "with open('/home/mahlon.k.kirwa80/Desktop/PythonProgrammingClass/CYBOLC/database.txt','r') as test:\n",
    "    #print(test.read(5)) # Reads through the first 5 bytes\n",
    "    #print(test.readline()) # Reads one line at a time.... Has to be called over and over and over\n",
    "    #print(test.readlines()) # Reads all the lines in one line ['line 1\\n', 'line 2\\n', 'line 3']\n",
    "    print(test.read())\n",
    "    print(test.tell()) # Tells you where you are with the file \n",
    "    test.seek(0)\n",
    "    print(test.read())\n",
    "    print(test.tell())\n"
   ]
  },
  {
   "cell_type": "code",
   "execution_count": 21,
   "metadata": {},
   "outputs": [],
   "source": [
    "with open('new.txt','w') as new:\n",
    "    new.write('line 1\\n')\n",
    "    new.write('line 2')"
   ]
  },
  {
   "cell_type": "code",
   "execution_count": 23,
   "metadata": {},
   "outputs": [],
   "source": [
    "with open('new.txt','w') as new:\n",
    "    lines = ['line 1\\n','line 2\\n','line 3\\n']\n",
    "    new.writelines(lines)"
   ]
  },
  {
   "cell_type": "code",
   "execution_count": 24,
   "metadata": {},
   "outputs": [],
   "source": [
    "with open('new.txt','a') as new:\n",
    "    lines = ['line 4\\n']\n",
    "    new.writelines(lines)"
   ]
  },
  {
   "cell_type": "code",
   "execution_count": 39,
   "metadata": {},
   "outputs": [
    {
     "name": "stdout",
     "output_type": "stream",
     "text": [
      "line45\n",
      "\n"
     ]
    }
   ],
   "source": [
    "with open('file.txt','w+') as file:\n",
    "    file.write('line45\\n')\n",
    "    file.seek(0) # Changes the file back to the top!!! \n",
    "    print(file.read())"
   ]
  },
  {
   "cell_type": "code",
   "execution_count": 30,
   "metadata": {},
   "outputs": [
    {
     "name": "stdout",
     "output_type": "stream",
     "text": [
      "line 1\n",
      "line 2\n",
      "line 3\n",
      "line 4\n",
      "\n"
     ]
    }
   ],
   "source": [
    "with open('new.txt','r') as new, open('copy.txt', 'w+') as copy:\n",
    "    copy.write(new.read())\n",
    "    copy.seek(0)\n",
    "    print(copy.read())"
   ]
  },
  {
   "cell_type": "code",
   "execution_count": 33,
   "metadata": {},
   "outputs": [
    {
     "name": "stdout",
     "output_type": "stream",
     "text": [
      " 1\n",
      "line 2\n",
      "line 3\n",
      "line 4\n",
      "\n"
     ]
    }
   ],
   "source": [
    "with open('new.txt','r+') as new:\n",
    "    new.write('this')\n",
    "    print(new.read())"
   ]
  },
  {
   "cell_type": "code",
   "execution_count": 41,
   "metadata": {},
   "outputs": [],
   "source": [
    "\n",
    "\n",
    "# def tough_read(fname):\n",
    "#     integers = []\n",
    "#     unicode_string = []\n",
    "#     with open(fname, 'r') as f:\n",
    "#         binary_string = f.read()\n",
    "    \n",
    "#     # convert the string into integers\n",
    "#     for b in binary_string:\n",
    "#         integers.append(int(float((b))))\n",
    "    \n",
    "#     # convert the integers into unicode string\n",
    "#     for i in integers:\n",
    "#         unicode_string.append(chr(i))\n",
    "\n",
    "#     # join the unicode into a string\n",
    "#     unicode_string_final = ''.join(unicode_string)\n",
    "    \n",
    "#     print(unicode_string_final\n",
    "#           )\n",
    "#     return unicode_string_final\n",
    "            \n",
    "# tough_read('assignment.txt')"
   ]
  },
  {
   "cell_type": "code",
   "execution_count": 50,
   "metadata": {},
   "outputs": [
    {
     "name": "stdout",
     "output_type": "stream",
     "text": [
      "27\n"
     ]
    }
   ],
   "source": [
    "import math\n",
    "#dir(math)\n",
    "\n",
    "math.pi\n",
    "math.sqrt(25)\n",
    "\n",
    "import random \n",
    "lst = [1,2,3,4,5,6]\n",
    "\n",
    "rand_num = random.choice(lst)\n",
    "\n",
    "rand_num_1 = random.randint(0,100)\n",
    "print(rand_num_1)"
   ]
  },
  {
   "cell_type": "code",
   "execution_count": 53,
   "metadata": {},
   "outputs": [
    {
     "data": {
      "text/plain": [
       "8"
      ]
     },
     "execution_count": 53,
     "metadata": {},
     "output_type": "execute_result"
    }
   ],
   "source": [
    "\n",
    "from random import choice \n",
    "choice(lst)\n",
    "\n",
    "from random import randint as RANDnum\n",
    "RANDnum(0,90)"
   ]
  },
  {
   "cell_type": "code",
   "execution_count": 57,
   "metadata": {},
   "outputs": [
    {
     "data": {
      "text/plain": [
       "'math'"
      ]
     },
     "execution_count": 57,
     "metadata": {},
     "output_type": "execute_result"
    }
   ],
   "source": [
    "\n",
    "# __ ---> dunda double underscore --> \n",
    "math.__name__"
   ]
  },
  {
   "cell_type": "code",
   "execution_count": 58,
   "metadata": {},
   "outputs": [
    {
     "name": "stdout",
     "output_type": "stream",
     "text": [
      "[0, 7, 9, 13, 20, 55, 91]\n"
     ]
    }
   ],
   "source": [
    "numlist = [13,9,0,7,55,20,91]\n",
    "numlist.sort()\n",
    "print(numlist)"
   ]
  },
  {
   "cell_type": "code",
   "execution_count": 59,
   "metadata": {},
   "outputs": [
    {
     "name": "stdout",
     "output_type": "stream",
     "text": [
      "[91, 55, 20, 13, 9, 7, 0]\n"
     ]
    }
   ],
   "source": [
    "numlist = [13,9,0,7,55,20,91]\n",
    "numlist.sort(reverse=True)\n",
    "print(numlist)"
   ]
  },
  {
   "cell_type": "code",
   "execution_count": 61,
   "metadata": {},
   "outputs": [
    {
     "name": "stdout",
     "output_type": "stream",
     "text": [
      "[91, 85, 55, 47, 20, 13, 9, 7, 0]\n"
     ]
    }
   ],
   "source": [
    "numlist = [13,9,0,85,47,7,55,20,91]\n",
    "reverse_numlist = sorted(numlist, reverse=True)\n",
    "print(reverse_numlist)"
   ]
  },
  {
   "cell_type": "code",
   "execution_count": 67,
   "metadata": {},
   "outputs": [
    {
     "name": "stdout",
     "output_type": "stream",
     "text": [
      "70\n",
      "98\n",
      "86\n",
      "65\n",
      "['Audi', 'Ford', 'bMW', 'volvo']\n",
      "['Audi', 'bMW', 'Ford', 'volvo']\n",
      "['Audi', 'BMW', 'Ford', 'Volvo']\n"
     ]
    }
   ],
   "source": [
    "cars = ['Ford','bMW','volvo','Audi']\n",
    "print(ord('F'))\n",
    "print(ord('b'))\n",
    "print(ord('V'))\n",
    "print(ord('A'))\n",
    "print(sorted(cars))\n",
    "print(sorted(cars, key=str.upper))\n",
    "\n",
    "cars = ['Ford','BMW','Volvo','Audi']\n",
    "print(sorted(cars, key=str.upper))\n",
    "\n"
   ]
  },
  {
   "cell_type": "markdown",
   "metadata": {},
   "source": []
  },
  {
   "cell_type": "code",
   "execution_count": 69,
   "metadata": {},
   "outputs": [
    {
     "name": "stdout",
     "output_type": "stream",
     "text": [
      "Volvo\n",
      "Ford\n",
      "Audi\n",
      "BMW\n"
     ]
    }
   ],
   "source": [
    "cars = ['Ford','BMW','Volvo','Audi']\n",
    "for i in sorted(cars, key=len, reverse=True):\n",
    "    print(i)\n"
   ]
  },
  {
   "cell_type": "code",
   "execution_count": 71,
   "metadata": {},
   "outputs": [
    {
     "name": "stdout",
     "output_type": "stream",
     "text": [
      "['BMW', 'Ford', 'Volvo', 'Audi']\n",
      "77\n",
      "111\n",
      "111\n",
      "117\n"
     ]
    }
   ],
   "source": [
    "# Sort the list based on the SECOND letter of each word\n",
    "cars = ['Ford','BMW','Volvo','Audi']\n",
    "\n",
    "def second_letter(car):\n",
    "    return car[1]\n",
    "\n",
    "print(sorted(cars, key=second_letter))\n",
    "print(ord('M'))\n",
    "print(ord('o'))\n",
    "print(ord('o'))\n",
    "print(ord('u'))"
   ]
  },
  {
   "cell_type": "code",
   "execution_count": 72,
   "metadata": {},
   "outputs": [
    {
     "name": "stdout",
     "output_type": "stream",
     "text": [
      "wrong name\n"
     ]
    }
   ],
   "source": [
    "code = 'def foo(x):\\n print(123)'\n",
    "\n",
    "if \"validate\" not in code:\n",
    "    print(\"wrong name\")"
   ]
  },
  {
   "cell_type": "code",
   "execution_count": 77,
   "metadata": {},
   "outputs": [
    {
     "name": "stdout",
     "output_type": "stream",
     "text": [
      "{0, 1, 2, 3, 4, 5, 100, 99}\n"
     ]
    }
   ],
   "source": [
    "s = {1,2,3,4,5}\n",
    "s.add(100)\n",
    "s.add(0)\n",
    "s.add(99)\n",
    "print(s)"
   ]
  },
  {
   "cell_type": "code",
   "execution_count": 81,
   "metadata": {},
   "outputs": [
    {
     "data": {
      "text/plain": [
       "{0, 1, 2, 3, 4, 5, 6, 7, 8, 9}"
      ]
     },
     "execution_count": 81,
     "metadata": {},
     "output_type": "execute_result"
    }
   ],
   "source": [
    "s = {1,2,3,4,5}\n",
    "t = {4,5,6,7,8}\n",
    "u = {0,2,9}\n",
    "\n",
    "s.union(t) # Combines two sets \n",
    "t.difference(s) # Shows the difference \n",
    "s.intersection(t) \n",
    "s.union(t,u)\n",
    "\n",
    "\n"
   ]
  },
  {
   "cell_type": "code",
   "execution_count": 102,
   "metadata": {},
   "outputs": [
    {
     "name": "stdout",
     "output_type": "stream",
     "text": [
      "233333\n"
     ]
    }
   ],
   "source": [
    "crayons = {'red':'apple','yellow':'lemon','purple':'grape', 'green':'grape'}\n",
    "#print(crayons)\n",
    "#print(crayons.keys())\n",
    "#print(crayons.values())\n",
    "#print(crayons.items())\n",
    "\n",
    "crayons['red'] # Accessing using key \n",
    "\n",
    "crayons['orange'] = 'mango' # Adding a key, value\n",
    "\n",
    "del crayons['red'] # deleting a key value pair in a dictionary \n",
    "\n",
    "'grape' in crayons.values() # checking if something is in values in python\n",
    "\n",
    "# Iterating over a dictionanry \n",
    "for key in crayons:\n",
    "    new_key = key\n",
    "\n",
    "for key in crayons: # Accessing values using keys \n",
    "    new_key_1, new_key_2 = key, crayons[key]\n",
    "\n",
    "\n",
    "for key, values in crayons.items(): # Accessing key and values ... \n",
    "    new_key_2, new_value_2 = key,values\n",
    "\n",
    "found_or_not_found = crayons.get('blue', 'not found in list')# Searching through a dictionary to find if something exits \n",
    "\n",
    "\n",
    "lottery = {'Mega Millions':11111, 'GA lotter':222222}\n",
    "\n",
    "total = 0\n",
    "\n",
    "for i in lottery.values():\n",
    "    total+=i\n",
    "\n",
    "lottery_sum_total = sum(lottery.values())\n",
    "print(lottery_sum_total)\n"
   ]
  },
  {
   "cell_type": "code",
   "execution_count": 106,
   "metadata": {},
   "outputs": [
    {
     "data": {
      "text/plain": [
       "-11"
      ]
     },
     "execution_count": 106,
     "metadata": {},
     "output_type": "execute_result"
    }
   ],
   "source": [
    "def subtract(a,b):\n",
    "    return a - b \n",
    "\n",
    "subtract(a=8,b=7)\n",
    "subtract(b=6,a=8)\n",
    "subtract(9, b = 20)"
   ]
  },
  {
   "cell_type": "code",
   "execution_count": 113,
   "metadata": {},
   "outputs": [
    {
     "name": "stdout",
     "output_type": "stream",
     "text": [
      "10 20 30 40\n",
      "Sum of a:10 + b:20 + c:0 + d:0 is 30\n",
      "Sum of a:100 + b:10 + c:20 + d:0 is 130\n",
      "Sum of a:10 + b:20 + c:30 + d:40 is 100\n",
      "Sum of a:10 + b:20 + c:0 + d:0 is 30\n"
     ]
    }
   ],
   "source": [
    "lst = [10,20,30,40] \n",
    "lst2 = [10,20] \n",
    "print(*lst) #unpacking a list \n",
    "\n",
    "def doSum(a, b, c=0, d = 0):\n",
    "    print(f'Sum of a:{a} + b:{b} + c:{c} + d:{d} is {a+b+c+d}')\n",
    "\n",
    "doSum(*lst2)\n",
    "doSum(100,*lst2)\n",
    "\n",
    "\n",
    "d = {'a':10, 'b':20, 'c':30, 'd':40}\n",
    "d2 = {'a':10, 'b':20}\n",
    "doSum(**d)\n",
    "doSum(**d2)\n",
    "\n"
   ]
  },
  {
   "cell_type": "code",
   "execution_count": 127,
   "metadata": {},
   "outputs": [
    {
     "name": "stdout",
     "output_type": "stream",
     "text": [
      "709492\n",
      "100\n"
     ]
    }
   ],
   "source": [
    "def doSum(*args):\n",
    "    answer = 0 \n",
    "    for i in args:\n",
    "        answer += i\n",
    "    print(answer)\n",
    "\n",
    "doSum(1,2,3,4,5,56,85,96,455555,253685)\n",
    "lst = [10,20,30,40] \n",
    "doSum(*lst)"
   ]
  },
  {
   "cell_type": "code",
   "execution_count": 128,
   "metadata": {},
   "outputs": [
    {
     "data": {
      "text/plain": [
       "709492"
      ]
     },
     "execution_count": 128,
     "metadata": {},
     "output_type": "execute_result"
    }
   ],
   "source": [
    "def doSum3(*args):\n",
    "    answer = sum (args)\n",
    "    return answer\n",
    "\n",
    "doSum3(1,2,3,4,5,56,85,96,455555,253685)"
   ]
  },
  {
   "cell_type": "code",
   "execution_count": 132,
   "metadata": {},
   "outputs": [
    {
     "name": "stdout",
     "output_type": "stream",
     "text": [
      "The color red tastes like apple!\n",
      "The color green tastes like grape!\n",
      "\n",
      "\n",
      "The color red tastes like apple!\n",
      "The color yellow tastes like lemon!\n",
      "The color purple tastes like grape!\n",
      "The color green tastes like grape!\n"
     ]
    }
   ],
   "source": [
    "crayons = {'red':'apple','yellow':'lemon','purple':'grape', 'green':'grape'}\n",
    "\n",
    "def buildbox(**kwargs):\n",
    "    for key, value in kwargs.items():\n",
    "        print(f'The color {key} tastes like {value}!')\n",
    "\n",
    "buildbox(red='apple',green='grape')\n",
    "print(\"\\n\")\n",
    "buildbox(**crayons)"
   ]
  },
  {
   "cell_type": "code",
   "execution_count": 133,
   "metadata": {},
   "outputs": [
    {
     "name": "stdout",
     "output_type": "stream",
     "text": [
      "1\n",
      "2\n",
      "3\n",
      "\n",
      "\n",
      "5\n",
      "word\n"
     ]
    }
   ],
   "source": [
    "# * extracts unlimited number of positional arguments \n",
    "# ** extracts values ....\n",
    "def multiple_args(*args, **kwargs):\n",
    "    for arg in args:\n",
    "        print(arg)\n",
    "    \n",
    "    print(\"\\n\")\n",
    "\n",
    "    for value in kwargs.values():\n",
    "        print(value)\n",
    "\n",
    "multiple_args(1,2,3, a=5, b='word')"
   ]
  },
  {
   "cell_type": "code",
   "execution_count": 140,
   "metadata": {},
   "outputs": [
    {
     "name": "stdout",
     "output_type": "stream",
     "text": [
      "1\n",
      "2\n",
      "3\n",
      "a=5\n",
      "b=word\n"
     ]
    }
   ],
   "source": [
    "def infinitearguments(*args, **kwargs):\n",
    "    for arg in args:\n",
    "        print(arg)\n",
    "    \n",
    "    myKeys = list(kwargs.keys())\n",
    "    myKeys.sort()\n",
    "    sorted_dict = {i: kwargs[i] for i in myKeys}\n",
    "    \n",
    "    for key, value in sorted_dict.items():\n",
    "        print(f'{key}={value}')\n",
    "\n",
    "infinitearguments(1,2,3, a=5, b='word')"
   ]
  },
  {
   "cell_type": "code",
   "execution_count": null,
   "metadata": {},
   "outputs": [],
   "source": [
    "def diffwords(fname, words):\n",
    "    file_ = open(fname, \"r\")\n",
    "    content = file_.read()\n",
    "    content_new = set(content.read().split())\n",
    "    not_unique = filter(lambda x:str(x).__contains__(words), content.split())\n",
    "    return not_unique\n",
    "\n",
    "def diffwords(fname, words):\n",
    "    with open(fname, 'r') as filein:\n",
    "        text = set(filein.read().split())\n",
    "        diff = text.difference(words)\n",
    "    \n",
    "    return diff"
   ]
  },
  {
   "cell_type": "code",
   "execution_count": null,
   "metadata": {},
   "outputs": [],
   "source": [
    "def count_words(filepath):\n",
    "    \n",
    "    with open(filepath, 'r') as new_file:\n",
    "        read_new_file = new_file.read()\n",
    "    \n",
    "    # Create an empty dictionary \n",
    "    d = dict() \n",
    "\n",
    "    # Loop through each line of the file \n",
    "    for line in read_new_file: \n",
    "        # Remove the leading spaces and newline character \n",
    "        line = line.strip() \n",
    "    \n",
    "        # Convert the characters in line to \n",
    "        # lowercase to avoid case mismatch \n",
    "        #line = line.lower() \n",
    "    \n",
    "        # Split the line into words \n",
    "        words = line.split(\" \") \n",
    "\n",
    "        # Iterate over each word in line \n",
    "        for word in words: \n",
    "            # Check if the word is already in dictionary \n",
    "            if word in d: \n",
    "                # Increment count of word by 1 \n",
    "                d[word] = d[word] + 1\n",
    "            else: \n",
    "                # Add the word to dictionary with count 1 \n",
    "                d[word] = 1\n",
    "\n",
    "    return d\n",
    "    # Print the contents of dictionary \n",
    "    #for key in list(d.keys()): \n",
    "        #print(key, \":\", d[key]) \n",
    "\n",
    "\n",
    "count_words()"
   ]
  }
 ],
 "metadata": {
  "kernelspec": {
   "display_name": "Python 3",
   "language": "python",
   "name": "python3"
  },
  "language_info": {
   "codemirror_mode": {
    "name": "ipython",
    "version": 3
   },
   "file_extension": ".py",
   "mimetype": "text/x-python",
   "name": "python",
   "nbconvert_exporter": "python",
   "pygments_lexer": "ipython3",
   "version": "3.8.10"
  }
 },
 "nbformat": 4,
 "nbformat_minor": 2
}
